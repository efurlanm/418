{
 "cells": [
  {
   "cell_type": "markdown",
   "id": "c49d80ac-d7d0-4544-9803-3e93f28ea9c0",
   "metadata": {
    "tags": []
   },
   "source": [
    "# HANDS-ON 02\n",
    "\n",
    "2023-04-09\n",
    "\n",
    "## The Laplace transform\n",
    "\n",
    "The Laplace transform is an integral transform that converts a function of a real variable, usually $t$ in the time domain, into a function of a complex variable $s$ in the complex frequency domain, and has many applications in science and engineering as a tool for solving differential equations, including transforming ordinary differential equations into algebraic equations and convolution into multiplication ([Wikipedia](https://en.wikipedia.org/wiki/Laplace_transform)).\n",
    "\n",
    "Considering a function $f$, one can define the Laplace transform as the integral\n",
    "\n",
    "$ \\displaystyle \\mathcal L \\{f\\}(s) = \\int_0^\\infty f(t) e^{-st} dt $"
   ]
  },
  {
   "cell_type": "markdown",
   "id": "48440fb8-224b-412c-b16f-4b49294bb9ec",
   "metadata": {},
   "source": [
    "## Sympy\n",
    "\n",
    "[SymPy](https://en.wikipedia.org/wiki/SymPy) is an open source Python library for symbolic computing, providing computer algebra capabilities, written entirely in Python with few dependencies, easy to access, and with a simple and extensible code base. The Sympy library was used to solve most of the problems in this work, and some *methods* are:"
   ]
  },
  {
   "cell_type": "markdown",
   "id": "b5678b14-a63b-463d-8eb4-6e6da637fafc",
   "metadata": {},
   "source": [
    "**laplace_transform** : compute the Laplace Transform $F(s)$ of $f(t)$, defined as\n",
    "\n",
    "$ \\displaystyle F(s) = \\int_{0^{-}}^\\infty e^{-st} f(t) \\mathrm{d}t $"
   ]
  },
  {
   "cell_type": "markdown",
   "id": "2e04a6b8-fded-461d-92d9-f3e0792521cd",
   "metadata": {},
   "source": [
    "**inverse_laplace_transform** : compute the inverse Laplace transform of $ F(s) $, defined as\n",
    "\n",
    "$  \\displaystyle f(t) = \\frac{1}{2\\pi i} \\int_{c-i\\infty}^{c+i\\infty} e^{st} F(s) \\mathrm{d}s $"
   ]
  },
  {
   "cell_type": "markdown",
   "id": "d076cd07-8d78-424f-9acb-8ab1e81c6a40",
   "metadata": {},
   "source": [
    "**dsolve** : solves any (supported) kind of ordinary differential equation and system of ordinary differential equations. You can specify the set of initial conditions (IC) or boundary conditions for the differential equation."
   ]
  },
  {
   "cell_type": "markdown",
   "id": "3774c2ae-84fd-4349-9fae-a440c33e1bcf",
   "metadata": {},
   "source": [
    "**apart** : performs a partial fraction decomposition on a rational function."
   ]
  },
  {
   "cell_type": "markdown",
   "id": "748752aa-abfb-420a-bcb7-46facd9deeff",
   "metadata": {},
   "source": [
    "**solve** : solves algebraic equations, assuming all equations equal 0."
   ]
  },
  {
   "cell_type": "markdown",
   "id": "48a05c5a-a11b-4797-9d92-3f4b7377e42f",
   "metadata": {},
   "source": [
    "**subs** : replaces all instances of something in an expression with something else."
   ]
  },
  {
   "cell_type": "markdown",
   "id": "ce8ce58f-5e51-484b-a5cb-2bede8a968b4",
   "metadata": {},
   "source": [
    "## Load libraries"
   ]
  },
  {
   "cell_type": "code",
   "execution_count": 3,
   "id": "a0cb119f-522d-42cd-9d6d-423d1f401ab5",
   "metadata": {},
   "outputs": [
    {
     "data": {
      "text/plain": [
       "'1.11.1'"
      ]
     },
     "execution_count": 3,
     "metadata": {},
     "output_type": "execute_result"
    }
   ],
   "source": [
    "import sympy as sp, math as mt\n",
    "\n",
    "x, s, t = sp.symbols('x, s, t')\n",
    "k = sp.symbols('k', real=True, positive=True)\n",
    "f = sp.symbols('f', cls=sp.Function)\n",
    "\n",
    "sp.__version__"
   ]
  },
  {
   "cell_type": "markdown",
   "id": "431a3380-0422-4f7d-8fd1-ba3494fd42ec",
   "metadata": {},
   "source": [
    "## Inverse Laplace transform\n",
    "\n",
    "For each of the problems, find the inverse Laplace transform of the given function\n",
    "\n",
    "### Exercise \"2.1\""
   ]
  },
  {
   "cell_type": "markdown",
   "id": "57c3d697-f47f-4b3e-88d7-8124b950e8a0",
   "metadata": {},
   "source": [
    "$ \\displaystyle \\frac {2} {s^2 + 2s + 5} $"
   ]
  },
  {
   "cell_type": "markdown",
   "id": "14da6a48-a08b-471f-b760-d417946e1367",
   "metadata": {},
   "source": [
    "Equivalent Python/Sympy expression:"
   ]
  },
  {
   "cell_type": "code",
   "execution_count": 7,
   "id": "d5dfffae-93ac-4801-8bfe-f2d1d4eb7825",
   "metadata": {},
   "outputs": [
    {
     "data": {
      "text/latex": [
       "$\\displaystyle \\frac{2}{s^{2} + 2 s + 5}$"
      ],
      "text/plain": [
       "2/(s**2 + 2*s + 5)"
      ]
     },
     "execution_count": 7,
     "metadata": {},
     "output_type": "execute_result"
    }
   ],
   "source": [
    "f = 2 / (s**2 + 2 * s + 5)\n",
    "f"
   ]
  },
  {
   "cell_type": "markdown",
   "id": "f8d9c07d-cbbc-4daf-83e9-ba77facecbda",
   "metadata": {},
   "source": [
    "Compute the inverse Laplace transform:"
   ]
  },
  {
   "cell_type": "code",
   "execution_count": 8,
   "id": "c7e22c50-b2de-43d1-a2b6-7d162a3c6590",
   "metadata": {},
   "outputs": [
    {
     "data": {
      "text/latex": [
       "$\\displaystyle e^{- t} \\sin{\\left(2 t \\right)} \\theta\\left(t\\right)$"
      ],
      "text/plain": [
       "exp(-t)*sin(2*t)*Heaviside(t)"
      ]
     },
     "execution_count": 8,
     "metadata": {},
     "output_type": "execute_result"
    }
   ],
   "source": [
    "sp.inverse_laplace_transform(f, s, t)"
   ]
  },
  {
   "cell_type": "markdown",
   "id": "e96b762a-60c7-4811-b759-1a2644f32bb5",
   "metadata": {},
   "source": [
    "where $\\theta$ is the [Heaviside step function](https://en.wikipedia.org/wiki/Heaviside_step_function) whose value is zero for negative arguments and one for positive. It is used to force the result to be equal to zero before $t = 0$, following the the Laplace transform rules."
   ]
  },
  {
   "cell_type": "markdown",
   "id": "ecb281b4-079c-426d-89f2-858975a6bd14",
   "metadata": {},
   "source": [
    "### Exercise 2.2"
   ]
  },
  {
   "cell_type": "markdown",
   "id": "d2f9520d-1a5c-4a2a-877f-503b6982178b",
   "metadata": {},
   "source": [
    "$ \\displaystyle \\frac {2s - 3} {s^2 -4} $"
   ]
  },
  {
   "cell_type": "code",
   "execution_count": 24,
   "id": "8288f717-d03c-41e2-b8dc-52d5907d9ad1",
   "metadata": {},
   "outputs": [
    {
     "data": {
      "text/latex": [
       "$\\displaystyle \\frac{2 s - 3}{s^{2} - 4}$"
      ],
      "text/plain": [
       "(2*s - 3)/(s**2 - 4)"
      ]
     },
     "execution_count": 24,
     "metadata": {},
     "output_type": "execute_result"
    }
   ],
   "source": [
    "f = (2 * s - 3) / (s**2 - 4)\n",
    "f"
   ]
  },
  {
   "cell_type": "code",
   "execution_count": 25,
   "id": "aa840156-c5a3-4fc4-ad25-ea2e4f4980f8",
   "metadata": {},
   "outputs": [
    {
     "data": {
      "text/latex": [
       "$\\displaystyle \\frac{\\left(e^{4 t} + 7\\right) e^{- 2 t} \\theta\\left(t\\right)}{4}$"
      ],
      "text/plain": [
       "(exp(4*t) + 7)*exp(-2*t)*Heaviside(t)/4"
      ]
     },
     "execution_count": 25,
     "metadata": {},
     "output_type": "execute_result"
    }
   ],
   "source": [
    "sp.inverse_laplace_transform(f, s, t)"
   ]
  },
  {
   "cell_type": "markdown",
   "id": "c1682907-d9cd-4060-a634-8f35a617e033",
   "metadata": {},
   "source": [
    "### Exercise 2.3"
   ]
  },
  {
   "cell_type": "markdown",
   "id": "0b4305eb-d763-403a-a917-83cafa83de5d",
   "metadata": {},
   "source": [
    "$ \\displaystyle \\frac {1 - 2s} {s^2 + 4s + 5} $"
   ]
  },
  {
   "cell_type": "code",
   "execution_count": 11,
   "id": "21d885c3-e60c-4954-8c31-4c38b4fc105b",
   "metadata": {},
   "outputs": [
    {
     "data": {
      "text/latex": [
       "$\\displaystyle \\frac{1 - 2 s}{s^{2} + 4 s + 5}$"
      ],
      "text/plain": [
       "(1 - 2*s)/(s**2 + 4*s + 5)"
      ]
     },
     "execution_count": 11,
     "metadata": {},
     "output_type": "execute_result"
    }
   ],
   "source": [
    "f = (1 - 2 * s) / (s**2 + 4 * s + 5)\n",
    "f"
   ]
  },
  {
   "cell_type": "code",
   "execution_count": 12,
   "id": "eb6d6bab-2975-4846-b79c-608074336097",
   "metadata": {},
   "outputs": [
    {
     "data": {
      "text/latex": [
       "$\\displaystyle \\left(5 \\sin{\\left(t \\right)} - 2 \\cos{\\left(t \\right)}\\right) e^{- 2 t} \\theta\\left(t\\right)$"
      ],
      "text/plain": [
       "(5*sin(t) - 2*cos(t))*exp(-2*t)*Heaviside(t)"
      ]
     },
     "execution_count": 12,
     "metadata": {},
     "output_type": "execute_result"
    }
   ],
   "source": [
    "sp.inverse_laplace_transform(f, s, t)"
   ]
  },
  {
   "cell_type": "markdown",
   "id": "ff1a5eb4-64bb-4e5f-8dec-5f6b60add5c7",
   "metadata": {},
   "source": [
    "## Solving manually, and using Sympy"
   ]
  },
  {
   "cell_type": "markdown",
   "id": "220449c7-5524-4575-a067-ed82b528cc2f",
   "metadata": {},
   "source": [
    "### Exercise 2.4"
   ]
  },
  {
   "cell_type": "markdown",
   "id": "b3057efd-7e8b-4234-92cf-fd29c53b83c4",
   "metadata": {},
   "source": [
    "$ \\displaystyle \\frac {d^2 f(x)} {dx^2} + f(x) = 0 \\ , \\ \\ f(0)=1, f'(0) = 0 $"
   ]
  },
  {
   "cell_type": "markdown",
   "id": "120734df-e49a-4cbb-b1cc-b3e75ba98162",
   "metadata": {},
   "source": [
    "#### Solving manually"
   ]
  },
  {
   "cell_type": "markdown",
   "id": "be22f951-05b9-459f-88c8-28a8735534d1",
   "metadata": {},
   "source": [
    "$f''(x) + f(x) = 0$"
   ]
  },
  {
   "cell_type": "markdown",
   "id": "b7d1be09-3a12-47d1-a5a2-419f355abd6d",
   "metadata": {},
   "source": [
    "$ L[f''(x)] + L[f(x)] = 0 $"
   ]
  },
  {
   "cell_type": "markdown",
   "id": "6350bdb3-be00-4de1-80db-6cf932deb350",
   "metadata": {},
   "source": [
    "$s^2 L [f(x)] - s f(0) - f'(0) + L [f(x)] = 0 $"
   ]
  },
  {
   "cell_type": "markdown",
   "id": "9dcc74d6-06ff-4828-8dcf-336a094e4fb2",
   "metadata": {},
   "source": [
    "substituting the initial conditions into the equation:"
   ]
  },
  {
   "cell_type": "markdown",
   "id": "a27c735d-89f6-471e-8629-8f1a6e784efc",
   "metadata": {},
   "source": [
    "$s^2 L [f(x)] - s + L [f(x)] = 0 $"
   ]
  },
  {
   "cell_type": "markdown",
   "id": "02fd70b4-0fe1-4b12-a2c6-af94e1a5fefd",
   "metadata": {},
   "source": [
    "rearranging:"
   ]
  },
  {
   "cell_type": "markdown",
   "id": "86edfb63-b1b5-43e9-8c40-37be69a430c4",
   "metadata": {},
   "source": [
    "$ L[f(x)](s^2 + 1) = s $"
   ]
  },
  {
   "cell_type": "markdown",
   "id": "3248759a-2588-4f43-bfb2-5b697db7b088",
   "metadata": {},
   "source": [
    "$ L[f(x)] = \\displaystyle \\frac {s} {s^2 + 1} $"
   ]
  },
  {
   "cell_type": "markdown",
   "id": "ed68db11-4536-4a4a-a431-e9fdc44f094f",
   "metadata": {},
   "source": [
    "using the Table Of Laplace Transforms:"
   ]
  },
  {
   "cell_type": "markdown",
   "id": "4a56391c-eaf3-4f07-8541-4e9ba9476ca2",
   "metadata": {},
   "source": [
    "$ f(x) = \\cos (x) $"
   ]
  },
  {
   "cell_type": "markdown",
   "id": "a24e2bde-eed4-46a9-9483-b2ce4a5dc394",
   "metadata": {},
   "source": [
    "#### Solving using Sympy"
   ]
  },
  {
   "cell_type": "code",
   "execution_count": 62,
   "id": "39c22b68-98ef-41ae-89ce-f2a9b72c8587",
   "metadata": {},
   "outputs": [
    {
     "data": {
      "text/latex": [
       "$\\displaystyle f{\\left(x \\right)} + \\frac{d^{2}}{d x^{2}} f{\\left(x \\right)}$"
      ],
      "text/plain": [
       "f(x) + Derivative(f(x), (x, 2))"
      ]
     },
     "execution_count": 62,
     "metadata": {},
     "output_type": "execute_result"
    }
   ],
   "source": [
    "ex = f(x).diff(x, x) + f(x)\n",
    "ex"
   ]
  },
  {
   "cell_type": "code",
   "execution_count": 63,
   "id": "5cc382f7-432c-40d8-a682-29aa7b10d636",
   "metadata": {},
   "outputs": [
    {
     "data": {
      "text/latex": [
       "$\\displaystyle s^{2} \\mathcal{L}_{x}\\left[f{\\left(x \\right)}\\right]\\left(s\\right) - s f{\\left(0 \\right)} + \\mathcal{L}_{x}\\left[f{\\left(x \\right)}\\right]\\left(s\\right) - \\left. \\frac{d}{d x} f{\\left(x \\right)} \\right|_{\\substack{ x=0 }}$"
      ],
      "text/plain": [
       "s**2*LaplaceTransform(f(x), x, s) - s*f(0) + LaplaceTransform(f(x), x, s) - Subs(Derivative(f(x), x), x, 0)"
      ]
     },
     "execution_count": 63,
     "metadata": {},
     "output_type": "execute_result"
    }
   ],
   "source": [
    "ex2 = sp.laplace_transform(ex, x, s)\n",
    "ex2"
   ]
  },
  {
   "cell_type": "markdown",
   "id": "8448bc2a-8610-4c4e-b285-61efb953dc89",
   "metadata": {},
   "source": [
    "Substitute the boundary conditions into the equation:"
   ]
  },
  {
   "cell_type": "code",
   "execution_count": 64,
   "id": "7f522f85-f39e-4d04-b740-ec484c3edff2",
   "metadata": {},
   "outputs": [
    {
     "data": {
      "text/latex": [
       "$\\displaystyle s^{2} \\mathcal{L}_{x}\\left[f{\\left(x \\right)}\\right]\\left(s\\right) - s + \\mathcal{L}_{x}\\left[f{\\left(x \\right)}\\right]\\left(s\\right) - \\left. \\frac{d}{d x} f{\\left(x \\right)} \\right|_{\\substack{ x=0 }}$"
      ],
      "text/plain": [
       "s**2*LaplaceTransform(f(x), x, s) - s + LaplaceTransform(f(x), x, s) - Subs(Derivative(f(x), x), x, 0)"
      ]
     },
     "execution_count": 64,
     "metadata": {},
     "output_type": "execute_result"
    }
   ],
   "source": [
    "ex3 = ex2.subs({f(0): 1})\n",
    "ex3"
   ]
  },
  {
   "cell_type": "code",
   "execution_count": 65,
   "id": "247f907a-362d-44aa-8d85-b9559664c03a",
   "metadata": {},
   "outputs": [
    {
     "data": {
      "text/latex": [
       "$\\displaystyle s^{2} \\mathcal{L}_{x}\\left[f{\\left(x \\right)}\\right]\\left(s\\right) - s + \\mathcal{L}_{x}\\left[f{\\left(x \\right)}\\right]\\left(s\\right)$"
      ],
      "text/plain": [
       "s**2*LaplaceTransform(f(x), x, s) - s + LaplaceTransform(f(x), x, s)"
      ]
     },
     "execution_count": 65,
     "metadata": {},
     "output_type": "execute_result"
    }
   ],
   "source": [
    "ex4 = ex3.subs({sp.diff(f(x), x).subs(x,0): 0})\n",
    "ex4"
   ]
  },
  {
   "cell_type": "markdown",
   "id": "e2cb3175-dbda-46b7-8b4a-ae464ea4d594",
   "metadata": {},
   "source": [
    "Expression of $f(x)$:"
   ]
  },
  {
   "cell_type": "code",
   "execution_count": 10,
   "id": "b702ec81-7467-4cb5-a296-3c3d4835726c",
   "metadata": {},
   "outputs": [
    {
     "data": {
      "text/latex": [
       "$\\displaystyle \\mathcal{L}_{x}\\left[f{\\left(x \\right)}\\right]\\left(s\\right)$"
      ],
      "text/plain": [
       "LaplaceTransform(f(x), x, s)"
      ]
     },
     "execution_count": 10,
     "metadata": {},
     "output_type": "execute_result"
    }
   ],
   "source": [
    "ef = sp.laplace_transform(f(x), x, s)\n",
    "ef"
   ]
  },
  {
   "cell_type": "code",
   "execution_count": 71,
   "id": "b78de69a-0325-4a90-9791-7d1afb46ab53",
   "metadata": {},
   "outputs": [
    {
     "data": {
      "text/latex": [
       "$\\displaystyle - s + \\left(s^{2} + 1\\right) \\mathcal{L}_{x}\\left[f{\\left(x \\right)}\\right]\\left(s\\right)$"
      ],
      "text/plain": [
       "-s + (s**2 + 1)*LaplaceTransform(f(x), x, s)"
      ]
     },
     "execution_count": 71,
     "metadata": {},
     "output_type": "execute_result"
    }
   ],
   "source": [
    "ex5 = ex4.apart(ef)\n",
    "ex5"
   ]
  },
  {
   "cell_type": "markdown",
   "id": "652d1670-eb0f-4125-954e-3ffca324fa80",
   "metadata": {},
   "source": [
    "Rearranges the equation, putting $f(x)$ on the left hand side (lhs) and the rest of the equation on the right hand side (rhs) of the expression. In the cell below, let's work with rhs:"
   ]
  },
  {
   "cell_type": "code",
   "execution_count": 73,
   "id": "ce3f95f1-7df7-4879-9221-292325720930",
   "metadata": {},
   "outputs": [
    {
     "data": {
      "text/latex": [
       "$\\displaystyle \\frac{s}{s^{2} + 1}$"
      ],
      "text/plain": [
       "s/(s**2 + 1)"
      ]
     },
     "execution_count": 73,
     "metadata": {},
     "output_type": "execute_result"
    }
   ],
   "source": [
    "ex6 = sp.solve(ex5, ef)\n",
    "ex6[0]"
   ]
  },
  {
   "cell_type": "markdown",
   "id": "d99e3b0e-75eb-4277-94a6-0591a326f6e1",
   "metadata": {},
   "source": [
    "Calculate the inverse Laplace transform, and add $f(x)$ to the lhs:"
   ]
  },
  {
   "cell_type": "code",
   "execution_count": 69,
   "id": "f66128da-c3e3-43e4-9e31-47040a4de60a",
   "metadata": {},
   "outputs": [
    {
     "data": {
      "text/latex": [
       "$\\displaystyle f{\\left(x \\right)} = \\cos{\\left(x \\right)} \\theta\\left(x\\right)$"
      ],
      "text/plain": [
       "Eq(f(x), cos(x)*Heaviside(x))"
      ]
     },
     "execution_count": 69,
     "metadata": {},
     "output_type": "execute_result"
    }
   ],
   "source": [
    "sp.Eq(f(x), sp.inverse_laplace_transform(ex6[0], s, x))"
   ]
  },
  {
   "cell_type": "markdown",
   "id": "7e3cc878-aecc-40e6-a1d0-1e1bf8878002",
   "metadata": {},
   "source": [
    "where $\\theta$ is the [Heaviside step function](https://en.wikipedia.org/wiki/Heaviside_step_function)"
   ]
  },
  {
   "cell_type": "markdown",
   "id": "c36e13e1-c9ad-4d46-a6d8-afef43fabee3",
   "metadata": {},
   "source": [
    "#### Solving using *dsolve*, to check the results:"
   ]
  },
  {
   "cell_type": "code",
   "execution_count": 16,
   "id": "1e3e3ece-0cbb-4871-839e-02f8f33b8c92",
   "metadata": {},
   "outputs": [
    {
     "data": {
      "text/latex": [
       "$\\displaystyle f{\\left(x \\right)} = \\cos{\\left(x \\right)}$"
      ],
      "text/plain": [
       "Eq(f(x), cos(x))"
      ]
     },
     "execution_count": 16,
     "metadata": {},
     "output_type": "execute_result"
    }
   ],
   "source": [
    "sp.dsolve(ex, f(x), ics={f(0): 1, sp.diff(f(x), x).subs(x,0): 0})"
   ]
  },
  {
   "cell_type": "markdown",
   "id": "47df7440-322d-4d53-aee4-14c43f0f6854",
   "metadata": {},
   "source": [
    "## Laplace transform using Sympy\n",
    "\n",
    "In each of the problems, use the Laplace transform to solve the given initial value (IC) problem"
   ]
  },
  {
   "cell_type": "markdown",
   "id": "da3dcaec-3cd6-4222-80bf-62812ecbd054",
   "metadata": {},
   "source": [
    "### Exercise 2.5"
   ]
  },
  {
   "cell_type": "markdown",
   "id": "29ca8844-54e5-4f81-b7c7-81135e17ea77",
   "metadata": {},
   "source": [
    "$ y'' - 4y' + 4y = 0 \\ , \\ \\ \\ $ IC: $\\ y(0)=1, y'(0)=1 $"
   ]
  },
  {
   "cell_type": "code",
   "execution_count": 4,
   "id": "d587f355-ddcb-4669-abc6-e612a9bf3a8f",
   "metadata": {},
   "outputs": [
    {
     "data": {
      "text/latex": [
       "$\\displaystyle 4 f{\\left(x \\right)} - 4 \\frac{d}{d x} f{\\left(x \\right)} + \\frac{d^{2}}{d x^{2}} f{\\left(x \\right)}$"
      ],
      "text/plain": [
       "4*f(x) - 4*Derivative(f(x), x) + Derivative(f(x), (x, 2))"
      ]
     },
     "execution_count": 4,
     "metadata": {},
     "output_type": "execute_result"
    }
   ],
   "source": [
    "y = f(x).diff(x, x) - 4 * f(x).diff(x) + 4 * f(x)\n",
    "y"
   ]
  },
  {
   "cell_type": "code",
   "execution_count": 5,
   "id": "91c06f46-2251-4c37-ac6e-57c79e894091",
   "metadata": {},
   "outputs": [
    {
     "data": {
      "text/latex": [
       "$\\displaystyle s^{2} \\mathcal{L}_{x}\\left[f{\\left(x \\right)}\\right]\\left(s\\right) - 4 s \\mathcal{L}_{x}\\left[f{\\left(x \\right)}\\right]\\left(s\\right) - s f{\\left(0 \\right)} + 4 \\mathcal{L}_{x}\\left[f{\\left(x \\right)}\\right]\\left(s\\right) + 4 f{\\left(0 \\right)} - \\left. \\frac{d}{d x} f{\\left(x \\right)} \\right|_{\\substack{ x=0 }}$"
      ],
      "text/plain": [
       "s**2*LaplaceTransform(f(x), x, s) - 4*s*LaplaceTransform(f(x), x, s) - s*f(0) + 4*LaplaceTransform(f(x), x, s) + 4*f(0) - Subs(Derivative(f(x), x), x, 0)"
      ]
     },
     "execution_count": 5,
     "metadata": {},
     "output_type": "execute_result"
    }
   ],
   "source": [
    "F = sp.laplace_transform(y, x, s)\n",
    "F"
   ]
  },
  {
   "cell_type": "code",
   "execution_count": 6,
   "id": "b80f8935-be50-4de3-8ae8-7783e80924ee",
   "metadata": {},
   "outputs": [
    {
     "data": {
      "text/latex": [
       "$\\displaystyle s^{2} \\mathcal{L}_{x}\\left[f{\\left(x \\right)}\\right]\\left(s\\right) - 4 s \\mathcal{L}_{x}\\left[f{\\left(x \\right)}\\right]\\left(s\\right) - s + 4 \\mathcal{L}_{x}\\left[f{\\left(x \\right)}\\right]\\left(s\\right) - \\left. \\frac{d}{d x} f{\\left(x \\right)} \\right|_{\\substack{ x=0 }} + 4$"
      ],
      "text/plain": [
       "s**2*LaplaceTransform(f(x), x, s) - 4*s*LaplaceTransform(f(x), x, s) - s + 4*LaplaceTransform(f(x), x, s) - Subs(Derivative(f(x), x), x, 0) + 4"
      ]
     },
     "execution_count": 6,
     "metadata": {},
     "output_type": "execute_result"
    }
   ],
   "source": [
    "F2 = F.subs({f(0): 1})\n",
    "F2"
   ]
  },
  {
   "cell_type": "code",
   "execution_count": 7,
   "id": "5e3219ce-7041-4b91-9d81-df4079551f20",
   "metadata": {},
   "outputs": [
    {
     "data": {
      "text/latex": [
       "$\\displaystyle s^{2} \\mathcal{L}_{x}\\left[f{\\left(x \\right)}\\right]\\left(s\\right) - 4 s \\mathcal{L}_{x}\\left[f{\\left(x \\right)}\\right]\\left(s\\right) - s + 4 \\mathcal{L}_{x}\\left[f{\\left(x \\right)}\\right]\\left(s\\right) + 3$"
      ],
      "text/plain": [
       "s**2*LaplaceTransform(f(x), x, s) - 4*s*LaplaceTransform(f(x), x, s) - s + 4*LaplaceTransform(f(x), x, s) + 3"
      ]
     },
     "execution_count": 7,
     "metadata": {},
     "output_type": "execute_result"
    }
   ],
   "source": [
    "F3 = F2.subs({sp.diff(f(x), x).subs(x,0): 1})\n",
    "F3"
   ]
  },
  {
   "cell_type": "code",
   "execution_count": 9,
   "id": "05696a67-fee0-4228-b518-4a7fd6de72b7",
   "metadata": {},
   "outputs": [
    {
     "data": {
      "text/latex": [
       "$\\displaystyle - s + \\left(s^{2} - 4 s + 4\\right) \\mathcal{L}_{x}\\left[f{\\left(x \\right)}\\right]\\left(s\\right) + 3$"
      ],
      "text/plain": [
       "-s + (s**2 - 4*s + 4)*LaplaceTransform(f(x), x, s) + 3"
      ]
     },
     "execution_count": 9,
     "metadata": {},
     "output_type": "execute_result"
    }
   ],
   "source": [
    "F4 = F3.apart(sp.laplace_transform(f(x), x, s))\n",
    "F4"
   ]
  },
  {
   "cell_type": "markdown",
   "id": "c8fddf6d-577a-46c0-819e-aa215c5065ca",
   "metadata": {},
   "source": [
    "Rearranges the equation, separating $f(x)$ :"
   ]
  },
  {
   "cell_type": "code",
   "execution_count": 17,
   "id": "02636fe4-0bc3-4736-a107-d4c7b701bf0d",
   "metadata": {},
   "outputs": [
    {
     "data": {
      "text/latex": [
       "$\\displaystyle \\frac{s - 3}{s^{2} - 4 s + 4}$"
      ],
      "text/plain": [
       "(s - 3)/(s**2 - 4*s + 4)"
      ]
     },
     "execution_count": 17,
     "metadata": {},
     "output_type": "execute_result"
    }
   ],
   "source": [
    "F5 = sp.solve(F4, ef)[0]\n",
    "F5"
   ]
  },
  {
   "cell_type": "markdown",
   "id": "b2f50a15-777c-4145-91e0-a93bc3fe9a56",
   "metadata": {},
   "source": [
    "Calculate the inverse Laplace transform, and add $f(x)$ to the lhs:"
   ]
  },
  {
   "cell_type": "code",
   "execution_count": 18,
   "id": "c331a303-ebe8-4102-ad06-6629181e1aba",
   "metadata": {},
   "outputs": [
    {
     "data": {
      "text/latex": [
       "$\\displaystyle f{\\left(x \\right)} = \\left(1 - x\\right) e^{2 x} \\theta\\left(x\\right)$"
      ],
      "text/plain": [
       "Eq(f(x), (1 - x)*exp(2*x)*Heaviside(x))"
      ]
     },
     "execution_count": 18,
     "metadata": {},
     "output_type": "execute_result"
    }
   ],
   "source": [
    "sp.Eq(f(x), sp.inverse_laplace_transform(F5, s, x))"
   ]
  },
  {
   "cell_type": "markdown",
   "id": "f5b40f35-590f-4a3c-895f-9eae9119c5ac",
   "metadata": {},
   "source": [
    "#### Solving using *dsolve*, to check the results:"
   ]
  },
  {
   "cell_type": "code",
   "execution_count": 4,
   "id": "73ec3fec-adcc-4ade-8a91-ef52889459d4",
   "metadata": {},
   "outputs": [
    {
     "data": {
      "text/latex": [
       "$\\displaystyle f{\\left(x \\right)} = \\left(1 - x\\right) e^{2 x}$"
      ],
      "text/plain": [
       "Eq(f(x), (1 - x)*exp(2*x))"
      ]
     },
     "execution_count": 4,
     "metadata": {},
     "output_type": "execute_result"
    }
   ],
   "source": [
    "e25 = sp.dsolve(F, f(x), ics={f(0): 1, sp.diff(f(x), x).subs(x, 0): 1})\n",
    "e25"
   ]
  },
  {
   "cell_type": "markdown",
   "id": "35b6f12e-03ef-46cd-9fce-9523dda587d6",
   "metadata": {},
   "source": [
    "### Exercise 2.6"
   ]
  },
  {
   "cell_type": "markdown",
   "id": "cce0a795-b7ac-4355-aa84-a693b18040a0",
   "metadata": {},
   "source": [
    "$ y^{iv} - 4y = 0 \\ , \\ \\ y(0)=1, \\ y'(0)=0, \\ y''(0)=-2, \\ y'''(0)=0 $"
   ]
  },
  {
   "cell_type": "code",
   "execution_count": 20,
   "id": "4d265ab5-99fe-4f50-86d4-331e03ee1b3c",
   "metadata": {},
   "outputs": [
    {
     "data": {
      "text/latex": [
       "$\\displaystyle - 4 f{\\left(x \\right)} + \\frac{d^{4}}{d x^{4}} f{\\left(x \\right)}$"
      ],
      "text/plain": [
       "-4*f(x) + Derivative(f(x), (x, 4))"
      ]
     },
     "execution_count": 20,
     "metadata": {},
     "output_type": "execute_result"
    }
   ],
   "source": [
    "y = f(x).diff(x, x, x, x) - 4 * f(x)\n",
    "y"
   ]
  },
  {
   "cell_type": "code",
   "execution_count": 21,
   "id": "05ad7da2-7e1a-4433-9780-68759fee28ac",
   "metadata": {},
   "outputs": [
    {
     "data": {
      "text/latex": [
       "$\\displaystyle s^{4} \\mathcal{L}_{x}\\left[f{\\left(x \\right)}\\right]\\left(s\\right) - s^{3} f{\\left(0 \\right)} - s^{2} \\left. \\frac{d}{d x} f{\\left(x \\right)} \\right|_{\\substack{ x=0 }} - s \\left. \\frac{d^{2}}{d x^{2}} f{\\left(x \\right)} \\right|_{\\substack{ x=0 }} - 4 \\mathcal{L}_{x}\\left[f{\\left(x \\right)}\\right]\\left(s\\right) - \\left. \\frac{d^{3}}{d x^{3}} f{\\left(x \\right)} \\right|_{\\substack{ x=0 }}$"
      ],
      "text/plain": [
       "s**4*LaplaceTransform(f(x), x, s) - s**3*f(0) - s**2*Subs(Derivative(f(x), x), x, 0) - s*Subs(Derivative(f(x), (x, 2)), x, 0) - 4*LaplaceTransform(f(x), x, s) - Subs(Derivative(f(x), (x, 3)), x, 0)"
      ]
     },
     "execution_count": 21,
     "metadata": {},
     "output_type": "execute_result"
    }
   ],
   "source": [
    "F = sp.laplace_transform(y, x, s)\n",
    "F"
   ]
  },
  {
   "cell_type": "markdown",
   "id": "359d79ba-4117-42d9-9855-ac5cf7f08df2",
   "metadata": {},
   "source": [
    "Substitute the boundary conditions into the equation:"
   ]
  },
  {
   "cell_type": "code",
   "execution_count": 22,
   "id": "115caba3-daba-4f78-b8fb-21238a5eead0",
   "metadata": {},
   "outputs": [
    {
     "data": {
      "text/latex": [
       "$\\displaystyle s^{4} \\mathcal{L}_{x}\\left[f{\\left(x \\right)}\\right]\\left(s\\right) - s^{3} - s^{2} \\left. \\frac{d}{d x} f{\\left(x \\right)} \\right|_{\\substack{ x=0 }} - s \\left. \\frac{d^{2}}{d x^{2}} f{\\left(x \\right)} \\right|_{\\substack{ x=0 }} - 4 \\mathcal{L}_{x}\\left[f{\\left(x \\right)}\\right]\\left(s\\right) - \\left. \\frac{d^{3}}{d x^{3}} f{\\left(x \\right)} \\right|_{\\substack{ x=0 }}$"
      ],
      "text/plain": [
       "s**4*LaplaceTransform(f(x), x, s) - s**3 - s**2*Subs(Derivative(f(x), x), x, 0) - s*Subs(Derivative(f(x), (x, 2)), x, 0) - 4*LaplaceTransform(f(x), x, s) - Subs(Derivative(f(x), (x, 3)), x, 0)"
      ]
     },
     "execution_count": 22,
     "metadata": {},
     "output_type": "execute_result"
    }
   ],
   "source": [
    "F2 = F.subs({f(0): 1})\n",
    "F2"
   ]
  },
  {
   "cell_type": "code",
   "execution_count": 23,
   "id": "7df44ffd-26b6-4f22-9115-a77c2c653d56",
   "metadata": {},
   "outputs": [
    {
     "data": {
      "text/latex": [
       "$\\displaystyle s^{4} \\mathcal{L}_{x}\\left[f{\\left(x \\right)}\\right]\\left(s\\right) - s^{3} - s \\left. \\frac{d^{2}}{d x^{2}} f{\\left(x \\right)} \\right|_{\\substack{ x=0 }} - 4 \\mathcal{L}_{x}\\left[f{\\left(x \\right)}\\right]\\left(s\\right) - \\left. \\frac{d^{3}}{d x^{3}} f{\\left(x \\right)} \\right|_{\\substack{ x=0 }}$"
      ],
      "text/plain": [
       "s**4*LaplaceTransform(f(x), x, s) - s**3 - s*Subs(Derivative(f(x), (x, 2)), x, 0) - 4*LaplaceTransform(f(x), x, s) - Subs(Derivative(f(x), (x, 3)), x, 0)"
      ]
     },
     "execution_count": 23,
     "metadata": {},
     "output_type": "execute_result"
    }
   ],
   "source": [
    "F3 = F2.subs({sp.diff(f(x), x).subs(x, 0): 0})\n",
    "F3"
   ]
  },
  {
   "cell_type": "code",
   "execution_count": 24,
   "id": "be7c8c66-ffb5-4d74-be9a-2ca8d34a40e0",
   "metadata": {},
   "outputs": [
    {
     "data": {
      "text/latex": [
       "$\\displaystyle s^{4} \\mathcal{L}_{x}\\left[f{\\left(x \\right)}\\right]\\left(s\\right) - s^{3} + 2 s - 4 \\mathcal{L}_{x}\\left[f{\\left(x \\right)}\\right]\\left(s\\right) - \\left. \\frac{d^{3}}{d x^{3}} f{\\left(x \\right)} \\right|_{\\substack{ x=0 }}$"
      ],
      "text/plain": [
       "s**4*LaplaceTransform(f(x), x, s) - s**3 + 2*s - 4*LaplaceTransform(f(x), x, s) - Subs(Derivative(f(x), (x, 3)), x, 0)"
      ]
     },
     "execution_count": 24,
     "metadata": {},
     "output_type": "execute_result"
    }
   ],
   "source": [
    "F4 = F3.subs({sp.diff(f(x), x, x).subs(x, 0): -2})\n",
    "F4"
   ]
  },
  {
   "cell_type": "code",
   "execution_count": 25,
   "id": "64c5bee6-3411-496e-baf0-a64b1bd98fb3",
   "metadata": {},
   "outputs": [
    {
     "data": {
      "text/latex": [
       "$\\displaystyle s^{4} \\mathcal{L}_{x}\\left[f{\\left(x \\right)}\\right]\\left(s\\right) - s^{3} + 2 s - 4 \\mathcal{L}_{x}\\left[f{\\left(x \\right)}\\right]\\left(s\\right)$"
      ],
      "text/plain": [
       "s**4*LaplaceTransform(f(x), x, s) - s**3 + 2*s - 4*LaplaceTransform(f(x), x, s)"
      ]
     },
     "execution_count": 25,
     "metadata": {},
     "output_type": "execute_result"
    }
   ],
   "source": [
    "F5 = F4.subs({sp.diff(f(x), x, x, x).subs(x, 0): 0})\n",
    "F5"
   ]
  },
  {
   "cell_type": "markdown",
   "id": "544a8be8-5f24-4d9c-bd3b-df1e91221b94",
   "metadata": {},
   "source": [
    "Performs a partial fraction decomposition:"
   ]
  },
  {
   "cell_type": "code",
   "execution_count": 26,
   "id": "4a0606e3-0941-4d0d-814a-3d6225893394",
   "metadata": {},
   "outputs": [
    {
     "data": {
      "text/latex": [
       "$\\displaystyle - s^{3} + 2 s + \\left(s^{4} - 4\\right) \\mathcal{L}_{x}\\left[f{\\left(x \\right)}\\right]\\left(s\\right)$"
      ],
      "text/plain": [
       "-s**3 + 2*s + (s**4 - 4)*LaplaceTransform(f(x), x, s)"
      ]
     },
     "execution_count": 26,
     "metadata": {},
     "output_type": "execute_result"
    }
   ],
   "source": [
    "F6 = F5.apart(sp.laplace_transform(f(x), x, s))\n",
    "F6"
   ]
  },
  {
   "cell_type": "markdown",
   "id": "8ba12d3c-9ebb-4be5-8e4a-16b40883cd9f",
   "metadata": {},
   "source": [
    "Rearranges the equation:"
   ]
  },
  {
   "cell_type": "code",
   "execution_count": 27,
   "id": "6d1cf5c1-694e-4a8a-8669-2886670fd885",
   "metadata": {},
   "outputs": [
    {
     "data": {
      "text/latex": [
       "$\\displaystyle \\frac{s}{s^{2} + 2}$"
      ],
      "text/plain": [
       "s/(s**2 + 2)"
      ]
     },
     "execution_count": 27,
     "metadata": {},
     "output_type": "execute_result"
    }
   ],
   "source": [
    "F7 = sp.solve(F6, ef)[0]\n",
    "F7"
   ]
  },
  {
   "cell_type": "markdown",
   "id": "84e6fa4c-4875-4399-9d41-de205ba3130c",
   "metadata": {},
   "source": [
    "Compute the inverse Laplace transform:"
   ]
  },
  {
   "cell_type": "code",
   "execution_count": 28,
   "id": "654080e6-60c3-4133-877b-c6d82e898750",
   "metadata": {},
   "outputs": [
    {
     "data": {
      "text/latex": [
       "$\\displaystyle f{\\left(x \\right)} = \\cos{\\left(\\sqrt{2} x \\right)} \\theta\\left(x\\right)$"
      ],
      "text/plain": [
       "Eq(f(x), cos(sqrt(2)*x)*Heaviside(x))"
      ]
     },
     "execution_count": 28,
     "metadata": {},
     "output_type": "execute_result"
    }
   ],
   "source": [
    "sp.Eq(f(x), sp.inverse_laplace_transform(F7, s, x))"
   ]
  },
  {
   "cell_type": "markdown",
   "id": "d7b65ebe-4ccd-40df-93d3-46ffae5e989e",
   "metadata": {},
   "source": [
    "where $\\theta$ is the [Heaviside step function](https://en.wikipedia.org/wiki/Heaviside_step_function)"
   ]
  },
  {
   "cell_type": "markdown",
   "id": "c6c6944f-ae54-4984-ab51-3fdb9d4e0e13",
   "metadata": {},
   "source": [
    "#### Solving using *dsolve*, to check the results:"
   ]
  },
  {
   "cell_type": "code",
   "execution_count": 6,
   "id": "a5e9c582-3645-42eb-b79b-3fa4c299237f",
   "metadata": {},
   "outputs": [
    {
     "data": {
      "text/latex": [
       "$\\displaystyle f{\\left(x \\right)} = \\cos{\\left(\\sqrt{2} x \\right)}$"
      ],
      "text/plain": [
       "Eq(f(x), cos(sqrt(2)*x))"
      ]
     },
     "execution_count": 6,
     "metadata": {},
     "output_type": "execute_result"
    }
   ],
   "source": [
    "e26 = sp.dsolve(y,\n",
    "                f(x),\n",
    "                ics={\n",
    "                    f(0): 1,\n",
    "                    sp.diff(f(x), x).subs(x, 0): 0,\n",
    "                    sp.diff(f(x), x, x).subs(x, 0): -2,\n",
    "                    sp.diff(f(x), x, x, x).subs(x, 0): 0,\n",
    "                })\n",
    "e26"
   ]
  },
  {
   "cell_type": "markdown",
   "id": "33ee8269-23a8-4b36-a954-d4af2cabc189",
   "metadata": {},
   "source": [
    "## Modulus \"a mod b\"\n",
    "\n",
    "Obtain approximate values for y(e) for equations 2.5 and 2.6 and determine the mod (Python \"%\") between them: a mod b , with a > b\n",
    "\n",
    "where \"e\" is the Euler's constant"
   ]
  },
  {
   "cell_type": "markdown",
   "id": "e729f3cc-c4bd-494f-89b1-6834ce6dc754",
   "metadata": {},
   "source": [
    "### Exercise 2.7"
   ]
  },
  {
   "cell_type": "code",
   "execution_count": 16,
   "id": "db1f3249-a482-4d0c-aaf6-cdf7c5cb7c75",
   "metadata": {},
   "outputs": [
    {
     "data": {
      "text/latex": [
       "$\\displaystyle -394.6062812701$"
      ],
      "text/plain": [
       "-394.606281270100"
      ]
     },
     "execution_count": 16,
     "metadata": {},
     "output_type": "execute_result"
    }
   ],
   "source": [
    "e25e = e25.subs({x: mt.e}).rhs\n",
    "e25e"
   ]
  },
  {
   "cell_type": "code",
   "execution_count": 17,
   "id": "8a85e7b8-4985-4bb6-9fa2-073dd7109ef4",
   "metadata": {},
   "outputs": [
    {
     "data": {
      "text/latex": [
       "$\\displaystyle \\cos{\\left(2.71828182845905 \\sqrt{2} \\right)}$"
      ],
      "text/plain": [
       "cos(2.71828182845905*sqrt(2))"
      ]
     },
     "execution_count": 17,
     "metadata": {},
     "output_type": "execute_result"
    }
   ],
   "source": [
    "e26e = e26.subs({x: mt.e}).rhs\n",
    "e26e"
   ]
  },
  {
   "cell_type": "code",
   "execution_count": 20,
   "id": "b0af0031-0a8d-4bf5-8fb4-1a71528090bf",
   "metadata": {},
   "outputs": [],
   "source": [
    "(a, b) = (e25e, e26e) if e25e > e26e else (e26e, e25e)"
   ]
  },
  {
   "cell_type": "code",
   "execution_count": 24,
   "id": "7cb715d0-175b-43f5-8b58-dd9ce50a9a1b",
   "metadata": {},
   "outputs": [
    {
     "data": {
      "text/latex": [
       "$\\displaystyle \\left(1 - x\\right) e^{2 x} \\bmod \\cos{\\left(\\sqrt{2} x \\right)}$"
      ],
      "text/plain": [
       "Mod((1 - x)*exp(2*x), cos(sqrt(2)*x))"
      ]
     },
     "execution_count": 24,
     "metadata": {},
     "output_type": "execute_result"
    }
   ],
   "source": [
    "sp.Mod(e25.rhs, e26.rhs)"
   ]
  },
  {
   "cell_type": "code",
   "execution_count": 23,
   "id": "01a9e3f3-13bb-4fdb-b903-62d9cd117aee",
   "metadata": {},
   "outputs": [
    {
     "data": {
      "text/latex": [
       "$\\displaystyle -0.76313983965382$"
      ],
      "text/plain": [
       "-0.763139839653820"
      ]
     },
     "execution_count": 23,
     "metadata": {},
     "output_type": "execute_result"
    }
   ],
   "source": [
    "sp.Mod(a, b).evalf()"
   ]
  },
  {
   "cell_type": "markdown",
   "id": "64dd3aab-8cd8-4a5f-9315-d4a7224b181b",
   "metadata": {},
   "source": [
    "# References\n",
    "\n",
    "- https://docs.sympy.org\n",
    "- https://dynamics-and-control.readthedocs.io/en/latest/1_Dynamics/3_Linear_systems/Laplace%20transforms.html\n",
    "- https://www.reddit.com/r/learnpython/comments/diakmu/can_sympy_rearrange_variables/\n",
    "- https://notebook.community/nicoguaro/AdvancedMath/notebooks/sympy/laplace_transform\n",
    "- https://www.geeksforgeeks.org/python-sympy-mod-method/\n",
    "- https://github.com/sympy/sympy/issues/7219#issuecomment-154768904"
   ]
  },
  {
   "cell_type": "code",
   "execution_count": null,
   "id": "79db3390-fb07-4627-a055-638004215bf0",
   "metadata": {},
   "outputs": [],
   "source": []
  }
 ],
 "metadata": {
  "kernelspec": {
   "display_name": "tf",
   "language": "python",
   "name": "tf"
  },
  "language_info": {
   "codemirror_mode": {
    "name": "ipython",
    "version": 3
   },
   "file_extension": ".py",
   "mimetype": "text/x-python",
   "name": "python",
   "nbconvert_exporter": "python",
   "pygments_lexer": "ipython3",
   "version": "3.10.8"
  }
 },
 "nbformat": 4,
 "nbformat_minor": 5
}
