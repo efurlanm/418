{
 "cells": [
  {
   "cell_type": "markdown",
   "id": "c3819be0-06b1-42e7-b3c8-e097c3aa8e8d",
   "metadata": {
    "tags": []
   },
   "source": [
    "[![Open In Colab](https://colab.research.google.com/assets/colab-badge.svg)](https://colab.research.google.com/github/efurlanm/418/blob/master/pchip-impl-numpy.ipynb)"
   ]
  },
  {
   "cell_type": "markdown",
   "id": "1a23f613-ba97-44d7-8e09-999629efe88b",
   "metadata": {
    "tags": []
   },
   "source": [
    "# PCHIP Implementation in pure Numpy\n",
    "\n",
    "*Last edited 2023-05-26*"
   ]
  },
  {
   "cell_type": "markdown",
   "id": "2f7650db-46fb-4ba8-8c69-1457d351ef8d",
   "metadata": {},
   "source": [
    "Based on the work:\n",
    "\n",
    "Pchip interpolation implementation in pure Numpy  \n",
    "https://gist.github.com/tito/553f1135959921ce6699652bf656150d\n",
    "\n",
    "Authors  \n",
    "Michael Taylor <mtaylor@atlanticsciences.com>  \n",
    "Mathieu Virbel <mat@meltingrocks.com>"
   ]
  },
  {
   "cell_type": "markdown",
   "id": "44b28753-28c2-419c-a89a-6fcff8aae17d",
   "metadata": {},
   "source": [
    "The idea of this Notebook is to compare the implementation of PCHIP in Python and Numpy, made by Taylor-Virbel, with the implementation of the SciPy library. The points to be interpolated are created using Burkardt's Gauss-Hermite Quadrature (GHQ) model that were generated in Notebook pchip-quadrature-burgers.ipynb."
   ]
  },
  {
   "cell_type": "markdown",
   "id": "630e5468-c966-4dc5-bdbb-6bd8a29ccc3b",
   "metadata": {},
   "source": [
    "The Taylor-Virbel implementation is shown below. It uses a parameter called \"mode\" which selects between two algorithms, a default called \"mono\" which is based on the Fritsch-Carlson algorithm, and another \"quad\" which is a quadratic polynomial fit.\n",
    "\n",
    "mode=='mono', Fritsch-Carlson algorithm from fortran numerical recipe  \n",
    "mode == \"quad\", quadratic polynomial fit\n",
    "\n",
    "Fritsch and Carlson (1980), \"Monotone Piecewise Cubic Interpolation\", SIAM Journal of Numerical Analysis, Vol. 17, No. 2, pp. 238-246. "
   ]
  },
  {
   "cell_type": "code",
   "execution_count": 19,
   "id": "1711a861-adab-4bc2-a272-feab736d8f20",
   "metadata": {
    "tags": []
   },
   "outputs": [],
   "source": [
    "from scipy.interpolate import pchip_interpolate as scipy_pchip_interpolate"
   ]
  },
  {
   "cell_type": "code",
   "execution_count": 1,
   "id": "441fac9b-cd6f-40f7-9b15-b300973edf74",
   "metadata": {},
   "outputs": [],
   "source": [
    "import matplotlib.pyplot as plt\n",
    "import matplotlib.gridspec as gridspec"
   ]
  },
  {
   "cell_type": "code",
   "execution_count": 2,
   "id": "9c2b6df8-8844-4b61-84e4-91beb64cb8e6",
   "metadata": {},
   "outputs": [],
   "source": [
    "import numpy as np\n",
    "from numpy import (zeros, where, diff, floor, minimum, maximum, array,\n",
    "                   concatenate, logical_or, logical_xor)\n",
    "from numpy.fft import rfft, irfft"
   ]
  },
  {
   "cell_type": "code",
   "execution_count": 27,
   "id": "8eea18e8-a6e1-4ac6-92b0-c939a6880475",
   "metadata": {},
   "outputs": [],
   "source": [
    "def pchip_interpolate(xi, yi, x, mode=\"mono\"):\n",
    "    \"\"\"\n",
    "    Interpolation using piecewise cubic Hermite polynomial.\n",
    "    \"\"\"\n",
    "    if mode not in (\"mono\", \"quad\"):\n",
    "        raise ValueError(\"Unrecognized mode string\")\n",
    "        \n",
    "    if mode == \"quad\":\n",
    "        print(\"quad\")\n",
    "    else:\n",
    "        print(\"mono\")\n",
    "\n",
    "    # Search for [xi,xi+1] interval for each x\n",
    "    xi = xi.astype(\"double\")\n",
    "    yi = yi.astype(\"double\")\n",
    "\n",
    "    x_index = zeros(len(x), dtype=\"int\")\n",
    "    xi_steps = diff(xi)\n",
    "    if not all(xi_steps > 0):\n",
    "        raise ValueError(\"x-coordinates are not in increasing order.\")\n",
    "\n",
    "    x_steps = diff(x)\n",
    "    if xi_steps.max() / xi_steps.min() < 1.000001:\n",
    "        # uniform input grid\n",
    "        if __debug__:\n",
    "            print(\"pchip: uniform input grid\")\n",
    "        xi_start = xi[0]\n",
    "        xi_step = (xi[-1] - xi[0]) / (len(xi) - 1)\n",
    "        x_index = minimum(\n",
    "            maximum(floor((x - xi_start) / xi_step).astype(int), 0),\n",
    "            len(xi) - 2)\n",
    "\n",
    "        # Calculate gradients d\n",
    "        h = (xi[-1] - xi[0]) / (len(xi) - 1)\n",
    "        d = zeros(len(xi), dtype=\"double\")\n",
    "        if mode == \"quad\":\n",
    "            # quadratic polynomial fit\n",
    "            d[[0]] = (yi[1] - yi[0]) / h\n",
    "            d[[-1]] = (yi[-1] - yi[-2]) / h\n",
    "            d[1:-1] = (yi[2:] - yi[0:-2]) / 2 / h\n",
    "        else:\n",
    "            # mode=='mono', Fritsch-Carlson algorithm from fortran numerical\n",
    "            # recipe\n",
    "            delta = diff(yi) / h\n",
    "            d = concatenate(\n",
    "                (delta[0:1], 2 / (1 / delta[0:-1] + 1 / delta[1:]), delta[-1:]))\n",
    "            d[concatenate(\n",
    "                (array([False]), logical_xor(delta[0:-1] > 0, delta[1:]\n",
    "                                             > 0), array([False])))] = 0\n",
    "            d[logical_or(concatenate((array([False]), delta == 0)),\n",
    "                         concatenate((delta == 0, array([False]))))] = 0\n",
    "        # Calculate output values y\n",
    "        dxxi = x - xi[x_index]\n",
    "        dxxid = x - xi[1 + x_index]\n",
    "        dxxi2 = pow(dxxi, 2)\n",
    "        dxxid2 = pow(dxxid, 2)\n",
    "        y = (2 / pow(h, 3) *\n",
    "             (yi[x_index] * dxxid2 * (dxxi + h / 2) - yi[1 + x_index] * dxxi2 *\n",
    "              (dxxid - h / 2)) + 1 / pow(h, 2) *\n",
    "             (d[x_index] * dxxid2 * dxxi + d[1 + x_index] * dxxi2 * dxxid))\n",
    "    else:\n",
    "        # not uniform input grid\n",
    "        if (x_steps.max() / x_steps.min() < 1.000001 and\n",
    "                x_steps.max() / x_steps.min() > 0.999999):\n",
    "            # non-uniform input grid, uniform output grid\n",
    "            if __debug__:\n",
    "                print(\"pchip: non-uniform input grid, uniform output grid\")\n",
    "            x_decreasing = x[-1] < x[0]\n",
    "            if x_decreasing:\n",
    "                x = x[::-1]\n",
    "            x_start = x[0]\n",
    "            x_step = (x[-1] - x[0]) / (len(x) - 1)\n",
    "            x_indexprev = -1\n",
    "            for xi_loop in range(len(xi) - 2):\n",
    "                x_indexcur = max(\n",
    "                    int(floor((xi[1 + xi_loop] - x_start) / x_step)), -1)\n",
    "                x_index[1 + x_indexprev:1 + x_indexcur] = xi_loop\n",
    "                x_indexprev = x_indexcur\n",
    "            x_index[1 + x_indexprev:] = len(xi) - 2\n",
    "            if x_decreasing:\n",
    "                x = x[::-1]\n",
    "                x_index = x_index[::-1]\n",
    "        elif all(x_steps > 0) or all(x_steps < 0):\n",
    "            # non-uniform input/output grids, output grid monotonic\n",
    "            if __debug__:\n",
    "                print(\"pchip: non-uniform in/out grid, output grid monotonic\")\n",
    "            x_decreasing = x[-1] < x[0]\n",
    "            if x_decreasing:\n",
    "                x = x[::-1]\n",
    "            x_len = len(x)\n",
    "            x_loop = 0\n",
    "            for xi_loop in range(len(xi) - 1):\n",
    "                while x_loop < x_len and x[x_loop] < xi[1 + xi_loop]:\n",
    "                    x_index[x_loop] = xi_loop\n",
    "                    x_loop += 1\n",
    "            x_index[x_loop:] = len(xi) - 2\n",
    "            if x_decreasing:\n",
    "                x = x[::-1]\n",
    "                x_index = x_index[::-1]\n",
    "        else:\n",
    "            # non-uniform input/output grids, output grid not monotonic\n",
    "            if __debug__:\n",
    "                print(\"pchip: non-uniform in/out grids, \"\n",
    "                      \"output grid not monotonic\")\n",
    "            for index in range(len(x)):\n",
    "                loc = where(x[index] < xi)[0]\n",
    "                if loc.size == 0:\n",
    "                    x_index[index] = len(xi) - 2\n",
    "                elif loc[0] == 0:\n",
    "                    x_index[index] = 0\n",
    "                else:\n",
    "                    x_index[index] = loc[0] - 1\n",
    "        # Calculate gradients d\n",
    "        h = diff(xi)\n",
    "        d = zeros(len(xi), dtype=\"double\")\n",
    "        delta = diff(yi) / h\n",
    "        if mode == \"quad\":\n",
    "            # quadratic polynomial fit\n",
    "            d[[0, -1]] = delta[[0, -1]]\n",
    "            d[1:-1] = (delta[1:] * h[0:-1] + delta[0:-1] * h[1:]) / (h[0:-1] +\n",
    "                                                                     h[1:])\n",
    "        else:\n",
    "            # mode=='mono', Fritsch-Carlson algorithm from fortran numerical\n",
    "            # recipe\n",
    "            d = concatenate((delta[0:1], 3 * (h[0:-1] + h[1:]) /\n",
    "                             ((h[0:-1] + 2 * h[1:]) / delta[0:-1] +\n",
    "                              (2 * h[0:-1] + h[1:]) / delta[1:]), delta[-1:]))\n",
    "            d[concatenate(\n",
    "                (array([False]), logical_xor(delta[0:-1] > 0, delta[1:]\n",
    "                                             > 0), array([False])))] = 0\n",
    "            d[logical_or(concatenate((array([False]), delta == 0)),\n",
    "                         concatenate((delta == 0, array([False]))))] = 0\n",
    "        dxxi = x - xi[x_index]\n",
    "        dxxid = x - xi[1 + x_index]\n",
    "        dxxi2 = pow(dxxi, 2)\n",
    "        dxxid2 = pow(dxxid, 2)\n",
    "        y = (2 / pow(h[x_index], 3) *\n",
    "             (yi[x_index] * dxxid2 *\n",
    "              (dxxi + h[x_index] / 2) - yi[1 + x_index] * dxxi2 *\n",
    "              (dxxid - h[x_index] / 2)) + 1 / pow(h[x_index], 2) *\n",
    "             (d[x_index] * dxxid2 * dxxi + d[1 + x_index] * dxxi2 * dxxid))\n",
    "    return y"
   ]
  },
  {
   "cell_type": "markdown",
   "id": "e73cace6-0a66-447d-a9a9-5b4a55752536",
   "metadata": {},
   "source": [
    "# Generation of input data\n",
    "\n",
    "The following code generates 10 points that will be used as input for the PCHIP interpolator."
   ]
  },
  {
   "cell_type": "code",
   "execution_count": 28,
   "id": "74f2897e-1653-4934-8fbb-067ae8fccd57",
   "metadata": {},
   "outputs": [],
   "source": [
    "vtn = 10  # NT : Time t\n",
    "vxn = 10  # NX : Variable x\n",
    "\n",
    "xlo = -1.0\n",
    "xhi = +1.0\n",
    "vx = np.linspace(xlo, xhi, vxn)\n",
    "\n",
    "tlo = 0.0\n",
    "thi = 0.99\n",
    "vt = np.linspace(tlo, thi, vtn)"
   ]
  },
  {
   "cell_type": "markdown",
   "id": "6a351ebf-d27a-4dfb-bbff-df1e5900a163",
   "metadata": {},
   "source": [
    "Loads Burkardt's Gauss-Hermite Quadrature (GHQ) model data that was generated in Notebook pchip-quadrature-burgers.ipynb.:"
   ]
  },
  {
   "cell_type": "code",
   "execution_count": 6,
   "id": "7d8d0d2e-3b0c-4dd8-a5ea-348fed8313dc",
   "metadata": {},
   "outputs": [],
   "source": [
    "vx = np.loadtxt('burgers_solution_x.csv', delimiter=\",\")\n",
    "vt = np.loadtxt('burgers_solution_t.csv', delimiter=\",\")\n",
    "vu = np.loadtxt('burgers_solution_u.csv', delimiter=\",\")"
   ]
  },
  {
   "cell_type": "markdown",
   "id": "120618a8-4aaf-4678-9ef2-def730ad44ac",
   "metadata": {},
   "source": [
    "Result using Taylor-Virbel, for two instants of time, and using the \"mono\" and \"quad\" models:"
   ]
  },
  {
   "cell_type": "code",
   "execution_count": 29,
   "id": "cedf06ab-bd34-45a4-b52d-0813eb7d7e3e",
   "metadata": {
    "tags": []
   },
   "outputs": [
    {
     "name": "stdout",
     "output_type": "stream",
     "text": [
      "mono\n",
      "pchip: uniform input grid\n"
     ]
    }
   ],
   "source": [
    "x_observed = vx\n",
    "y_observed = vu[2, :]\n",
    "xq = np.linspace(min(x_observed), max(x_observed), num=100)\n",
    "yq = pchip_interpolate(x_observed, y_observed, xq)"
   ]
  },
  {
   "cell_type": "code",
   "execution_count": 30,
   "id": "cfd41ac5-5045-496d-b360-c4619f069518",
   "metadata": {},
   "outputs": [
    {
     "name": "stdout",
     "output_type": "stream",
     "text": [
      "mono\n",
      "pchip: uniform input grid\n"
     ]
    }
   ],
   "source": [
    "x_observed2 = vx\n",
    "y_observed2 = vu[7, :]\n",
    "xq2 = np.linspace(min(x_observed2), max(x_observed2), num=100)\n",
    "yq2 = pchip_interpolate(x_observed2, y_observed2, xq)"
   ]
  },
  {
   "cell_type": "code",
   "execution_count": 31,
   "id": "d96711a8-4013-4511-beaa-a6d0ac47fbb2",
   "metadata": {
    "tags": []
   },
   "outputs": [
    {
     "name": "stdout",
     "output_type": "stream",
     "text": [
      "quad\n",
      "pchip: uniform input grid\n"
     ]
    }
   ],
   "source": [
    "yq3 = pchip_interpolate(x_observed, y_observed, xq, mode=\"quad\")"
   ]
  },
  {
   "cell_type": "code",
   "execution_count": 32,
   "id": "393c006e-1bb9-4630-82fe-f552a32d0ea2",
   "metadata": {},
   "outputs": [
    {
     "name": "stdout",
     "output_type": "stream",
     "text": [
      "quad\n",
      "pchip: uniform input grid\n"
     ]
    }
   ],
   "source": [
    "yq4 = pchip_interpolate(x_observed2, y_observed2, xq, mode=\"quad\")"
   ]
  },
  {
   "cell_type": "markdown",
   "id": "747f21ca-b3e7-458e-8680-4ebb5a93fe3e",
   "metadata": {},
   "source": [
    "Result using SciPy implementation:"
   ]
  },
  {
   "cell_type": "code",
   "execution_count": 23,
   "id": "7a577943-0d50-4eda-adc5-0f89f5f4767f",
   "metadata": {
    "tags": []
   },
   "outputs": [],
   "source": [
    "yq5 = scipy_pchip_interpolate(x_observed, y_observed, xq)"
   ]
  },
  {
   "cell_type": "code",
   "execution_count": 24,
   "id": "b7197f08-f6a3-464a-9e33-91e06b7d5a7a",
   "metadata": {
    "tags": []
   },
   "outputs": [],
   "source": [
    "yq6 = scipy_pchip_interpolate(x_observed2, y_observed2, xq)"
   ]
  },
  {
   "cell_type": "markdown",
   "id": "92ecd2b1-06f1-49bf-ac0b-098f61a2d5b0",
   "metadata": {},
   "source": [
    "The superimposed curves below make a comparison between models. The yellow (mono) and red (scipy) curves are practically coincident, showing that the implementations are equivalent. However, the green curve (quad) shows a certain deviation, especially at the sharp edges:"
   ]
  },
  {
   "cell_type": "code",
   "execution_count": 33,
   "id": "7470af88-b421-4f79-ba31-46b59d8957da",
   "metadata": {
    "tags": []
   },
   "outputs": [
    {
     "data": {
      "image/png": "[encoded data removed]",
      "text/plain": [
       "<Figure size 640x480 with 2 Axes>"
      ]
     },
     "metadata": {},
     "output_type": "display_data"
    }
   ],
   "source": [
    "font = {'size': 'large', 'color': 'green'}\n",
    "gs = gridspec.GridSpec(1, 2, wspace=.5)\n",
    "\n",
    "ax = plt.subplot(gs[0, 0])\n",
    "ax.plot(vx, vu[2, :], \"o\", label=\"input (GHQ)\")\n",
    "ax.plot(xq, yq, label=\"mono (PCHIP)\")\n",
    "ax.plot(xq, yq3, \"--\", label=\"quad (PCHIP)\")\n",
    "ax.plot(xq, yq5, \"--\", label=\"scipy (PCHIP)\")\n",
    "ax.set_title(f\"t = {vt[2]} s\", verticalalignment='bottom', **font)\n",
    "ax.set_xlabel('x', **font)\n",
    "ax.set_ylabel('u(t,x)', **font)\n",
    "\n",
    "ax = plt.subplot(gs[0, 1])\n",
    "plt.plot(vx, vu[7, :], \"o\", label=\"input (GHQ)\")\n",
    "ax.plot(xq2, yq2, label=\"mono (PCHIP)\")\n",
    "plt.plot(xq2, yq4, \"--\", label=\"quad (PCHIP)\")\n",
    "plt.plot(xq2, yq6, \"--\", label=\"scipy (PCHIP)\")\n",
    "ax.set_title(f\"t = {vt[7]} s\", verticalalignment='bottom', **font)\n",
    "ax.set_xlabel('x', **font)\n",
    "ax.set_ylabel('u(t,x)', **font)\n",
    "ax.set_ylim([-1, 1])\n",
    "\n",
    "ax.legend(bbox_to_anchor=(0.8, -0.15), ncol=2)\n",
    "plt.show()"
   ]
  },
  {
   "cell_type": "markdown",
   "id": "ad1543b2-9241-41a8-9dd4-232583bc467f",
   "metadata": {},
   "source": [
    "# Conclusion"
   ]
  },
  {
   "cell_type": "markdown",
   "id": "da7c36dc-7440-4b20-8c4a-73f84f0f075a",
   "metadata": {},
   "source": [
    "This work sought to compare a Python implementation of the PCHIP model with the SciPy (scipy) implementation. The model in Python has two algorithms, the mono (Fritsch-Carlson) and the quad (quadratic polynomial fit). The results showed that mono and scipy are very close, while quad has deviation mainly in sharp corners of the curves."
   ]
  },
  {
   "cell_type": "markdown",
   "id": "98c4b579-9945-4910-9597-7895243207d3",
   "metadata": {},
   "source": [
    "# References\n",
    "\n",
    "[1] ROBERTS, T. W. [Non-oscillatory interpolation for the Semi-Lagrangian scheme](https://www.reading.ac.uk/maths-and-stats/-/media/project/uor-main/schools-departments/maths/documents/tomos-roberts.pdf). 2009.\n",
    "\n",
    "[2] BASDEVANT, C.; et al. Spectral and finite difference solutions of the Burgers equation. Computers & fluids 14 (1986) 23–41.\n",
    "\n",
    "[3] RAISSI, M.; et al. Physics Informed Deep Learning (Part I): Data-driven Solutions of Nonlinear Partial Differential Equations. 2017. DOI 10.48550/arXiv.1711.10561\n",
    "\n",
    "[4] Fritsch, F. N., & Carlson, R. E. (1980). Monotone Piecewise Cubic Interpolation. SIAM Journal on Numerical Analysis, 17(2), Article 2.\n",
    "\n",
    "[5] Kahaner, D., Moler, C. B., & Nash, S. (1988). Numerical Methods and Software. Prentice Hall."
   ]
  }
 ],
 "metadata": {
  "kernelspec": {
   "display_name": "Python 3 (ipykernel)",
   "language": "python",
   "name": "python3"
  },
  "language_info": {
   "codemirror_mode": {
    "name": "ipython",
    "version": 3
   },
   "file_extension": ".py",
   "mimetype": "text/x-python",
   "name": "python",
   "nbconvert_exporter": "python",
   "pygments_lexer": "ipython3",
   "version": "3.9.16"
  }
 },
 "nbformat": 4,
 "nbformat_minor": 5
}
