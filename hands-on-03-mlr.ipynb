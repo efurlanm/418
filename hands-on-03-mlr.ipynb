{
 "cells": [
  {
   "cell_type": "markdown",
   "id": "e789bbde-337b-42c2-a987-ab2fd3bf969d",
   "metadata": {},
   "source": [
    "# HANDS-ON 03\n",
    "\n",
    "2023-04-17\n",
    "\n",
    "The hands-on has 3 Notebooks:\n",
    "\n",
    "- hands-on-03-ols.ipynb\n",
    "- hands-on-03-mlr.ipynb (this file)\n",
    "- hands-on-03-galaxy.ipynb\n",
    "\n",
    "## The Multiple Linear Regression (MLR) method\n",
    "\n",
    "Multiple Linear Regression (MLR) is a statistical technique that models the linear relationship between explanatory variables (independent) and response variables (dependent). It is an extension of OLS because it involves more than one explanatory variable.\n",
    "\n",
    "Least squares regression formula:\n",
    "\n",
    "$ \\beta = (A^T A)^{-1} A^T Y $\n",
    "\n",
    "where:\n",
    "\n",
    "- $\\beta$ is a column vector such that $ \\beta_i = \\alpha_i $\n",
    "- $A$ is an $m × n$ matrix such that the $i$th column of $A$ is $F_i(x)$\n",
    "- $Y$ is a column vector such that $Y_i = y_i$ \n",
    "\n",
    "In the formula above, the term $ (A^T A)^{-1} A^T $ is called the pseudo-inverse of A.\n",
    "\n",
    "## Example:"
   ]
  },
  {
   "cell_type": "code",
   "execution_count": 29,
   "id": "0cfd4b23-a374-41b5-9437-28393f50bb56",
   "metadata": {},
   "outputs": [],
   "source": [
    "import numpy as np, scipy.optimize as so, matplotlib.pyplot as plt"
   ]
  },
  {
   "cell_type": "markdown",
   "id": "d532b1df-58b5-406b-8341-f466dab4dfb4",
   "metadata": {},
   "source": [
    "Starting from artificial data created by:"
   ]
  },
  {
   "cell_type": "code",
   "execution_count": 41,
   "id": "dc252cdb-31b9-4cb7-8511-b49d7520fde0",
   "metadata": {},
   "outputs": [
    {
     "data": {
      "text/plain": [
       "array([1.        , 1.10147076, 1.27950914, 1.50731031, 1.61278692,\n",
       "       1.68796371, 1.99220835, 2.30183274, 2.02980582, 1.97349724,\n",
       "       2.75772473])"
      ]
     },
     "execution_count": 41,
     "metadata": {},
     "output_type": "execute_result"
    }
   ],
   "source": [
    "x = np.linspace(0, 1, 11)\n",
    "y = 1 + x + x * np.random.random(len(x))\n",
    "y"
   ]
  },
  {
   "cell_type": "markdown",
   "id": "21057022-58f9-4dc2-a4c8-38b28ab3797a",
   "metadata": {},
   "source": [
    "Plot the data to show the pattern:"
   ]
  },
  {
   "cell_type": "code",
   "execution_count": 42,
   "id": "70a513be-97c4-422a-98c0-ac564d43f57c",
   "metadata": {},
   "outputs": [
    {
     "data": {
      "text/plain": [
       "Text(0.5, 1.0, 'Artificial data')"
      ]
     },
     "execution_count": 42,
     "metadata": {},
     "output_type": "execute_result"
    },
    {
     "data": {
      "image/png": "[encoded data removed]",
      "text/plain": [
       "<Figure size 640x480 with 1 Axes>"
      ]
     },
     "metadata": {},
     "output_type": "display_data"
    }
   ],
   "source": [
    "plt.plot(x, y, \"b.\")\n",
    "plt.title(\"Artificial data\")"
   ]
  },
  {
   "cell_type": "markdown",
   "id": "95c4183d-b484-4faa-927a-804041ff7ce5",
   "metadata": {},
   "source": [
    "Looking at the pattern we can see that the linear regression will most likely be a diagonal line."
   ]
  },
  {
   "cell_type": "markdown",
   "id": "3de7eb91-acd3-4b71-9b4a-2398e863fae5",
   "metadata": {},
   "source": [
    "Turn the variable y into a column vector:"
   ]
  },
  {
   "cell_type": "code",
   "execution_count": 43,
   "id": "0bb06652-43f9-40b7-adf9-974f0f79aa16",
   "metadata": {},
   "outputs": [
    {
     "data": {
      "text/plain": [
       "array([[1.        ],\n",
       "       [1.10147076],\n",
       "       [1.27950914],\n",
       "       [1.50731031],\n",
       "       [1.61278692],\n",
       "       [1.68796371],\n",
       "       [1.99220835],\n",
       "       [2.30183274],\n",
       "       [2.02980582],\n",
       "       [1.97349724],\n",
       "       [2.75772473]])"
      ]
     },
     "execution_count": 43,
     "metadata": {},
     "output_type": "execute_result"
    }
   ],
   "source": [
    "y = y[:, np.newaxis]\n",
    "y"
   ]
  },
  {
   "cell_type": "markdown",
   "id": "3a1f62dd-d4dc-4512-ad33-27640366de1e",
   "metadata": {},
   "source": [
    "Calculating $ A $ according to the formula presented earlier:"
   ]
  },
  {
   "cell_type": "code",
   "execution_count": 44,
   "id": "34d86a5e-c4af-47f3-9210-bdb467b757d2",
   "metadata": {},
   "outputs": [
    {
     "data": {
      "text/plain": [
       "array([[0. , 1. ],\n",
       "       [0.1, 1. ],\n",
       "       [0.2, 1. ],\n",
       "       [0.3, 1. ],\n",
       "       [0.4, 1. ],\n",
       "       [0.5, 1. ],\n",
       "       [0.6, 1. ],\n",
       "       [0.7, 1. ],\n",
       "       [0.8, 1. ],\n",
       "       [0.9, 1. ],\n",
       "       [1. , 1. ]])"
      ]
     },
     "execution_count": 44,
     "metadata": {},
     "output_type": "execute_result"
    }
   ],
   "source": [
    "A = np.vstack([x, np.ones(len(x))]).T\n",
    "A"
   ]
  },
  {
   "cell_type": "markdown",
   "id": "b182a0b5-8354-470d-bc98-f60f55d35be7",
   "metadata": {},
   "source": [
    "Calculating $ A^T A $ :"
   ]
  },
  {
   "cell_type": "code",
   "execution_count": 45,
   "id": "cb6a95b1-2b5d-43ad-9796-7d87a5e40f73",
   "metadata": {},
   "outputs": [
    {
     "data": {
      "text/plain": [
       "array([[ 3.85,  5.5 ],\n",
       "       [ 5.5 , 11.  ]])"
      ]
     },
     "execution_count": 45,
     "metadata": {},
     "output_type": "execute_result"
    }
   ],
   "source": [
    "np.dot(A.T, A)"
   ]
  },
  {
   "cell_type": "markdown",
   "id": "94fbc50c-c93e-4eb3-862c-0d30c1ae3fd0",
   "metadata": {},
   "source": [
    "Calculating $ (A^T A)^{-1} $ :"
   ]
  },
  {
   "cell_type": "code",
   "execution_count": 46,
   "id": "ba0c0a01-deed-4f7d-9795-b4e929fd7827",
   "metadata": {},
   "outputs": [
    {
     "data": {
      "text/plain": [
       "array([[ 0.90909091, -0.45454545],\n",
       "       [-0.45454545,  0.31818182]])"
      ]
     },
     "execution_count": 46,
     "metadata": {},
     "output_type": "execute_result"
    }
   ],
   "source": [
    "np.linalg.inv( _ )"
   ]
  },
  {
   "cell_type": "markdown",
   "id": "255d050f-a478-4a05-8a2a-bf0a3281f3d4",
   "metadata": {},
   "source": [
    "Calculating $ (A^T A)^{-1} A^T $ :"
   ]
  },
  {
   "cell_type": "code",
   "execution_count": 47,
   "id": "24973139-9ead-44e0-9fca-3f26c4488b14",
   "metadata": {},
   "outputs": [
    {
     "data": {
      "text/plain": [
       "array([[-4.54545455e-01, -3.63636364e-01, -2.72727273e-01,\n",
       "        -1.81818182e-01, -9.09090909e-02, -1.11022302e-16,\n",
       "         9.09090909e-02,  1.81818182e-01,  2.72727273e-01,\n",
       "         3.63636364e-01,  4.54545455e-01],\n",
       "       [ 3.18181818e-01,  2.72727273e-01,  2.27272727e-01,\n",
       "         1.81818182e-01,  1.36363636e-01,  9.09090909e-02,\n",
       "         4.54545455e-02, -5.55111512e-17, -4.54545455e-02,\n",
       "        -9.09090909e-02, -1.36363636e-01]])"
      ]
     },
     "execution_count": 47,
     "metadata": {},
     "output_type": "execute_result"
    }
   ],
   "source": [
    "np.dot( _ , A.T)"
   ]
  },
  {
   "cell_type": "markdown",
   "id": "d8aec15f-da24-47ab-b4a5-75db49aa061a",
   "metadata": {},
   "source": [
    "Calculating $ (A^T A)^{-1} A^T Y $ :"
   ]
  },
  {
   "cell_type": "code",
   "execution_count": 48,
   "id": "05bb17a8-b87e-4918-934f-7a56d2ef7344",
   "metadata": {},
   "outputs": [
    {
     "data": {
      "text/plain": [
       "array([[1.49964417],\n",
       "       [0.99964243]])"
      ]
     },
     "execution_count": 48,
     "metadata": {},
     "output_type": "execute_result"
    }
   ],
   "source": [
    "np.dot( _ , y)"
   ]
  },
  {
   "cell_type": "markdown",
   "id": "80723960-7021-4ba4-a1b5-a3e625fbd175",
   "metadata": {},
   "source": [
    "Now, let's assume that the estimation function is defined by $ \\hat{y} = \\alpha_1 x + \\alpha_2 $ :"
   ]
  },
  {
   "cell_type": "code",
   "execution_count": 49,
   "id": "23e367c4-59fa-4c0e-a5a4-fcd7d8dcec2f",
   "metadata": {},
   "outputs": [
    {
     "data": {
      "text/plain": [
       "array([0.99964243, 1.14960685, 1.29957127, 1.44953568, 1.5995001 ,\n",
       "       1.74946452, 1.89942894, 2.04939335, 2.19935777, 2.34932219,\n",
       "       2.49928661])"
      ]
     },
     "execution_count": 49,
     "metadata": {},
     "output_type": "execute_result"
    }
   ],
   "source": [
    "Y = _[0]*x + _[1]\n",
    "Y"
   ]
  },
  {
   "cell_type": "markdown",
   "id": "a8680009-04ec-4a92-b008-82ba9c2a5a05",
   "metadata": {},
   "source": [
    "Plot the result:"
   ]
  },
  {
   "cell_type": "code",
   "execution_count": 50,
   "id": "5dcdad4c-26bf-4dcf-a79e-abdb174a53d3",
   "metadata": {},
   "outputs": [
    {
     "data": {
      "text/plain": [
       "[<matplotlib.lines.Line2D at 0x7f81829f38b0>]"
      ]
     },
     "execution_count": 50,
     "metadata": {},
     "output_type": "execute_result"
    },
    {
     "data": {
      "image/png": "[encoded data removed]",
      "text/plain": [
       "<Figure size 640x480 with 1 Axes>"
      ]
     },
     "metadata": {},
     "output_type": "display_data"
    }
   ],
   "source": [
    "plt.plot(x, y, \".\")\n",
    "plt.plot(x, Y)"
   ]
  },
  {
   "cell_type": "markdown",
   "id": "b6b57723-34d4-4d2d-b205-ff72c3728bd4",
   "metadata": {},
   "source": [
    "As expected, the linear regression is a diagonal line."
   ]
  },
  {
   "cell_type": "markdown",
   "id": "86ed8d76-607f-49bb-91d3-045e2a7a2af3",
   "metadata": {},
   "source": [
    "# References\n",
    "\n",
    "KONG, Q.; SIAUW, T.; BAYEN, A. Python Programming and Numerical Methods: A Guide for Engineers and Scientists. [S. l.]: Elsevier Science, 2020. vol. 1."
   ]
  }
 ],
 "metadata": {
  "kernelspec": {
   "display_name": "tf",
   "language": "python",
   "name": "tf"
  },
  "language_info": {
   "codemirror_mode": {
    "name": "ipython",
    "version": 3
   },
   "file_extension": ".py",
   "mimetype": "text/x-python",
   "name": "python",
   "nbconvert_exporter": "python",
   "pygments_lexer": "ipython3",
   "version": "3.10.8"
  }
 },
 "nbformat": 4,
 "nbformat_minor": 5
}
