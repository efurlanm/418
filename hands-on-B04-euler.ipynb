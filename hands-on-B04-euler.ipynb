{
 "cells": [
  {
   "cell_type": "markdown",
   "id": "99973b15-7df4-461f-958e-b59f0c86d422",
   "metadata": {
    "tags": []
   },
   "source": [
    "[![Open In Colab](https://colab.research.google.com/assets/colab-badge.svg)](https://colab.research.google.com/github/efurlanm/418/blob/master/hands-on-B04-euler.ipynb)"
   ]
  },
  {
   "cell_type": "markdown",
   "id": "6a1c8fdd-76eb-4038-8b9d-33855e610542",
   "metadata": {
    "tags": []
   },
   "source": [
    "# Euler's Method\n",
    "\n",
    "*Last edited 2023-06-16*"
   ]
  },
  {
   "cell_type": "markdown",
   "id": "9518d241-aa30-43b8-bf20-9802162e5f24",
   "metadata": {},
   "source": [
    "Euler's method, a numerical method for approximating solutions of first-order Initial Value Problems (IVP) used to solve ordinary differential equations (ODEs) with a given initial value, is one of the most basic explicit methods for numerical integration of ODEs, and was first proposed in the book Institutionum Calculi Integralis published in 1768–1870. As it is a first-order method, the local error (error per step) is proportional to the square of the step size, and the global error (error at a given time) is proportional to the step size. We can apply it to the approximate solution of an IVP $y'=f(x,y) \\ , \\ y(x_0)=y_0$ . As we know $x_0$ and $y_0 = y(x_0)$ , so we know how to calculate $y'(x_0)=f(x_0,y_0)$ . Thus, the line passing through $(x_0, y_0)$ with angular coefficient $y'(x_0),r_0(x)$ is given by $r_0(x)=y(x_0)+(x-x_0)y'(x_0)$ for step size $h=x_{k+1}-x_k \\ , \\ y(x_1) \\approx y_1 = r_0(x_1) = y _0+hy'(x_0)$, that is, $y_1=y_0+hf (x_0,y_0)$ ."
   ]
  },
  {
   "cell_type": "markdown",
   "id": "b98bb7d1-1ea8-4c9d-915f-6e9421ce9333",
   "metadata": {},
   "source": [
    "# Implementation"
   ]
  },
  {
   "cell_type": "code",
   "execution_count": 2,
   "id": "7e2ba121-cf53-4bf2-8883-0d8e778f3dd7",
   "metadata": {},
   "outputs": [],
   "source": [
    "import numpy as np\n",
    "from numpy import arange\n",
    "\n",
    "np.set_printoptions(precision=4, suppress=True)"
   ]
  },
  {
   "cell_type": "code",
   "execution_count": 3,
   "id": "42a05b81-efbf-4241-be20-bf61e7d3fa41",
   "metadata": {},
   "outputs": [],
   "source": [
    "def euler(x, y, h, f, n):\n",
    "    print(\" n    x      y          d       y_n+1\")\n",
    "    print(\"--   ---   -------   -------   -------\")\n",
    "    for i in range(n):\n",
    "        d = f(x, y)\n",
    "        y2 = y + h * d\n",
    "        print(f\"{i:2}   {x:.1f}   {y:07.4f}   {d:07.4f}   {y2:07.4f}\")\n",
    "        x = x + h\n",
    "        y = y2"
   ]
  },
  {
   "cell_type": "markdown",
   "id": "1dd1ce37-9529-4cab-8b8b-bdd921714ec4",
   "metadata": {},
   "source": [
    "# Example 1"
   ]
  },
  {
   "cell_type": "markdown",
   "id": "3bf4d2f2-d3bf-4493-9908-4b2be5215f59",
   "metadata": {},
   "source": [
    "<br>\n",
    "\n",
    "Example from: Devin Henson. Euler's Method - Example 1. https://youtu.be/PwuZ3nir7d4 "
   ]
  },
  {
   "cell_type": "markdown",
   "id": "a827892d-304c-465d-a922-25c3ad5767fa",
   "metadata": {},
   "source": [
    "$ \\frac{dy}{dx} = x + 2y \\ , \\quad h = 0.1 $\n",
    "\n",
    "Approximate $y(0.4)$ using Euler's method.\n",
    "\n",
    "$X_n = X_{n-1} + h \\\\\n",
    "Y_n = Y_{n-1} + h \\cdot f(X_{n-1}, Y_{n-1})$"
   ]
  },
  {
   "cell_type": "code",
   "execution_count": 4,
   "id": "73540362-0155-4f6c-bd24-29f50766ab21",
   "metadata": {},
   "outputs": [
    {
     "name": "stdout",
     "output_type": "stream",
     "text": [
      " n    x      y          d       y_n+1\n",
      "--   ---   -------   -------   -------\n",
      " 0   0.0   00.0000   00.0000   00.0000\n",
      " 1   0.1   00.0000   00.1000   00.0100\n",
      " 2   0.2   00.0100   00.2200   00.0320\n",
      " 3   0.3   00.0320   00.3640   00.0684\n",
      " 4   0.4   00.0684   00.5368   00.1221\n"
     ]
    }
   ],
   "source": [
    "def f(x, y):\n",
    "    return x + 2*y\n",
    "\n",
    "x = 0.0\n",
    "y = 0.0\n",
    "h = 0.1\n",
    "n = 5\n",
    "\n",
    "euler(x, y, h, f, n)"
   ]
  },
  {
   "cell_type": "markdown",
   "id": "5f3a3e19-ebc4-48f1-8f17-c4539daf91db",
   "metadata": {},
   "source": [
    "Result: the approximation to $y(0.4)$ is 0.0684 ."
   ]
  },
  {
   "cell_type": "markdown",
   "id": "0c8936fd-6f90-4541-b3a0-4acf134011f3",
   "metadata": {},
   "source": [
    "# Example 2"
   ]
  },
  {
   "cell_type": "markdown",
   "id": "9cebe8f3-904f-42ef-bfa2-476c074ff886",
   "metadata": {
    "tags": []
   },
   "source": [
    "Based on: Khan Academy. Euler's method. https://youtu.be/q87L9R9v274"
   ]
  },
  {
   "cell_type": "markdown",
   "id": "967135d9-b20f-4aba-a76e-d7b5f2756470",
   "metadata": {},
   "source": [
    "$ \\frac{dy}{dx} = y \\ , \\quad y(0) = 1 $\n",
    "\n",
    "The manual analytical solution is $y=e^x$"
   ]
  },
  {
   "cell_type": "code",
   "execution_count": 12,
   "id": "0ba56bfb-b827-4c11-a374-2bd948da821d",
   "metadata": {},
   "outputs": [
    {
     "name": "stdout",
     "output_type": "stream",
     "text": [
      " n    x      y          d       y_n+1\n",
      "--   ---   -------   -------   -------\n",
      " 0   0.0   01.0000   01.0000   02.0000\n",
      " 1   1.0   02.0000   02.0000   04.0000\n",
      " 2   2.0   04.0000   04.0000   08.0000\n",
      " 3   3.0   08.0000   08.0000   16.0000\n"
     ]
    }
   ],
   "source": [
    "def f(x, y):\n",
    "    return y\n",
    "\n",
    "x = 0.0\n",
    "y = 1.0\n",
    "h = 1.0\n",
    "n = 4\n",
    "\n",
    "euler(x, y, h, f, n)"
   ]
  },
  {
   "cell_type": "markdown",
   "id": "f5f1f362-56fa-4c0a-9d2f-c1d62758731d",
   "metadata": {},
   "source": [
    "Comparing with the manual analytical solution of $e^3 \\approx 20$ for $x=3$, we can see that for $h=1.0$ the result of 8.0 was far from expected.\n",
    "\n",
    "Let's now reduce the value of $h$ :"
   ]
  },
  {
   "cell_type": "code",
   "execution_count": 18,
   "id": "2ef1c21d-6d37-4691-bd90-60458197a1e8",
   "metadata": {},
   "outputs": [
    {
     "name": "stdout",
     "output_type": "stream",
     "text": [
      " n    x      y          d       y_n+1\n",
      "--   ---   -------   -------   -------\n",
      " 0   0.0   01.0000   01.0000   01.1000\n",
      " 1   0.1   01.1000   01.1000   01.2100\n",
      " 2   0.2   01.2100   01.2100   01.3310\n",
      " 3   0.3   01.3310   01.3310   01.4641\n",
      " 4   0.4   01.4641   01.4641   01.6105\n",
      " 5   0.5   01.6105   01.6105   01.7716\n",
      " 6   0.6   01.7716   01.7716   01.9487\n",
      " 7   0.7   01.9487   01.9487   02.1436\n",
      " 8   0.8   02.1436   02.1436   02.3579\n",
      " 9   0.9   02.3579   02.3579   02.5937\n",
      "10   1.0   02.5937   02.5937   02.8531\n",
      "11   1.1   02.8531   02.8531   03.1384\n",
      "12   1.2   03.1384   03.1384   03.4523\n",
      "13   1.3   03.4523   03.4523   03.7975\n",
      "14   1.4   03.7975   03.7975   04.1772\n",
      "15   1.5   04.1772   04.1772   04.5950\n",
      "16   1.6   04.5950   04.5950   05.0545\n",
      "17   1.7   05.0545   05.0545   05.5599\n",
      "18   1.8   05.5599   05.5599   06.1159\n",
      "19   1.9   06.1159   06.1159   06.7275\n",
      "20   2.0   06.7275   06.7275   07.4002\n",
      "21   2.1   07.4002   07.4002   08.1403\n",
      "22   2.2   08.1403   08.1403   08.9543\n",
      "23   2.3   08.9543   08.9543   09.8497\n",
      "24   2.4   09.8497   09.8497   10.8347\n",
      "25   2.5   10.8347   10.8347   11.9182\n",
      "26   2.6   11.9182   11.9182   13.1100\n",
      "27   2.7   13.1100   13.1100   14.4210\n",
      "28   2.8   14.4210   14.4210   15.8631\n",
      "29   2.9   15.8631   15.8631   17.4494\n",
      "30   3.0   17.4494   17.4494   19.1943\n"
     ]
    }
   ],
   "source": [
    "def f(x, y):\n",
    "    return y\n",
    "\n",
    "x = 0.0\n",
    "y = 1.0\n",
    "h = 0.1\n",
    "n = 31\n",
    "\n",
    "euler(x, y, h, f, n)"
   ]
  },
  {
   "cell_type": "markdown",
   "id": "8c0c63b8-2360-4e08-bd3a-efec2406d7da",
   "metadata": {},
   "source": [
    "With $h=0.1$ the result of 17 was closer to the expected 20."
   ]
  },
  {
   "cell_type": "markdown",
   "id": "53906e1d-9787-4816-8c12-ba8471408346",
   "metadata": {},
   "source": [
    "# Example 3"
   ]
  },
  {
   "cell_type": "markdown",
   "id": "177f2736-d2f2-483c-a074-d2bd6b291ff6",
   "metadata": {},
   "source": [
    "<br>\n",
    "\n",
    "Based on: The Organic Chemistry Tutor. Euler's Method. https://youtu.be/ukNbG7muKho"
   ]
  },
  {
   "cell_type": "markdown",
   "id": "a78f284a-209d-4907-903a-2941d88f16f0",
   "metadata": {},
   "source": [
    "$ \\frac{dy}{dx} = x + 2y \\ , \\ h=0.1 \\ , \\ y(2)=3 \\ , \\ y(2.5)=? $"
   ]
  },
  {
   "cell_type": "code",
   "execution_count": 19,
   "id": "b1a9eb72-a331-46c5-975a-b14c0bc90b81",
   "metadata": {},
   "outputs": [
    {
     "name": "stdout",
     "output_type": "stream",
     "text": [
      " n    x      y          d       y_n+1\n",
      "--   ---   -------   -------   -------\n",
      " 0   2.0   03.0000   08.0000   03.8000\n",
      " 1   2.1   03.8000   09.7000   04.7700\n",
      " 2   2.2   04.7700   11.7400   05.9440\n",
      " 3   2.3   05.9440   14.1880   07.3628\n",
      " 4   2.4   07.3628   17.1256   09.0754\n",
      " 5   2.5   09.0754   20.6507   11.1404\n"
     ]
    }
   ],
   "source": [
    "def f(x, y):\n",
    "    return x + 2*y\n",
    "\n",
    "x = 2.0\n",
    "y = 3.0\n",
    "h = 0.1\n",
    "n = 6\n",
    "\n",
    "euler(x, y, h, f, n)"
   ]
  },
  {
   "cell_type": "markdown",
   "id": "fa056036-7305-4bd7-9a3c-f5da3cc03062",
   "metadata": {},
   "source": [
    "Result: $ y(2.5)= 9.0754 $"
   ]
  },
  {
   "cell_type": "markdown",
   "id": "7c55e25e-7d58-4ccb-b13b-a78d4cd1411c",
   "metadata": {},
   "source": [
    "# Example 4"
   ]
  },
  {
   "cell_type": "markdown",
   "id": "86adab13-d138-4e08-be23-3c974cc57136",
   "metadata": {},
   "source": [
    "Based on: Jenn from Calcworkshop. Euler's Method. https://youtu.be/8cW_CQ77ayI"
   ]
  },
  {
   "cell_type": "markdown",
   "id": "6b467a99-b870-478f-93b7-499ae7ef1505",
   "metadata": {},
   "source": [
    "Use Euler's method with $h=0.1$ to approximate $y(0.3)$ for the IVP $ \\frac{dy}{dx} = x + y \\ , \\quad y(0)=1 $ ."
   ]
  },
  {
   "cell_type": "code",
   "execution_count": 20,
   "id": "a6ef1649-9875-47ae-9d81-2d0a81188557",
   "metadata": {},
   "outputs": [
    {
     "name": "stdout",
     "output_type": "stream",
     "text": [
      " n    x      y          d       y_n+1\n",
      "--   ---   -------   -------   -------\n",
      " 0   0.0   01.0000   01.0000   01.1000\n",
      " 1   0.1   01.1000   01.2000   01.2200\n",
      " 2   0.2   01.2200   01.4200   01.3620\n",
      " 3   0.3   01.3620   01.6620   01.5282\n"
     ]
    }
   ],
   "source": [
    "def f(x, y):\n",
    "    return x + y\n",
    "\n",
    "x = 0.0\n",
    "y = 1.0\n",
    "h = 0.1\n",
    "n = 4\n",
    "\n",
    "euler(x, y, h, f, n)"
   ]
  },
  {
   "cell_type": "markdown",
   "id": "d2abc124-a630-466e-8019-10fee18fa037",
   "metadata": {},
   "source": [
    "The result of approximation $y(0.3)$ is 1.362 ."
   ]
  },
  {
   "cell_type": "markdown",
   "id": "57acfa6a-83eb-45a5-81d8-04bd83b85f55",
   "metadata": {},
   "source": [
    "# Conclusion"
   ]
  },
  {
   "cell_type": "markdown",
   "id": "f827e7e0-664b-4eb9-9bd9-cae56fead2b1",
   "metadata": {},
   "source": [
    "This work sought to show an introduction to the numerical method for approximating solutions of first order Initial Value Problems (IVP) used to solve ordinary differential equations (ODEs) with a given initial value. An implementation was made and some examples showed its application. In particular, example 2 showed that a large number of iterations may be necessary to reduce the error and reach a result close to the expected one."
   ]
  },
  {
   "cell_type": "markdown",
   "id": "8ca6022a-37f4-4d6e-9a1e-b60678103e3a",
   "metadata": {},
   "source": [
    "# References"
   ]
  },
  {
   "cell_type": "markdown",
   "id": "4fd82dc1-a5e7-4065-aeed-531b17b9e02c",
   "metadata": {},
   "source": [
    "EULER’S METHOD. DIFFERENTIAL EQUATIONS. [S. l.: s. n.], 2014. Available at: https://www.youtube.com/watch?v=q87L9R9v274. Accessed on: 10 Jun. 2023.\n",
    "\n",
    "FIREFLY LECTURES. Euler’s Method - Example 1. [S. l.: s. n.], 28 Apr. 2013. Available at: https://www.youtube.com/watch?v=PwuZ3nir7d4. Accessed on: 10 Jun. 2023.\n",
    "\n",
    "JENN. Euler’s Method - A Simple Table That Works Every Time - YouTube. [S. l.: s. n.], 2016. Available at: https://www.youtube.com/watch?v=8cW_CQ77ayI. Accessed on: 10 Jun. 2023.\n",
    "\n",
    "RUGGIERO, M. A. G.; LOPES, V. L. D. R. Cálculo numérico: aspectos teóricos e computacionais. [S. l.]: Pearson Makron Books, 1996. vol. 1, . Available at: https://worldcat.org/en/title/1042351138.\n",
    "\n",
    "THE ORGANIC CHEMISTRY TUTOR. Euler’s Method Differential Equations, Examples, Numerical Methods, Calculus. [S. l.: s. n.], 11 Feb. 2017. Available at: https://www.youtube.com/watch?v=ukNbG7muKho. Accessed on: 10 Jun. 2023.\n"
   ]
  }
 ],
 "metadata": {
  "kernelspec": {
   "display_name": "Python 3 (ipykernel)",
   "language": "python",
   "name": "python3"
  },
  "language_info": {
   "codemirror_mode": {
    "name": "ipython",
    "version": 3
   },
   "file_extension": ".py",
   "mimetype": "text/x-python",
   "name": "python",
   "nbconvert_exporter": "python",
   "pygments_lexer": "ipython3",
   "version": "3.9.16"
  }
 },
 "nbformat": 4,
 "nbformat_minor": 5
}
