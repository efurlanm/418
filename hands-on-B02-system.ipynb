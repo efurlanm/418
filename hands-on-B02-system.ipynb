{
 "cells": [
  {
   "cell_type": "markdown",
   "id": "5d7439c1-4237-4c53-aba3-d557efd5c8fd",
   "metadata": {},
   "source": [
    "# System of linear equations\n",
    "\n",
    "2023-05-27\n",
    "\n",
    "A system of linear equations is a collection of one or more linear equations involving the same variables, and the solution to the system is an assignment of values to the variables so that all equations are satisfied simultaneously."
   ]
  },
  {
   "cell_type": "markdown",
   "id": "295b81cc-368b-4298-9d3d-6f535d98032d",
   "metadata": {},
   "source": [
    "Solve the linear equations:\n",
    "\n",
    "$$x-y+2z-2 = 0 \\tag{1}$$\n",
    "$$2x+y-z-1 = 0 \\tag{2}$$\n",
    "$$-2x-5y+3z-3 = 0 \\tag{3}$$"
   ]
  },
  {
   "cell_type": "markdown",
   "id": "b86ca95b-be07-4a1f-a9de-a00d8510f87d",
   "metadata": {
    "jp-MarkdownHeadingCollapsed": true,
    "tags": []
   },
   "source": [
    "## Solving manually\n",
    "\n",
    "Starting from Eq. (1):\n",
    "\n",
    "$\n",
    "x-y+2z-2 = 0 \\\\\n",
    "\\mathbf{x=y-2z+2} \\qquad\\text{(a)}\n",
    "$\n",
    "\n",
    "Replacing in Eq (2):\n",
    "\n",
    "$\n",
    "2(y-2z+2)+y-z-1=0 \\\\\n",
    "2y-4z+4+y-z-1=0 \\\\\n",
    "2y+y-4z-z=1-4 \\\\\n",
    "3y-5z=-3\\\\\n",
    "\\mathbf{y=\\frac{5}{3}z-1}\\qquad\\text{(b)}\n",
    "$\n",
    "\n",
    "Substituting Eq. (b) in Eq. (a):\n",
    "\n",
    "$\n",
    "x=\\frac{5}{3}z-1-2z+2\\\\\n",
    "x=z(\\frac{5}{3}-2)-1+2\\\\\n",
    "\\mathbf{x=-\\frac{z}{3}+1}\\qquad\\text{(c)}\n",
    "$\n",
    "\n",
    "Substituting Eq. (b) and (c) in Eq. (3):\n",
    "\n",
    "$\n",
    "-2(-\\frac{z}{3}+1)-5(\\frac{5}{3}z-1)+3z-3=0\\\\\n",
    "\\frac{2z}{3}-2-\\frac{25z}{3}+5+3z-3=0\\\\\n",
    "z(\\frac{2z}{3}-\\frac{25}{3}+3)=3-5+2\\\\\n",
    "\\mathbf{z=0}\\qquad\\text{(d)}\n",
    "$\n",
    "\n",
    "Substituting Eq. (d) in Eq. (c):\n",
    "\n",
    "$\n",
    "x=-\\frac{0}{3}+1\\\\\n",
    "\\mathbf{x=1}\n",
    "$\n",
    "\n",
    "Substituting Eq. (d) in Eq. (b):\n",
    "\n",
    "$\n",
    "y=\\frac{5}{3}0-1\\\\\n",
    "\\mathbf{y=-1}\n",
    "$\n",
    "\n",
    "Solution:\n",
    "\n",
    "$\n",
    "x=1;y=-1;z=0\n",
    "$"
   ]
  },
  {
   "cell_type": "markdown",
   "id": "ad0a041a-90c3-4890-b2be-dac273e56f60",
   "metadata": {},
   "source": [
    "## Solving using the library SymPy\n",
    "\n",
    "[Sympy library](https://www.sympy.org/en/index.html) is a Python library for symbolic mathematics"
   ]
  },
  {
   "cell_type": "code",
   "execution_count": 1,
   "id": "86912d36-5d8e-4bd5-8894-ce1ad3287ec9",
   "metadata": {},
   "outputs": [],
   "source": [
    "from sympy import solve\n",
    "from sympy.abc import x, y, z"
   ]
  },
  {
   "cell_type": "code",
   "execution_count": 4,
   "id": "56bfdc77-9747-4642-b8d4-6d18d842599f",
   "metadata": {},
   "outputs": [
    {
     "data": {
      "text/plain": [
       "[{x: 1, y: -1, z: 0}]"
      ]
     },
     "execution_count": 4,
     "metadata": {},
     "output_type": "execute_result"
    }
   ],
   "source": [
    "solve([x - y + 2 * z - 2,\n",
    "       2 * x + y - z - 1,\n",
    "       -2 * x - 5 * y + 3 * z - 3],\n",
    "      [x, y, z],\n",
    "      dict=True)"
   ]
  },
  {
   "cell_type": "markdown",
   "id": "3cd07c00-9501-4982-9805-b614f067fa9d",
   "metadata": {},
   "source": [
    "## Solving manually using Gaussian elimination\n",
    "\n",
    "https://en.wikipedia.org/wiki/Gaussian_elimination"
   ]
  },
  {
   "cell_type": "markdown",
   "id": "684fea38-a704-4d66-b8ee-cd0aa3f57e47",
   "metadata": {},
   "source": [
    "$\n",
    "x-y+2z = 2\\\\\n",
    "2x+y-z = 1\\\\\n",
    "-2x-5y+3z = 3\n",
    "$\n",
    "\n",
    "$\n",
    "\\left[\n",
    "\\begin{array}{@{}ccc|c@{}}\n",
    "1  & -1 &  2 & 2\\\\\n",
    "2  &  1 & -1 & 1\\\\\n",
    "-2 & -5 &  3 & 3\\\\\n",
    "\\end{array}\n",
    "\\right]\n",
    "$\n",
    "\n",
    "pivot = $a_{11}$ = 1\n",
    "\n",
    "$m_{21} = \\frac{2}{1} = 2$\n",
    "\n",
    "$m_{31} = \\frac{-2}{1} = 2$\n",
    "\n",
    "$L_2 = L_2 - m_{21} L_1 $\n",
    "\n",
    "$L_3 = L_3 - m_{31} L_1 $\n",
    "\n",
    "$\n",
    "\\left[\n",
    "\\begin{array}{@{}ccc|c@{}}\n",
    "1 & -1 &  2 &  2\\\\\n",
    "0 &  3 & -5 & -3\\\\\n",
    "0 & -7 &  7 &  7\\\\\n",
    "\\end{array}\n",
    "\\right]\n",
    "$\n",
    "\n",
    "pivot = $a_{22}$ = 3\n",
    "\n",
    "$m_{32} = \\frac{-7}{3}$\n",
    "\n",
    "$L_3 = L_3 - m_{32} L_2 $\n",
    "\n",
    "$\n",
    "\\left[\n",
    "\\begin{array}{@{}ccc|c@{}}\n",
    "1 & -1 &  2 &  2\\\\\n",
    "0 &  3 & -5 & -3\\\\\n",
    "0 & 0 &  -\\frac{14}{3} &  0\\\\\n",
    "\\end{array}\n",
    "\\right]\n",
    "$\n",
    "\n",
    "Replacing:\n",
    "\n",
    "$\n",
    "x-y+2z = 2\\\\\n",
    "0+3y-5z = -3\\\\\n",
    "0-0-\\frac{14}{3}z = 0\n",
    "$\n",
    "\n",
    "Solving:\n",
    "\n",
    "$\n",
    "-\\frac{14}{3}z = 0 \\quad \\implies \\quad z = 0\n",
    "$\n",
    "\n",
    "$\n",
    "3y -5\\times0 = -3 \\quad \\implies \\quad y=-1\n",
    "$\n",
    "\n",
    "$\n",
    "x-(-1) + 5\\times0 = 2  \\quad \\implies \\quad x=1\n",
    "$\n",
    "\n",
    "Solution:\n",
    "\n",
    "$\n",
    "x=1;y=-1;z=0\n",
    "$\n",
    "\n",
    "$\n",
    "\\begin{bmatrix}\n",
    "x\\\\\n",
    "y\\\\\n",
    "z\\\\\n",
    "\\end{bmatrix}\n",
    "=\n",
    "\\begin{bmatrix}\n",
    "1\\\\\n",
    "-1\\\\\n",
    "0\\\\\n",
    "\\end{bmatrix}\n",
    "$"
   ]
  },
  {
   "cell_type": "markdown",
   "id": "a986bcae-f5f3-406b-8c21-ce3a3c0f7ae1",
   "metadata": {},
   "source": [
    "## Implementation\n",
    "\n",
    "The implementation uses as input data a NumPy array containing the elements to be solved in the form of a matrix. The final output is the matrix containing the reduced triangular matrix. The implementation does not resolve the final individual values of each variable."
   ]
  },
  {
   "cell_type": "code",
   "execution_count": 5,
   "id": "01990192-f516-48c9-a809-2b20f2085f6f",
   "metadata": {},
   "outputs": [],
   "source": [
    "import numpy as np"
   ]
  },
  {
   "cell_type": "code",
   "execution_count": 6,
   "id": "ed8e7442-8167-4f21-83bd-0951c1511ac3",
   "metadata": {},
   "outputs": [],
   "source": [
    "matr = np.array([\n",
    "    [1, -1, 2, 2],\n",
    "    [2, 1, -1, 1],\n",
    "    [-2, -5, 3, 3]],\n",
    "    dtype=float)"
   ]
  },
  {
   "cell_type": "code",
   "execution_count": 7,
   "id": "37d7d98e-4c04-4701-adf4-97a40c347736",
   "metadata": {},
   "outputs": [
    {
     "name": "stdout",
     "output_type": "stream",
     "text": [
      "Pivot = a(1,1)\n",
      "[[ 1. -1.  2.  2.]\n",
      " [ 0.  3. -5. -3.]\n",
      " [ 0. -7.  7.  7.]]\n",
      "Pivot = a(2,2)\n",
      "[[ 1.         -1.          2.          2.        ]\n",
      " [ 0.          3.         -5.         -3.        ]\n",
      " [ 0.          0.         -4.66666667  0.        ]]\n"
     ]
    }
   ],
   "source": [
    "N = matr.shape[0]\n",
    "M = matr.shape[1]\n",
    "for i in range(N - 1):\n",
    "    print(f\"Pivot = a({i+1},{i+1})\")\n",
    "    P = matr[i, i]\n",
    "    L1 = matr[i, :]\n",
    "    for j in range(i + 1, N):\n",
    "        L = matr[j, :]\n",
    "        m = matr[j, i] / P\n",
    "        matr[j, :] = L - m * L1\n",
    "    print(matr)"
   ]
  },
  {
   "cell_type": "markdown",
   "id": "1c587aaf-beb6-413f-b7f4-807a60d61359",
   "metadata": {},
   "source": [
    "The value of variable z is"
   ]
  },
  {
   "cell_type": "code",
   "execution_count": 11,
   "id": "33680459-d8bd-4520-9d39-e5f8be1a0a6e",
   "metadata": {},
   "outputs": [
    {
     "data": {
      "text/plain": [
       "-0.0"
      ]
     },
     "execution_count": 11,
     "metadata": {},
     "output_type": "execute_result"
    }
   ],
   "source": [
    "matr[N - 1, M - 1] / matr[N - 1, M - 2]"
   ]
  },
  {
   "cell_type": "markdown",
   "id": "f81ad43e-4a8d-46a3-9475-cdc3cebddc5e",
   "metadata": {},
   "source": [
    "The value of variable y is"
   ]
  },
  {
   "cell_type": "code",
   "execution_count": 21,
   "id": "d7cbe2f7-b49c-45c8-91b0-b527d4572301",
   "metadata": {},
   "outputs": [
    {
     "data": {
      "text/plain": [
       "-1.0"
      ]
     },
     "execution_count": 21,
     "metadata": {},
     "output_type": "execute_result"
    }
   ],
   "source": [
    "(matr[N-2,M-1] - z * matr[N-2,M-2]) / matr[N-2,M-3]"
   ]
  },
  {
   "cell_type": "markdown",
   "id": "4aa1aacf-7fc6-4166-98b8-81baadffe898",
   "metadata": {},
   "source": [
    "The value of variable x is"
   ]
  },
  {
   "cell_type": "code",
   "execution_count": 24,
   "id": "56528576-7491-4989-9234-6ff77b65ddb8",
   "metadata": {},
   "outputs": [
    {
     "data": {
      "text/plain": [
       "1.0"
      ]
     },
     "execution_count": 24,
     "metadata": {},
     "output_type": "execute_result"
    }
   ],
   "source": [
    "(matr[N-3,M-1] - z * matr[N-3,M-2] - y * matr[N-3,M-3]) / matr[N-3,M-4]"
   ]
  },
  {
   "cell_type": "markdown",
   "id": "7b83c4af-3574-4160-823f-a9a06f73f75f",
   "metadata": {},
   "source": [
    "# Exercise\n",
    "\n",
    "Linear systems in vehicle traffic\n",
    "\n",
    "Based on: http://www.ime.unicamp.br/~apmat/sistemas-lineares-algumas-aplicacoes/  (in Portuguese)"
   ]
  },
  {
   "attachments": {
    "908900d4-fde3-462e-ac25-b52eed727e38.png": {
     "image/png": "[encoded data removed]"
    }
   },
   "cell_type": "markdown",
   "id": "51eb7ab0-228b-40a0-b252-c02e324f0a82",
   "metadata": {},
   "source": [
    "![image.png](attachment:908900d4-fde3-462e-ac25-b52eed727e38.png)"
   ]
  },
  {
   "cell_type": "markdown",
   "id": "e55e8bc2-8c39-432a-941a-1ff4cf35c698",
   "metadata": {},
   "source": [
    "A=40, B=55, CB=10, CD=30, DB=20"
   ]
  },
  {
   "cell_type": "markdown",
   "id": "d7afbef7-95b6-45d2-9e81-32337935e842",
   "metadata": {},
   "source": [
    "| In | Out |\n",
    "|---|---|\n",
    "| $$40+x_4$$ | $$55+x5$$ |\n",
    "| $$40$$ | $$x1+x2$$ |\n",
    "| $$x_1+x_3+20$$ | $$55$$ |\n",
    "| $$x_2+x_4$$ | $$x_3+30$$ |\n",
    "| $$30$$ | $$20+x_5$$ |"
   ]
  },
  {
   "cell_type": "code",
   "execution_count": 110,
   "id": "8f38651e-1af1-49f1-ad73-85404f67bfc4",
   "metadata": {},
   "outputs": [],
   "source": [
    "def calc(A,B,CB,CD,DB):\n",
    "    x1 = B - DB - CB\n",
    "    x5 = CD - DB\n",
    "    x2 = A - x1\n",
    "    x4 = CB + CD - x2\n",
    "    return x1, x2, x4, x5"
   ]
  },
  {
   "cell_type": "markdown",
   "id": "e856cc97-b386-4907-8d9a-e07e4c56aabd",
   "metadata": {},
   "source": [
    "Other simulations using other input values:"
   ]
  },
  {
   "cell_type": "code",
   "execution_count": 111,
   "id": "5f82fbc8-6814-4863-b0cc-95292620444a",
   "metadata": {},
   "outputs": [
    {
     "data": {
      "text/plain": [
       "(25, 15, 25, 10)"
      ]
     },
     "execution_count": 111,
     "metadata": {},
     "output_type": "execute_result"
    }
   ],
   "source": [
    "calc(40,55,10,30,20)"
   ]
  },
  {
   "cell_type": "code",
   "execution_count": 112,
   "id": "64c92120-9972-48c5-9aef-5a6bcad5f07c",
   "metadata": {},
   "outputs": [
    {
     "data": {
      "text/plain": [
       "(10, 10, 35, 20)"
      ]
     },
     "execution_count": 112,
     "metadata": {},
     "output_type": "execute_result"
    }
   ],
   "source": [
    "calc(20,35,15,30,10)"
   ]
  },
  {
   "cell_type": "code",
   "execution_count": 113,
   "id": "77d0c085-d868-451f-a2a8-8fbda47defe8",
   "metadata": {},
   "outputs": [
    {
     "data": {
      "text/plain": [
       "(-60, 70, 20, 15)"
      ]
     },
     "execution_count": 113,
     "metadata": {},
     "output_type": "execute_result"
    }
   ],
   "source": [
    "calc(10,15,55,35,20)"
   ]
  },
  {
   "cell_type": "markdown",
   "id": "f2b89b5a-786c-4389-a3a3-536ec46d026e",
   "metadata": {},
   "source": [
    "# Geometric interpretation of the system of linear equations"
   ]
  },
  {
   "attachments": {
    "0f9b9c93-c54e-43d1-bde6-95c92b266525.png": {
     "image/png": "[encoded data removed]"
    },
    "dd798c96-9eb1-46be-af3f-00c11435615e.png": {
     "image/png": "[encoded data removed]"
    }
   },
   "cell_type": "markdown",
   "id": "d1518e7b-b01e-4aaf-a525-d46e6ff0a6e8",
   "metadata": {},
   "source": [
    "A system of linear equations is a collection of one or more linear equations involving the same variables, and which can be represented by planes in space.\n",
    "\n",
    "The following figure represents a linear system with variables that determines a collection of planes in space. The point of intersection of the planes represents the solution of the linear system of equations.\n",
    "\n",
    "![image.png](attachment:dd798c96-9eb1-46be-af3f-00c11435615e.png)<br>\n",
    "Source: Wikipedia\n",
    "\n",
    "Another example would be a system of equations with two variables, $x − y = −1$ and $3x + y = 9$, as represented by the figure below. The solution set for the linear equations presented is the single point (2, 3) that can be observed in the figure.\n",
    "\n",
    "![image.png](attachment:0f9b9c93-c54e-43d1-bde6-95c92b266525.png)"
   ]
  },
  {
   "cell_type": "markdown",
   "id": "9bc6df08-cf79-4cd2-9e25-17502b239369",
   "metadata": {},
   "source": [
    "# References"
   ]
  },
  {
   "cell_type": "markdown",
   "id": "20709274-dc23-4b31-9d12-a89d519d3d85",
   "metadata": {},
   "source": [
    "- RUGGIERO, M. A. G.; LOPES, V. L. D. R. Cálculo numérico: aspectos teóricos e computacionais. [S. l.]: Pearson Makron Books, 1996. vol. 1\n",
    "- Linear Systems - provocations. https://www.youtube.com/watch?v=nkGwpeFhg5c&list=PLGlKR3GY13JzNrWOt9Cfii_76iI8RSPeF\n",
    "- Linear systems: some applications – Deriving mathematics.http://www.ime.unicamp.br/~apmat/sistemas-lineares-algumas-aplicacoes/\n",
    "- Exercise lists. https://fmenino-cap-239.netlify.app/\n",
    "- Matematica-computacional. https://github.com/M3nin0/matematica-computacional\n",
    "- Linear system. https://en.wikipedia.org/wiki/Linear_system\n",
    "- System of linear equations. https://en.wikipedia.org/wiki/System_of_linear_equations\n",
    "- SymPy, a Python library for symbolic mathematics. https://www.sympy.org/en/index.html"
   ]
  },
  {
   "cell_type": "code",
   "execution_count": null,
   "id": "1dbd0c6e-780f-4f97-b0ce-8d4efa3a52cc",
   "metadata": {},
   "outputs": [],
   "source": []
  }
 ],
 "metadata": {
  "kernelspec": {
   "display_name": "tf",
   "language": "python",
   "name": "tf"
  },
  "language_info": {
   "codemirror_mode": {
    "name": "ipython",
    "version": 3
   },
   "file_extension": ".py",
   "mimetype": "text/x-python",
   "name": "python",
   "nbconvert_exporter": "python",
   "pygments_lexer": "ipython3",
   "version": "3.10.8"
  }
 },
 "nbformat": 4,
 "nbformat_minor": 5
}
