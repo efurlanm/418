{
 "cells": [
  {
   "cell_type": "markdown",
   "id": "9eff77a2-5e75-4cf3-a88a-54bb56701f90",
   "metadata": {},
   "source": [
    "# module gaussElimin\n",
    "\n",
    "*Last edited 2023-03-09*\n",
    "\n",
    "x = gaussElimin(a,b)\n",
    "\n",
    "Solves \\[a\\]{b} = {x} by Gauss elimination"
   ]
  },
  {
   "cell_type": "code",
   "execution_count": 1,
   "id": "c43abf90-6880-490e-9bc5-60e3aa7a0d6d",
   "metadata": {},
   "outputs": [],
   "source": [
    "import numpy as np\n",
    "np.set_printoptions(precision=4, suppress=True)\n",
    "\n",
    "def gaussElimin(a, b):\n",
    "    n = len(b)\n",
    "    # Elimination Phase\n",
    "    for k in range(0, n - 1):\n",
    "        for i in range(k + 1, n):\n",
    "            if a[i, k] != 0.0:\n",
    "                lam = a[i, k] / a[k, k]\n",
    "                a[i, k + 1:n] = (a[i, k + 1:n] - lam * a[k, k + 1:n])\n",
    "                b[i] = b[i] - lam * b[k]\n",
    "\n",
    "    # Back substitution\n",
    "    for k in range(n - 1, -1, -1):\n",
    "        b[k] = (b[k] - np.dot(a[k, k + 1:n], b[k + 1:n])) / a[k, k]\n",
    "    return b"
   ]
  },
  {
   "cell_type": "markdown",
   "id": "db17a222-6d05-4aab-837b-cc7084eb736e",
   "metadata": {},
   "source": [
    "## example2_4"
   ]
  },
  {
   "cell_type": "code",
   "execution_count": 2,
   "id": "6be09cc2-df2f-4525-885d-a82dea74ecff",
   "metadata": {},
   "outputs": [
    {
     "name": "stdout",
     "output_type": "stream",
     "text": [
      "x = [   416.6667  -3125.       9250.     -13500.       9709.3333  -2751.    ]\n",
      "det = -1.1324620799859046e-06\n",
      "Check result: [a]{x} - b = [ 0.  0.  0.  0. -0.  0.]\n"
     ]
    }
   ],
   "source": [
    "def vandermode(v):\n",
    "    n = len(v)\n",
    "    a = np.zeros((n, n))\n",
    "    for j in range(n):\n",
    "        a[:, j] = v**(n - j - 1)\n",
    "    return a\n",
    "\n",
    "\n",
    "v = np.array([1.0, 1.2, 1.4, 1.6, 1.8, 2.0])\n",
    "b = np.array([0.0, 1.0, 0.0, 1.0, 0.0, 1.0])\n",
    "a = vandermode(v)\n",
    "aOrig = a.copy()  # Save original matrix\n",
    "bOrig = b.copy()  # and the constant vector\n",
    "x = gaussElimin(a, b)\n",
    "det = np.prod(np.diagonal(a))\n",
    "print(\"x =\", x)\n",
    "print(\"det =\", det)\n",
    "print(\"Check result: [a]{x} - b =\", np.dot(aOrig, x) - bOrig)"
   ]
  },
  {
   "cell_type": "code",
   "execution_count": null,
   "id": "ab19b352-5011-4ecb-a3d8-9685ddb2222a",
   "metadata": {},
   "outputs": [],
   "source": []
  }
 ],
 "metadata": {
  "kernelspec": {
   "display_name": "Python 3 (ipykernel)",
   "language": "python",
   "name": "python3"
  },
  "language_info": {
   "codemirror_mode": {
    "name": "ipython",
    "version": 3
   },
   "file_extension": ".py",
   "mimetype": "text/x-python",
   "name": "python",
   "nbconvert_exporter": "python",
   "pygments_lexer": "ipython3",
   "version": "3.9.13"
  }
 },
 "nbformat": 4,
 "nbformat_minor": 5
}
