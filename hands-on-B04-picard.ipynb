{
 "cells": [
  {
   "cell_type": "markdown",
   "id": "849d5d6a-924e-45cb-ac54-4d817030806f",
   "metadata": {
    "tags": []
   },
   "source": [
    "[![Open In Colab](https://colab.research.google.com/assets/colab-badge.svg)](https://colab.research.google.com/github/efurlanm/418/blob/master/hands-on-B04-picard.ipynb)"
   ]
  },
  {
   "cell_type": "markdown",
   "id": "9511bcae-0272-48ef-9a87-0017871bc781",
   "metadata": {
    "tags": []
   },
   "source": [
    "# Picard's Successive Approximation Method\n",
    "\n",
    "*Last edited 2023-06-12*"
   ]
  },
  {
   "cell_type": "markdown",
   "id": "528e8219-c7f1-45ef-81ff-671cabf844ce",
   "metadata": {},
   "source": [
    "The method generates a sequence of increasingly precise algebraic approximations of the specific exact solution of the first-order differential equation with initial value.\n",
    "\n",
    "As described by [Ricardo (2020)](https://www.sciencedirect.com/topics/mathematics/picard-iteration), in the Picard's Successive Approximation Method an iteration scheme guarantees the solution of the equation\n",
    "\n",
    "$ \\ y(x) = y_0 + \\int_{x_0}^{x} f(x , y(x)) \\,dx \\quad $ (1)\n",
    "\n",
    "with IVP (initial-value problem) $ \\ \\frac{dy}{dx} = f(x, y) \\ , \\ y(x_0) = y_0 $ . \n",
    "\n",
    "The converse is also true, if $ y (x) $ satisfies the equation, then $ \\ \\frac{dy}{dx} = f(x, y(x)) \\ $ and $ \\ y(x_0) = y_0 \\ $, which means that IVP can be replaced by Eq. (1), and then Picard's method can be used. The successive approximation process starts by replacing the integrand of Eq. (1) by the constant $y_0$, and then integrating and calling the result from the right-hand side of Eq. (1) $ y_1 (x) $ :\n",
    "\n",
    "$ \\ y_1 (x) = y_0 + \\int_{x_0}^{x} f(x , y_0) \\,dx \\quad $ (2)\n",
    "\n",
    "The process then repeats using the iterative formula\n",
    "\n",
    "$ y_{n+1} (x) = y_0 + \\int_{x_0}^{x} f(x , y_n(x)) \\,dx \\quad $ (3)\n",
    "\n",
    "The proof of Picard's theorem basically consists of showing that this process produces a sequence of functions $ y_n(x)$ that converges to a function $y(x)$, which satisfies the IVP $ \\ \\frac{dy}{dx} = f(x, y) \\ , \\ y(x_0) = y_0 \\ $ for values of $x$ close enough to $x_0\\ $."
   ]
  },
  {
   "cell_type": "markdown",
   "id": "b1ed5b76-31c3-41df-b4f6-6839281fe469",
   "metadata": {},
   "source": [
    "# Implementation"
   ]
  },
  {
   "cell_type": "code",
   "execution_count": 9,
   "id": "6eeb7364-a59f-4d7b-910f-6b5c9ae4425b",
   "metadata": {},
   "outputs": [],
   "source": [
    "import numpy as np\n",
    "import sympy as sp\n",
    "from sympy import solve\n",
    "\n",
    "np.set_printoptions(precision=4)"
   ]
  },
  {
   "cell_type": "code",
   "execution_count": 30,
   "id": "75f7f14c-a4cd-473e-bbbf-f934fe8e4d57",
   "metadata": {},
   "outputs": [],
   "source": [
    "for _ in ['x', 'y', 'f', 'g']:\n",
    "    del globals()[_]\n",
    "x, y = sp.symbols('x, y')\n",
    "f, g = sp.symbols('f, g', cls=sp.Function)"
   ]
  },
  {
   "cell_type": "markdown",
   "id": "551aed27-f56c-4989-a62d-231551a52b8b",
   "metadata": {},
   "source": [
    "## Example 1"
   ]
  },
  {
   "cell_type": "markdown",
   "id": "ebbe0e1d-506a-43b6-b7f6-8be1b61f8c0b",
   "metadata": {},
   "source": [
    "The following example is adapted from: YADAV, B. K. Picard's method. https://youtu.be/-u39UKYxj3g . The [Sympy library](https://www.sympy.org/en/index.html) is used to analytically solve the integrals. \n",
    "\n",
    "The example uses Picard's method to approximate the value of $y$ for $x=0.1$, given that $ \\ \\frac{dy}{dx} = 3x + y^2 \\ $ and $y=1$ for $x=0 \\ $."
   ]
  },
  {
   "cell_type": "markdown",
   "id": "9701fbbc-3dd3-4a28-9bba-5f82f9d5dd32",
   "metadata": {},
   "source": [
    "Given that\n",
    "\n",
    "$ \\frac{dy}{dx} = f(x, y) = 3x + y^2 \\quad , \\quad x_0 = 0 \\ , \\ y_0 = 1 $"
   ]
  },
  {
   "cell_type": "markdown",
   "id": "f3ed31d6-5ebb-4387-ad4f-2dc502fe330a",
   "metadata": {},
   "source": [
    "Interactive formula from de Picard's method:\n",
    "\n",
    "$ y_{n+1} = y_0 + \\int_{x_0}^{x} f(x, y_n) \\,dx $"
   ]
  },
  {
   "cell_type": "markdown",
   "id": "a519a9e3-2583-4357-867f-3c298540fc23",
   "metadata": {},
   "source": [
    "Store IVP in variables:"
   ]
  },
  {
   "cell_type": "code",
   "execution_count": 25,
   "id": "9cc888f3-80b7-4b2c-be8f-d52e46e622dc",
   "metadata": {},
   "outputs": [],
   "source": [
    "x0 = 0\n",
    "y0 = 1"
   ]
  },
  {
   "cell_type": "markdown",
   "id": "7db5676e-43cd-42ab-9927-501ba0caa299",
   "metadata": {},
   "source": [
    "Define the function using SymPy:"
   ]
  },
  {
   "cell_type": "code",
   "execution_count": 7,
   "id": "a08a471b-f943-4553-9da8-1cd17ff72254",
   "metadata": {},
   "outputs": [
    {
     "data": {
      "text/latex": [
       "$\\displaystyle 3 x + y^{2}$"
      ],
      "text/plain": [
       "3*x + y**2"
      ]
     },
     "execution_count": 7,
     "metadata": {},
     "output_type": "execute_result"
    }
   ],
   "source": [
    "f = 3 * x  +  y**2\n",
    "f"
   ]
  },
  {
   "cell_type": "markdown",
   "id": "fce20e61-4729-4c8e-9df4-e574df3eca9f",
   "metadata": {},
   "source": [
    "Starting with the first approximation, the manual method would be:"
   ]
  },
  {
   "cell_type": "markdown",
   "id": "565e8cce-cbaf-4720-ac6d-11372113f6ef",
   "metadata": {},
   "source": [
    "### n = 0"
   ]
  },
  {
   "cell_type": "markdown",
   "id": "152417a1-ffd8-43c0-9a26-c033004148b6",
   "metadata": {},
   "source": [
    "$ y_1 = 1 + \\int_{0}^{x} f(x, y_0) \\,dx $\n",
    "\n",
    "$ y_1 = 1 + \\int_{0}^{x} (3x + y_0^2) \\,dx $\n",
    "\n",
    "$ y_1 = 1 + \\int_{0}^{x} (3x + 1) \\,dx $\n",
    "\n",
    "$ y_1 = 1 + \\frac{3x^2}{2} + x $"
   ]
  },
  {
   "cell_type": "markdown",
   "id": "9b504dd0-5d0e-4ba2-b7cc-4bb95c27fc75",
   "metadata": {},
   "source": [
    "Now, solving using SymPy. Starting by replacing $y_0$ with the initial value in the formula:"
   ]
  },
  {
   "cell_type": "code",
   "execution_count": 15,
   "id": "4461132e-9abc-4d38-8a6a-433abbf07363",
   "metadata": {},
   "outputs": [
    {
     "data": {
      "text/latex": [
       "$\\displaystyle 3 x + 1$"
      ],
      "text/plain": [
       "3*x + 1"
      ]
     },
     "execution_count": 15,
     "metadata": {},
     "output_type": "execute_result"
    }
   ],
   "source": [
    "f0 = f.subs(y, y0)\n",
    "f0"
   ]
  },
  {
   "cell_type": "markdown",
   "id": "628169e7-9913-4894-926d-e35a4cc0f279",
   "metadata": {},
   "source": [
    "The method requires the calculation of the integral:"
   ]
  },
  {
   "cell_type": "code",
   "execution_count": 18,
   "id": "8c74fd56-a14c-4db0-8c9d-caaefe205d06",
   "metadata": {},
   "outputs": [
    {
     "data": {
      "text/latex": [
       "$\\displaystyle \\frac{3 x^{2}}{2} + x + 1$"
      ],
      "text/plain": [
       "3*x**2/2 + x + 1"
      ]
     },
     "execution_count": 18,
     "metadata": {},
     "output_type": "execute_result"
    }
   ],
   "source": [
    "y1 = 1 + sp.integrate(f0, (x, 0, x))\n",
    "y1"
   ]
  },
  {
   "cell_type": "markdown",
   "id": "939c0e26-e3b1-46b6-927d-2035a25c2ec5",
   "metadata": {},
   "source": [
    "Next iteration:"
   ]
  },
  {
   "cell_type": "markdown",
   "id": "d7f135e0-3e30-4c0e-9eca-9d8eb580ca5e",
   "metadata": {},
   "source": [
    "### n = 1"
   ]
  },
  {
   "cell_type": "code",
   "execution_count": 19,
   "id": "e0498cbb-6d68-4bec-8b55-da4cccf685ac",
   "metadata": {},
   "outputs": [
    {
     "data": {
      "text/latex": [
       "$\\displaystyle 3 x + \\left(\\frac{3 x^{2}}{2} + x + 1\\right)^{2}$"
      ],
      "text/plain": [
       "3*x + (3*x**2/2 + x + 1)**2"
      ]
     },
     "execution_count": 19,
     "metadata": {},
     "output_type": "execute_result"
    }
   ],
   "source": [
    "f1 = f.subs(y, y1)\n",
    "f1"
   ]
  },
  {
   "cell_type": "code",
   "execution_count": 20,
   "id": "b93d8c60-b94d-4bb8-8d70-3ba18fdbf811",
   "metadata": {},
   "outputs": [
    {
     "data": {
      "text/latex": [
       "$\\displaystyle \\frac{9 x^{5}}{20} + \\frac{3 x^{4}}{4} + \\frac{4 x^{3}}{3} + \\frac{5 x^{2}}{2} + x + 1$"
      ],
      "text/plain": [
       "9*x**5/20 + 3*x**4/4 + 4*x**3/3 + 5*x**2/2 + x + 1"
      ]
     },
     "execution_count": 20,
     "metadata": {},
     "output_type": "execute_result"
    }
   ],
   "source": [
    "y2 = 1 + sp.integrate(f1, (x, 0, x))\n",
    "y2"
   ]
  },
  {
   "cell_type": "markdown",
   "id": "ad3184b0-27f4-4c54-a50c-da5478e6fba0",
   "metadata": {},
   "source": [
    "Substituting the desired value in the equation, the result will be:"
   ]
  },
  {
   "cell_type": "code",
   "execution_count": 23,
   "id": "50552934-5300-4750-bfe2-06fe15c584d6",
   "metadata": {},
   "outputs": [
    {
     "data": {
      "text/latex": [
       "$\\displaystyle 1.12641283333333$"
      ],
      "text/plain": [
       "1.12641283333333"
      ]
     },
     "execution_count": 23,
     "metadata": {},
     "output_type": "execute_result"
    }
   ],
   "source": [
    "y2.subs(x, 0.1)"
   ]
  },
  {
   "cell_type": "markdown",
   "id": "1b8ff9be-6321-4990-8b9e-36403af540d4",
   "metadata": {},
   "source": [
    "One more iteration with the aim of increasing the accuracy of the result:"
   ]
  },
  {
   "cell_type": "markdown",
   "id": "edf3acd5-cdc1-4383-933c-f1ec5a8cfdf5",
   "metadata": {},
   "source": [
    "### n = 2"
   ]
  },
  {
   "cell_type": "code",
   "execution_count": 21,
   "id": "cd781abb-b00e-43ae-a4be-5a77b0d59fd5",
   "metadata": {},
   "outputs": [
    {
     "data": {
      "text/latex": [
       "$\\displaystyle 3 x + \\left(\\frac{9 x^{5}}{20} + \\frac{3 x^{4}}{4} + \\frac{4 x^{3}}{3} + \\frac{5 x^{2}}{2} + x + 1\\right)^{2}$"
      ],
      "text/plain": [
       "3*x + (9*x**5/20 + 3*x**4/4 + 4*x**3/3 + 5*x**2/2 + x + 1)**2"
      ]
     },
     "execution_count": 21,
     "metadata": {},
     "output_type": "execute_result"
    }
   ],
   "source": [
    "f2 = f.subs(y, y2)\n",
    "f2"
   ]
  },
  {
   "cell_type": "code",
   "execution_count": 22,
   "id": "6b75519a-ebf2-4115-b9dc-157eaf092046",
   "metadata": {},
   "outputs": [
    {
     "data": {
      "text/latex": [
       "$\\displaystyle \\frac{81 x^{11}}{4400} + \\frac{27 x^{10}}{400} + \\frac{47 x^{9}}{240} + \\frac{17 x^{8}}{32} + \\frac{1157 x^{7}}{1260} + \\frac{68 x^{6}}{45} + \\frac{25 x^{5}}{12} + \\frac{23 x^{4}}{12} + 2 x^{3} + \\frac{5 x^{2}}{2} + x + 1$"
      ],
      "text/plain": [
       "81*x**11/4400 + 27*x**10/400 + 47*x**9/240 + 17*x**8/32 + 1157*x**7/1260 + 68*x**6/45 + 25*x**5/12 + 23*x**4/12 + 2*x**3 + 5*x**2/2 + x + 1"
      ]
     },
     "execution_count": 22,
     "metadata": {},
     "output_type": "execute_result"
    }
   ],
   "source": [
    "y3 = 1 + sp.integrate(f2, (x, 0, x))\n",
    "y3"
   ]
  },
  {
   "cell_type": "markdown",
   "id": "10222d1b-4977-4bba-8b48-d92d551ec31f",
   "metadata": {},
   "source": [
    "Now with one more iteration, the result should be closer to the target:"
   ]
  },
  {
   "cell_type": "code",
   "execution_count": 24,
   "id": "472584f4-edee-47d3-9218-93d4a326bb01",
   "metadata": {},
   "outputs": [
    {
     "data": {
      "text/latex": [
       "$\\displaystyle 1.12721410845178$"
      ],
      "text/plain": [
       "1.12721410845178"
      ]
     },
     "execution_count": 24,
     "metadata": {},
     "output_type": "execute_result"
    }
   ],
   "source": [
    "y3.subs(x, 0.1)"
   ]
  },
  {
   "cell_type": "markdown",
   "id": "41564c4a-4b70-4bc6-828f-fe15d4980db8",
   "metadata": {},
   "source": [
    "---"
   ]
  },
  {
   "cell_type": "markdown",
   "id": "3434b821-dd7d-4f86-8bae-8b4ba00fc1d6",
   "metadata": {},
   "source": [
    "## Example 2\n",
    "\n",
    "Based on \"Problem 1\" by Emmanuel (2020)."
   ]
  },
  {
   "cell_type": "markdown",
   "id": "46179ed9-f0f5-4dc0-8f94-791a76a9c581",
   "metadata": {},
   "source": [
    "$ y' - 2xy = 0 \\ , \\quad x_0 = 0 \\ , \\ y_0 = 1 $\n",
    "\n",
    "The exact solution is \n",
    "\n",
    "$\n",
    "y' - 2xy = 0\n",
    "\\quad\\Rightarrow\\quad\n",
    "y' = 2xy\n",
    "\\quad\\Rightarrow\\quad\n",
    "\\frac{dy}{dx} = 2xy\n",
    "\\quad\\Rightarrow\\quad  \\\\\n",
    "dy = 2xy \\,dx\n",
    "\\quad\\Rightarrow\\quad\n",
    "\\frac{1}{y} \\,dy = 2x \\,dx\n",
    "\\quad\\Rightarrow\\quad\n",
    "\\int \\frac{1}{y} \\,dy = \\int 2x \\,dx\n",
    "\\quad\\Rightarrow\\quad  \\\\\n",
    "\\ln y = x^2\n",
    "\\quad\\Rightarrow\\quad\n",
    "y = e^{x^2}\n",
    "$"
   ]
  },
  {
   "cell_type": "code",
   "execution_count": 50,
   "id": "d719d3d1-6ba5-4864-8b9e-63ab647fa51c",
   "metadata": {},
   "outputs": [],
   "source": [
    "x, y = sp.symbols('x, y')\n",
    "# set f(x) as undefined function\n",
    "f, g = sp.symbols('f, g', cls=sp.Function)    "
   ]
  },
  {
   "cell_type": "code",
   "execution_count": 51,
   "id": "64a891be-59ef-4242-a06b-fac82333d28b",
   "metadata": {
    "tags": []
   },
   "outputs": [],
   "source": [
    "x0 = 0\n",
    "y0 = 1"
   ]
  },
  {
   "cell_type": "code",
   "execution_count": 52,
   "id": "f1afcd9d-9a17-40c0-bf82-91e8f5644567",
   "metadata": {},
   "outputs": [
    {
     "data": {
      "text/latex": [
       "$\\displaystyle 2 x y$"
      ],
      "text/plain": [
       "2*x*y"
      ]
     },
     "execution_count": 52,
     "metadata": {},
     "output_type": "execute_result"
    }
   ],
   "source": [
    "f = 2*x*y\n",
    "f"
   ]
  },
  {
   "cell_type": "markdown",
   "id": "00ec6bb4-3f56-4128-a6fa-66c7fa26bca6",
   "metadata": {},
   "source": [
    "### n = 0"
   ]
  },
  {
   "cell_type": "code",
   "execution_count": 53,
   "id": "2a7b2f7e-d49a-44a8-98f7-50ff08f0fdb1",
   "metadata": {},
   "outputs": [
    {
     "data": {
      "text/latex": [
       "$\\displaystyle 2 x$"
      ],
      "text/plain": [
       "2*x"
      ]
     },
     "execution_count": 53,
     "metadata": {},
     "output_type": "execute_result"
    }
   ],
   "source": [
    "f0 = eq.subs(y, y0)\n",
    "f0"
   ]
  },
  {
   "cell_type": "code",
   "execution_count": 54,
   "id": "cfb2c073-6df5-46f8-94ba-7277e2dd6019",
   "metadata": {},
   "outputs": [
    {
     "data": {
      "text/latex": [
       "$\\displaystyle x^{2} + 1$"
      ],
      "text/plain": [
       "x**2 + 1"
      ]
     },
     "execution_count": 54,
     "metadata": {},
     "output_type": "execute_result"
    }
   ],
   "source": [
    "y1 = 1 + sp.integrate(f0, (x, 0, x))\n",
    "y1"
   ]
  },
  {
   "cell_type": "markdown",
   "id": "b9fe2757-f87a-4ad5-90f3-01691fa61d3b",
   "metadata": {},
   "source": [
    "### n = 1"
   ]
  },
  {
   "cell_type": "code",
   "execution_count": 55,
   "id": "feeec0e0-11e7-459d-bd32-968f2ab89859",
   "metadata": {},
   "outputs": [
    {
     "data": {
      "text/latex": [
       "$\\displaystyle 2 x \\left(x^{2} + 1\\right)$"
      ],
      "text/plain": [
       "2*x*(x**2 + 1)"
      ]
     },
     "execution_count": 55,
     "metadata": {},
     "output_type": "execute_result"
    }
   ],
   "source": [
    "f1 = f.subs(y, y1)\n",
    "f1"
   ]
  },
  {
   "cell_type": "code",
   "execution_count": 56,
   "id": "59bdbb2a-7e4e-4f52-813f-28b6795073d9",
   "metadata": {
    "tags": []
   },
   "outputs": [
    {
     "data": {
      "text/latex": [
       "$\\displaystyle \\frac{x^{4}}{2} + x^{2} + 1$"
      ],
      "text/plain": [
       "x**4/2 + x**2 + 1"
      ]
     },
     "execution_count": 56,
     "metadata": {},
     "output_type": "execute_result"
    }
   ],
   "source": [
    "y2 = 1 + sp.integrate(f1, (x, 0, x))\n",
    "y2"
   ]
  },
  {
   "cell_type": "code",
   "execution_count": 57,
   "id": "71697894-9591-4e00-87dd-859eaa42579e",
   "metadata": {},
   "outputs": [
    {
     "data": {
      "text/latex": [
       "$\\displaystyle 13.0$"
      ],
      "text/plain": [
       "13.0000000000000"
      ]
     },
     "execution_count": 57,
     "metadata": {},
     "output_type": "execute_result"
    }
   ],
   "source": [
    "y2.subs(x, 2.0)"
   ]
  },
  {
   "cell_type": "markdown",
   "id": "36ed6b9f-60cd-4d4b-bfcf-c72bf4aee9d5",
   "metadata": {},
   "source": [
    "### n = 2"
   ]
  },
  {
   "cell_type": "code",
   "execution_count": 58,
   "id": "7964a081-a88c-4139-94eb-ffdac2e0044d",
   "metadata": {},
   "outputs": [
    {
     "data": {
      "text/latex": [
       "$\\displaystyle 2 x \\left(\\frac{x^{4}}{2} + x^{2} + 1\\right)$"
      ],
      "text/plain": [
       "2*x*(x**4/2 + x**2 + 1)"
      ]
     },
     "execution_count": 58,
     "metadata": {},
     "output_type": "execute_result"
    }
   ],
   "source": [
    "f2 = f.subs(y, y2)\n",
    "f2"
   ]
  },
  {
   "cell_type": "code",
   "execution_count": 59,
   "id": "fca0083e-fe7b-43ae-9b8d-44224b1902e3",
   "metadata": {},
   "outputs": [
    {
     "data": {
      "text/latex": [
       "$\\displaystyle \\frac{x^{6}}{6} + \\frac{x^{4}}{2} + x^{2} + 1$"
      ],
      "text/plain": [
       "x**6/6 + x**4/2 + x**2 + 1"
      ]
     },
     "execution_count": 59,
     "metadata": {},
     "output_type": "execute_result"
    }
   ],
   "source": [
    "y3 = 1 + sp.integrate(f2, (x, 0, x))\n",
    "y3"
   ]
  },
  {
   "cell_type": "markdown",
   "id": "8f6f5350-60fb-4e23-a90b-60505d3e9951",
   "metadata": {},
   "source": [
    "Choosing any value of x just to check the result and compare with the next iteration:"
   ]
  },
  {
   "cell_type": "code",
   "execution_count": 60,
   "id": "378bb915-d889-44ff-8fa5-5e7dd7123d2f",
   "metadata": {},
   "outputs": [
    {
     "data": {
      "text/latex": [
       "$\\displaystyle 23.6666666666667$"
      ],
      "text/plain": [
       "23.6666666666667"
      ]
     },
     "execution_count": 60,
     "metadata": {},
     "output_type": "execute_result"
    }
   ],
   "source": [
    "y3.subs(x, 2.0)"
   ]
  },
  {
   "cell_type": "markdown",
   "id": "169a89e6-6109-4f1e-aaa4-270951305c25",
   "metadata": {},
   "source": [
    "### n = 3"
   ]
  },
  {
   "cell_type": "code",
   "execution_count": 61,
   "id": "02c61487-2543-4d74-b7ce-a28b8f317484",
   "metadata": {},
   "outputs": [
    {
     "data": {
      "text/latex": [
       "$\\displaystyle 2 x \\left(\\frac{x^{6}}{6} + \\frac{x^{4}}{2} + x^{2} + 1\\right)$"
      ],
      "text/plain": [
       "2*x*(x**6/6 + x**4/2 + x**2 + 1)"
      ]
     },
     "execution_count": 61,
     "metadata": {},
     "output_type": "execute_result"
    }
   ],
   "source": [
    "f3 = f.subs(y, y3)\n",
    "f3"
   ]
  },
  {
   "cell_type": "code",
   "execution_count": 62,
   "id": "283a40dd-f5a6-41e7-8be1-8df92f8a3264",
   "metadata": {},
   "outputs": [
    {
     "data": {
      "text/latex": [
       "$\\displaystyle \\frac{x^{8}}{24} + \\frac{x^{6}}{6} + \\frac{x^{4}}{2} + x^{2} + 1$"
      ],
      "text/plain": [
       "x**8/24 + x**6/6 + x**4/2 + x**2 + 1"
      ]
     },
     "execution_count": 62,
     "metadata": {},
     "output_type": "execute_result"
    }
   ],
   "source": [
    "y4 = 1 + sp.integrate(f3, (x, 0, x))\n",
    "y4"
   ]
  },
  {
   "cell_type": "markdown",
   "id": "0e0ce0ec-3650-4421-a338-975b1834e0bc",
   "metadata": {},
   "source": [
    "In this example we know the manual analytical solution, and for x=2.0 the solution is approximately 54.6, that is, in this iteration the error is high and we are far from the expected result:"
   ]
  },
  {
   "cell_type": "code",
   "execution_count": 64,
   "id": "9d91bd67-62c6-4c2a-a5ab-c38ebed9f8a1",
   "metadata": {},
   "outputs": [
    {
     "data": {
      "text/latex": [
       "$\\displaystyle 34.3333333333333$"
      ],
      "text/plain": [
       "34.3333333333333"
      ]
     },
     "execution_count": 64,
     "metadata": {},
     "output_type": "execute_result"
    }
   ],
   "source": [
    "y4.subs(x, 2.0)"
   ]
  },
  {
   "cell_type": "markdown",
   "id": "8ae03a2a-6d31-4e59-b672-4bc4dc6d5ea0",
   "metadata": {
    "tags": []
   },
   "source": [
    "### n = 4"
   ]
  },
  {
   "cell_type": "code",
   "execution_count": 65,
   "id": "a46e00fe-2671-4028-9c08-aad93e61a7c5",
   "metadata": {},
   "outputs": [
    {
     "data": {
      "text/latex": [
       "$\\displaystyle 2 x \\left(\\frac{x^{8}}{24} + \\frac{x^{6}}{6} + \\frac{x^{4}}{2} + x^{2} + 1\\right)$"
      ],
      "text/plain": [
       "2*x*(x**8/24 + x**6/6 + x**4/2 + x**2 + 1)"
      ]
     },
     "execution_count": 65,
     "metadata": {},
     "output_type": "execute_result"
    }
   ],
   "source": [
    "f4 = f.subs(y, y4)\n",
    "f4"
   ]
  },
  {
   "cell_type": "code",
   "execution_count": 66,
   "id": "7c2775b9-4ae4-4650-b459-715bed7fce7a",
   "metadata": {},
   "outputs": [
    {
     "data": {
      "text/latex": [
       "$\\displaystyle \\frac{x^{10}}{120} + \\frac{x^{8}}{24} + \\frac{x^{6}}{6} + \\frac{x^{4}}{2} + x^{2} + 1$"
      ],
      "text/plain": [
       "x**10/120 + x**8/24 + x**6/6 + x**4/2 + x**2 + 1"
      ]
     },
     "execution_count": 66,
     "metadata": {},
     "output_type": "execute_result"
    }
   ],
   "source": [
    "y5 = 1 + sp.integrate(f4, (x, 0, x))\n",
    "y5"
   ]
  },
  {
   "cell_type": "code",
   "execution_count": 67,
   "id": "9a41f337-85a8-466e-bc3b-b6e492911211",
   "metadata": {},
   "outputs": [
    {
     "data": {
      "text/latex": [
       "$\\displaystyle 42.8666666666667$"
      ],
      "text/plain": [
       "42.8666666666667"
      ]
     },
     "execution_count": 67,
     "metadata": {},
     "output_type": "execute_result"
    }
   ],
   "source": [
    "y5.subs(x, 2.0)"
   ]
  },
  {
   "cell_type": "markdown",
   "id": "22d4c2ee-3388-465e-81d8-83eb275f8c5e",
   "metadata": {
    "tags": []
   },
   "source": [
    "### n = 5"
   ]
  },
  {
   "cell_type": "code",
   "execution_count": 68,
   "id": "9de58363-80ad-4fff-b7e9-77f85391d43d",
   "metadata": {},
   "outputs": [
    {
     "data": {
      "text/latex": [
       "$\\displaystyle 2 x \\left(\\frac{x^{10}}{120} + \\frac{x^{8}}{24} + \\frac{x^{6}}{6} + \\frac{x^{4}}{2} + x^{2} + 1\\right)$"
      ],
      "text/plain": [
       "2*x*(x**10/120 + x**8/24 + x**6/6 + x**4/2 + x**2 + 1)"
      ]
     },
     "execution_count": 68,
     "metadata": {},
     "output_type": "execute_result"
    }
   ],
   "source": [
    "f5 = f.subs(y, y5)\n",
    "f5"
   ]
  },
  {
   "cell_type": "code",
   "execution_count": 69,
   "id": "12f5459e-fcda-48b4-a05d-e8ba316b695b",
   "metadata": {},
   "outputs": [
    {
     "data": {
      "text/latex": [
       "$\\displaystyle \\frac{x^{12}}{720} + \\frac{x^{10}}{120} + \\frac{x^{8}}{24} + \\frac{x^{6}}{6} + \\frac{x^{4}}{2} + x^{2} + 1$"
      ],
      "text/plain": [
       "x**12/720 + x**10/120 + x**8/24 + x**6/6 + x**4/2 + x**2 + 1"
      ]
     },
     "execution_count": 69,
     "metadata": {},
     "output_type": "execute_result"
    }
   ],
   "source": [
    "y6 = 1 + sp.integrate(f5, (x, 0, x))\n",
    "y6"
   ]
  },
  {
   "cell_type": "code",
   "execution_count": 70,
   "id": "88411a7f-e416-466c-bc4e-f4c6f8700403",
   "metadata": {},
   "outputs": [
    {
     "data": {
      "text/latex": [
       "$\\displaystyle 48.5555555555556$"
      ],
      "text/plain": [
       "48.5555555555556"
      ]
     },
     "execution_count": 70,
     "metadata": {},
     "output_type": "execute_result"
    }
   ],
   "source": [
    "y6.subs(x, 2.0)"
   ]
  },
  {
   "cell_type": "markdown",
   "id": "88305597-dbfd-4feb-9ffe-27f0b4d39bbc",
   "metadata": {
    "tags": []
   },
   "source": [
    "### n = 6"
   ]
  },
  {
   "cell_type": "markdown",
   "id": "8ea1bde7-16a6-44e9-b806-5005a6d57c8f",
   "metadata": {},
   "source": [
    "Condensing the formula:"
   ]
  },
  {
   "cell_type": "code",
   "execution_count": 71,
   "id": "eb65ecd7-bd73-4628-a538-6b5332e3cf5f",
   "metadata": {},
   "outputs": [
    {
     "data": {
      "text/latex": [
       "$\\displaystyle 51.8063492063492$"
      ],
      "text/plain": [
       "51.8063492063492"
      ]
     },
     "execution_count": 71,
     "metadata": {},
     "output_type": "execute_result"
    }
   ],
   "source": [
    "y7 = 1 + sp.integrate(f.subs(y, y6), (x, 0, x))\n",
    "y7.subs(x, 2.0)"
   ]
  },
  {
   "cell_type": "markdown",
   "id": "fc8876d8-bb51-4e5c-bc0d-480cc2f58907",
   "metadata": {
    "tags": []
   },
   "source": [
    "### n = 7"
   ]
  },
  {
   "cell_type": "code",
   "execution_count": 75,
   "id": "d67fd367-9abb-457d-9e4b-4e2d619dc6f3",
   "metadata": {},
   "outputs": [
    {
     "data": {
      "text/latex": [
       "$\\displaystyle 53.431746031746$"
      ],
      "text/plain": [
       "53.4317460317460"
      ]
     },
     "execution_count": 75,
     "metadata": {},
     "output_type": "execute_result"
    }
   ],
   "source": [
    "y8 = 1 + sp.integrate(f.subs(y, y7), (x, 0, x))\n",
    "y8.subs(x, 2.0)"
   ]
  },
  {
   "cell_type": "markdown",
   "id": "47a939dd-67c3-4b02-ac70-4550f8e89052",
   "metadata": {
    "tags": []
   },
   "source": [
    "### n = 8"
   ]
  },
  {
   "cell_type": "code",
   "execution_count": 76,
   "id": "3074bdc1-c26f-41fe-86f8-dc0f41a7b050",
   "metadata": {},
   "outputs": [
    {
     "data": {
      "text/latex": [
       "$\\displaystyle 54.1541446208113$"
      ],
      "text/plain": [
       "54.1541446208113"
      ]
     },
     "execution_count": 76,
     "metadata": {},
     "output_type": "execute_result"
    }
   ],
   "source": [
    "y9 = 1 + sp.integrate(f.subs(y, y8), (x, 0, x))\n",
    "y9.subs(x, 2.0)"
   ]
  },
  {
   "cell_type": "markdown",
   "id": "d5ed7a46-c249-475c-b599-5aa569dc5cf4",
   "metadata": {
    "tags": []
   },
   "source": [
    "### n = 9"
   ]
  },
  {
   "cell_type": "code",
   "execution_count": null,
   "id": "15f88e89-3d43-4b86-b642-29d7add3893a",
   "metadata": {},
   "outputs": [],
   "source": [
    "y10 = 1 + sp.integrate(f.subs(y, y9), (x, 0, x))\n",
    "y10.subs(x, 2.0)"
   ]
  },
  {
   "cell_type": "markdown",
   "id": "bea353f7-85d8-475b-9b91-650bb89452d9",
   "metadata": {},
   "source": [
    "After 10 iterations the result starts to get close to the expected."
   ]
  },
  {
   "cell_type": "markdown",
   "id": "01461614-a204-432b-9f47-f6abc0b4aa6f",
   "metadata": {
    "tags": []
   },
   "source": [
    "### Comparing with the manual solution"
   ]
  },
  {
   "cell_type": "code",
   "execution_count": 78,
   "id": "ab1e7741-28d5-4a92-86a9-7597340592e2",
   "metadata": {},
   "outputs": [
    {
     "data": {
      "text/plain": [
       "54.598150033144236"
      ]
     },
     "execution_count": 78,
     "metadata": {},
     "output_type": "execute_result"
    }
   ],
   "source": [
    "np.exp(4.0)"
   ]
  },
  {
   "cell_type": "markdown",
   "id": "71bde4c5-9bf2-4f5b-b709-423e545c7704",
   "metadata": {},
   "source": [
    "In this example, compared to the previous one, it can be seen that a greater number of iterations were necessary to reach a value close to the value calculated analytically manually."
   ]
  },
  {
   "cell_type": "markdown",
   "id": "76cb8505-16dc-4bbf-831e-0a6b3488dee0",
   "metadata": {},
   "source": [
    "---"
   ]
  },
  {
   "cell_type": "markdown",
   "id": "03488e84-9b79-4b90-b8f5-12644d32fdd8",
   "metadata": {},
   "source": [
    "## Example 3\n",
    "\n",
    "Based on \"Problem 2\" by Emmanuel (2020)."
   ]
  },
  {
   "cell_type": "markdown",
   "id": "f7b807ec-2c7d-4b26-be5b-8f62ce071f42",
   "metadata": {},
   "source": [
    "$ y' - y = 0 \\ , \\quad x_0 = 0 \\ , \\ y_0 = 1 $\n",
    "\n",
    "The exact solution is \n",
    "\n",
    "$\n",
    "y' - y = 0\n",
    "\\quad\\Rightarrow\\quad\n",
    "y' = y\n",
    "\\quad\\Rightarrow\\quad\n",
    "\\frac{dy}{dx} = y\n",
    "\\quad\\Rightarrow\\quad  \\\\\n",
    "dy = y \\,dx\n",
    "\\quad\\Rightarrow\\quad\n",
    "\\frac{1}{y} \\,dy = 1 \\,dx\n",
    "\\quad\\Rightarrow\\quad\n",
    "\\int \\frac{1}{y} \\,dy = \\int 1 \\,dx\n",
    "\\quad\\Rightarrow\\quad  \\\\\n",
    "\\ln y = x\n",
    "\\quad\\Rightarrow\\quad\n",
    "y = e^{x}\n",
    "$"
   ]
  },
  {
   "cell_type": "code",
   "execution_count": 109,
   "id": "50720b11-e070-4d42-9119-5c92b9078219",
   "metadata": {},
   "outputs": [],
   "source": [
    "x, y = sp.symbols('x, y')\n",
    "# set f(x) as undefined function\n",
    "f = sp.symbols('f, g', cls=sp.Function)    "
   ]
  },
  {
   "cell_type": "code",
   "execution_count": 98,
   "id": "2895d38f-74c7-4681-81ec-5e4f659146d8",
   "metadata": {
    "tags": []
   },
   "outputs": [],
   "source": [
    "x0 = 0\n",
    "y0 = 1"
   ]
  },
  {
   "cell_type": "code",
   "execution_count": 99,
   "id": "302f5139-e2c9-4e3f-b2df-adf36d7842fe",
   "metadata": {},
   "outputs": [
    {
     "data": {
      "text/latex": [
       "$\\displaystyle y$"
      ],
      "text/plain": [
       "y"
      ]
     },
     "execution_count": 99,
     "metadata": {},
     "output_type": "execute_result"
    }
   ],
   "source": [
    "f = y\n",
    "f"
   ]
  },
  {
   "cell_type": "markdown",
   "id": "0f65f412-fc7c-4987-b580-3dc8b954f3fa",
   "metadata": {},
   "source": [
    "### n = 0"
   ]
  },
  {
   "cell_type": "code",
   "execution_count": 82,
   "id": "09ecfa94-156a-4db2-8752-28316323de03",
   "metadata": {},
   "outputs": [
    {
     "data": {
      "text/latex": [
       "$\\displaystyle 3.0$"
      ],
      "text/plain": [
       "3.00000000000000"
      ]
     },
     "execution_count": 82,
     "metadata": {},
     "output_type": "execute_result"
    }
   ],
   "source": [
    "y1 = 1 + sp.integrate(f.subs(y, y0), (x, 0, x))\n",
    "y1.subs(x, 2.0)"
   ]
  },
  {
   "cell_type": "markdown",
   "id": "929b1fee-0c14-4265-bd0e-5eb86fa8dcdf",
   "metadata": {},
   "source": [
    "### n = 1"
   ]
  },
  {
   "cell_type": "code",
   "execution_count": 84,
   "id": "0726b572-a226-4f88-a9b2-eb0e5fd44336",
   "metadata": {},
   "outputs": [
    {
     "data": {
      "text/latex": [
       "$\\displaystyle 5.0$"
      ],
      "text/plain": [
       "5.00000000000000"
      ]
     },
     "execution_count": 84,
     "metadata": {},
     "output_type": "execute_result"
    }
   ],
   "source": [
    "y2 = 1 + sp.integrate(f.subs(y, y1), (x, 0, x))\n",
    "y2.subs(x, 2.0)"
   ]
  },
  {
   "cell_type": "markdown",
   "id": "34573f2c-fc09-4ae4-be4b-eb5feedffbe8",
   "metadata": {},
   "source": [
    "### n = 2"
   ]
  },
  {
   "cell_type": "code",
   "execution_count": 85,
   "id": "d359febb-07c1-45ae-98c7-8babf1be252f",
   "metadata": {},
   "outputs": [
    {
     "data": {
      "text/latex": [
       "$\\displaystyle 6.33333333333333$"
      ],
      "text/plain": [
       "6.33333333333333"
      ]
     },
     "execution_count": 85,
     "metadata": {},
     "output_type": "execute_result"
    }
   ],
   "source": [
    "y3 = 1 + sp.integrate(f.subs(y, y2), (x, 0, x))\n",
    "y3.subs(x, 2.0)"
   ]
  },
  {
   "cell_type": "markdown",
   "id": "8023d557-4dfa-48f4-93ee-9e7bf27f0bea",
   "metadata": {
    "tags": []
   },
   "source": [
    "### n = 3"
   ]
  },
  {
   "cell_type": "code",
   "execution_count": 86,
   "id": "68c3ff4c-5587-4e77-bd32-dda6fcd5d7d9",
   "metadata": {},
   "outputs": [
    {
     "data": {
      "text/latex": [
       "$\\displaystyle 7.0$"
      ],
      "text/plain": [
       "7.00000000000000"
      ]
     },
     "execution_count": 86,
     "metadata": {},
     "output_type": "execute_result"
    }
   ],
   "source": [
    "y4 = 1 + sp.integrate(f.subs(y, y3), (x, 0, x))\n",
    "y4.subs(x, 2.0)"
   ]
  },
  {
   "cell_type": "markdown",
   "id": "d4fad74f-2996-4ec2-b435-d697b7ea8a71",
   "metadata": {
    "tags": []
   },
   "source": [
    "### n = 4"
   ]
  },
  {
   "cell_type": "code",
   "execution_count": 87,
   "id": "9e5e83aa-ed9d-475d-8e3d-0468f61d1b1b",
   "metadata": {},
   "outputs": [
    {
     "data": {
      "text/latex": [
       "$\\displaystyle 7.26666666666667$"
      ],
      "text/plain": [
       "7.26666666666667"
      ]
     },
     "execution_count": 87,
     "metadata": {},
     "output_type": "execute_result"
    }
   ],
   "source": [
    "y5 = 1 + sp.integrate(f.subs(y, y4), (x, 0, x))\n",
    "y5.subs(x, 2.0)"
   ]
  },
  {
   "cell_type": "markdown",
   "id": "4194e91f-95cf-411e-9a9b-0d51acf69214",
   "metadata": {
    "tags": []
   },
   "source": [
    "### n = 5"
   ]
  },
  {
   "cell_type": "code",
   "execution_count": 88,
   "id": "31742987-ae7b-4d69-a8af-0d970b5a8e10",
   "metadata": {},
   "outputs": [
    {
     "data": {
      "text/latex": [
       "$\\displaystyle 7.35555555555556$"
      ],
      "text/plain": [
       "7.35555555555556"
      ]
     },
     "execution_count": 88,
     "metadata": {},
     "output_type": "execute_result"
    }
   ],
   "source": [
    "y6 = 1 + sp.integrate(f.subs(y, y5), (x, 0, x))\n",
    "y6.subs(x, 2.0)"
   ]
  },
  {
   "cell_type": "code",
   "execution_count": 89,
   "id": "2285ec1e-852f-47c5-965b-2b8642dd15a8",
   "metadata": {},
   "outputs": [
    {
     "data": {
      "text/latex": [
       "$\\displaystyle \\frac{x^{6}}{720} + \\frac{x^{5}}{120} + \\frac{x^{4}}{24} + \\frac{x^{3}}{6} + \\frac{x^{2}}{2} + x + 1$"
      ],
      "text/plain": [
       "x**6/720 + x**5/120 + x**4/24 + x**3/6 + x**2/2 + x + 1"
      ]
     },
     "execution_count": 89,
     "metadata": {},
     "output_type": "execute_result"
    }
   ],
   "source": [
    "y6"
   ]
  },
  {
   "cell_type": "markdown",
   "id": "f4880210-15f2-4e31-b0fa-e15c6d0304df",
   "metadata": {
    "tags": []
   },
   "source": [
    "### Comparing with the manual solution"
   ]
  },
  {
   "cell_type": "code",
   "execution_count": 83,
   "id": "84ff043f-e13c-497c-a2c2-5fcdc57ca6b4",
   "metadata": {},
   "outputs": [
    {
     "data": {
      "text/plain": [
       "7.38905609893065"
      ]
     },
     "execution_count": 83,
     "metadata": {},
     "output_type": "execute_result"
    }
   ],
   "source": [
    "np.exp(2.0)"
   ]
  },
  {
   "cell_type": "markdown",
   "id": "7027f56f-7240-4e58-9cdf-c4acd3090ef5",
   "metadata": {},
   "source": [
    "In this example, compared to the previous one, a smaller number of iterations were necessary to reach a value close to the value calculated analytically manually."
   ]
  },
  {
   "cell_type": "markdown",
   "id": "71da80e1-993b-4433-8dfd-a2cda4e0b1b3",
   "metadata": {},
   "source": [
    "---"
   ]
  },
  {
   "cell_type": "markdown",
   "id": "4d1aae3d-aba6-4c76-a531-2aedfc87970f",
   "metadata": {},
   "source": [
    "## Automating the process"
   ]
  },
  {
   "cell_type": "code",
   "execution_count": 90,
   "id": "b055dde3-0b2a-4d3a-9858-2c3d5df692b7",
   "metadata": {},
   "outputs": [],
   "source": [
    "def pic(f, y1, n):\n",
    "    for _ in range(0, n):\n",
    "        y0 = y1\n",
    "        y1 = 1 + sp.integrate(f.subs(y, y0), (x, 0, x))\n",
    "    return y1"
   ]
  },
  {
   "cell_type": "markdown",
   "id": "35e93847-56a0-4fa8-acdc-5ff50b33cab0",
   "metadata": {},
   "source": [
    "Solving the same problem as in the previous section:"
   ]
  },
  {
   "cell_type": "code",
   "execution_count": 93,
   "id": "fb9224b7-3e6f-450e-b09b-671af4bdf4d7",
   "metadata": {},
   "outputs": [
    {
     "data": {
      "text/latex": [
       "$\\displaystyle \\frac{x^{6}}{720} + \\frac{x^{5}}{120} + \\frac{x^{4}}{24} + \\frac{x^{3}}{6} + \\frac{x^{2}}{2} + x + 1$"
      ],
      "text/plain": [
       "x**6/720 + x**5/120 + x**4/24 + x**3/6 + x**2/2 + x + 1"
      ]
     },
     "execution_count": 93,
     "metadata": {},
     "output_type": "execute_result"
    }
   ],
   "source": [
    "f = pic(y, 1, 6)\n",
    "f"
   ]
  },
  {
   "cell_type": "code",
   "execution_count": 94,
   "id": "5142fa75-aa89-430e-b168-026a461fe555",
   "metadata": {},
   "outputs": [
    {
     "data": {
      "text/latex": [
       "$\\displaystyle 7.35555555555556$"
      ],
      "text/plain": [
       "7.35555555555556"
      ]
     },
     "execution_count": 94,
     "metadata": {},
     "output_type": "execute_result"
    }
   ],
   "source": [
    "f.subs(x, 2.0)"
   ]
  },
  {
   "cell_type": "markdown",
   "id": "a4fc31cc-e006-4550-bac8-6be4e09b4ca6",
   "metadata": {},
   "source": [
    "---"
   ]
  },
  {
   "cell_type": "markdown",
   "id": "5c354bca-f556-4122-b90d-574e283d9462",
   "metadata": {},
   "source": [
    "## Example 4\n",
    "\n",
    "Based on \"Problem 3\" by Emmanuel (2020)."
   ]
  },
  {
   "cell_type": "markdown",
   "id": "e87a7fae-5784-48f3-8a7f-6ec9bbcdc700",
   "metadata": {},
   "source": [
    "$ y' = 1 - y^2 \\ , \\quad x_0 = 0 \\ , \\ y_0 = 0 $"
   ]
  },
  {
   "cell_type": "markdown",
   "id": "a703ac0a-0773-414b-b485-9f529d8068b2",
   "metadata": {},
   "source": [
    "The exact solution is:\n",
    "\n",
    "$ y(x) = \\frac{1 - e^{-2x}}{1 + e^{-2x}} $"
   ]
  },
  {
   "cell_type": "code",
   "execution_count": 148,
   "id": "f959bb27-34eb-49cf-a467-ad707bbd66f9",
   "metadata": {},
   "outputs": [],
   "source": [
    "x, y = sp.symbols('x, y')\n",
    "# set f(x) as undefined function\n",
    "f = sp.symbols('f', cls=sp.Function)    "
   ]
  },
  {
   "cell_type": "code",
   "execution_count": 149,
   "id": "7209301f-4122-4aef-a903-6ce5fb275588",
   "metadata": {},
   "outputs": [],
   "source": [
    "def exact(x):\n",
    "    return (1) / (1 - x)"
   ]
  },
  {
   "cell_type": "code",
   "execution_count": 150,
   "id": "2f013f40-ac4d-4b11-9fa4-a4cb1324ab45",
   "metadata": {},
   "outputs": [
    {
     "data": {
      "text/latex": [
       "$\\displaystyle y^{2}$"
      ],
      "text/plain": [
       "y**2"
      ]
     },
     "execution_count": 150,
     "metadata": {},
     "output_type": "execute_result"
    }
   ],
   "source": [
    "f = y**2\n",
    "f"
   ]
  },
  {
   "cell_type": "code",
   "execution_count": 151,
   "id": "706c061c-739e-47a2-8324-b793e43d9874",
   "metadata": {},
   "outputs": [
    {
     "data": {
      "text/latex": [
       "$\\displaystyle 1.99999646395746$"
      ],
      "text/plain": [
       "1.99999646395746"
      ]
     },
     "execution_count": 151,
     "metadata": {},
     "output_type": "execute_result"
    }
   ],
   "source": [
    "pic(f, 0, 10).subs(x, 0.5)"
   ]
  },
  {
   "cell_type": "code",
   "execution_count": 147,
   "id": "290f3ff7-7c96-44fd-af99-8d95d0471904",
   "metadata": {},
   "outputs": [
    {
     "data": {
      "text/plain": [
       "2.0"
      ]
     },
     "execution_count": 147,
     "metadata": {},
     "output_type": "execute_result"
    }
   ],
   "source": [
    "exact(0.5)"
   ]
  },
  {
   "cell_type": "markdown",
   "id": "6d536e8f-a0b6-44e2-a06f-3889ad926dbd",
   "metadata": {},
   "source": [
    "---"
   ]
  },
  {
   "cell_type": "markdown",
   "id": "18b23be8-fe93-4215-b61a-998555cc76d3",
   "metadata": {
    "tags": []
   },
   "source": [
    "## Example 5\n",
    "\n",
    "Based on \"Problem 5\" by Emmanuel (2020)."
   ]
  },
  {
   "cell_type": "markdown",
   "id": "609f79ed-0295-42c1-a883-b093b33d691e",
   "metadata": {},
   "source": [
    "$ y' - y^2 =0  \\ , \\quad y(0) = 1 $"
   ]
  },
  {
   "cell_type": "markdown",
   "id": "dfc9fc55-3ff1-4153-8305-456c1f14c4a3",
   "metadata": {},
   "source": [
    "The exact solution is:\n",
    "\n",
    "$ y(x) = \\frac{1}{1 - x} $"
   ]
  },
  {
   "cell_type": "code",
   "execution_count": 148,
   "id": "51997b5a",
   "metadata": {},
   "outputs": [],
   "source": [
    "x, y = sp.symbols('x, y')\n",
    "# set f(x) as undefined function\n",
    "f = sp.symbols('f', cls=sp.Function)    "
   ]
  },
  {
   "cell_type": "code",
   "execution_count": 149,
   "id": "fc46ed17",
   "metadata": {},
   "outputs": [],
   "source": [
    "def exact(x):\n",
    "    return (1) / (1 - x)"
   ]
  },
  {
   "cell_type": "code",
   "execution_count": 150,
   "id": "6bdc0e10",
   "metadata": {},
   "outputs": [
    {
     "data": {
      "text/latex": [
       "$\\displaystyle y^{2}$"
      ],
      "text/plain": [
       "y**2"
      ]
     },
     "execution_count": 150,
     "metadata": {},
     "output_type": "execute_result"
    }
   ],
   "source": [
    "f = y**2\n",
    "f"
   ]
  },
  {
   "cell_type": "code",
   "execution_count": 151,
   "id": "5bb03435",
   "metadata": {},
   "outputs": [
    {
     "data": {
      "text/latex": [
       "$\\displaystyle 1.99999646395746$"
      ],
      "text/plain": [
       "1.99999646395746"
      ]
     },
     "execution_count": 151,
     "metadata": {},
     "output_type": "execute_result"
    }
   ],
   "source": [
    "pic(f, 0, 10).subs(x, 0.5)"
   ]
  },
  {
   "cell_type": "code",
   "execution_count": 147,
   "id": "e90d0871",
   "metadata": {},
   "outputs": [
    {
     "data": {
      "text/plain": [
       "2.0"
      ]
     },
     "execution_count": 147,
     "metadata": {},
     "output_type": "execute_result"
    }
   ],
   "source": [
    "exact(0.5)"
   ]
  },
  {
   "cell_type": "markdown",
   "id": "e48b8663-6914-4e19-9968-b2630e120611",
   "metadata": {},
   "source": [
    "# Conclusion"
   ]
  },
  {
   "cell_type": "markdown",
   "id": "7e0c5c75-faba-4f4d-89c4-d82675f378c6",
   "metadata": {},
   "source": [
    "This work sought to show an implementation of Picard's successive approximation method for solving first-order differential equations with initial value, using the method described by Ricardo (2020). For the solution of the integrals, the SymPy library was used. Initially, an implementation closer to the manual method was used, and from example 4, a more automated method was used. In the examples the manual analytical solution of the equations was used to compare the obtained results. In particular, example 4 showed that a relatively large number of iterations of the method were necessary to reach values close to the target, which would practically make the method unfeasible for the manual solution of the equation, and even the SymPy library took a relatively long time to find the solution of the integrals during the iterations of the method."
   ]
  },
  {
   "cell_type": "markdown",
   "id": "ea370dfa-1997-4219-8ad1-ee23cfe80d42",
   "metadata": {},
   "source": [
    "# References\n",
    "\n",
    "CHASNOV, J. R. Differential Equations for Engineers. 2022. Available at: https://www.youtube.com/playlist?list=PLkZjai-2JcxlvaV9EUgtHj1KV7THMPw1w.\n",
    "\n",
    "EMMANUEL, F. S.; JAMES, A. K.; NATHANIEL, O. S.; TEMITAYO, O. J. Review of Some Numerical Methods for Solving Initial Value Problems for Ordinary Differential Equations. International Journal of Applied Mathematics and Theoretical Physics, vol. 6, no. 1, p. 7, 2020. https://doi.org/10.11648/j.ijamtp.20200601.12.\n",
    "\n",
    "RICARDO, H. J. A Modern Introduction to Differential Equations. [S. l.]: Academic Press, 2020.\n",
    "\n",
    "RUGGIERO, M. A. G.; LOPES, V. L. D. R. Cálculo numérico: aspectos teóricos e computacionais. [S. l.]: Pearson Makron Books, 1996. vol. 1, . Available at: https://worldcat.org/en/title/1042351138.\n",
    "\n",
    "YADAV, B. K. Picard’s method. Numerical solution of ODE. 2020. Available at: https://www.youtube.com/watch?v=-u39UKYxj3g. Accessed on: 7 Jun. 2023.\n"
   ]
  },
  {
   "cell_type": "markdown",
   "id": "c53dea3b-cd69-401d-9382-017f7dbe1f14",
   "metadata": {},
   "source": [
    "# Environment\n",
    "\n",
    "To allow quick reproduction of the environment in order to recreate this Notebook, with all its packages and versions, simply use the following YAML file, as described in https://conda.io/projects/conda/en/latest/user-guide/tasks/manage-environments.html#sharing-an-environment :"
   ]
  },
  {
   "cell_type": "code",
   "execution_count": null,
   "id": "baadd90c-5ce0-4ce0-ac70-5564321e80fa",
   "metadata": {},
   "outputs": [],
   "source": [
    "! conda env export > hands-on-B04-picard.env.yml"
   ]
  }
 ],
 "metadata": {
  "kernelspec": {
   "display_name": "tf",
   "language": "python",
   "name": "tf"
  },
  "language_info": {
   "codemirror_mode": {
    "name": "ipython",
    "version": 3
   },
   "file_extension": ".py",
   "mimetype": "text/x-python",
   "name": "python",
   "nbconvert_exporter": "python",
   "pygments_lexer": "ipython3",
   "version": "3.9.16"
  }
 },
 "nbformat": 4,
 "nbformat_minor": 5
}
