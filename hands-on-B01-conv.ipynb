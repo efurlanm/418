{
 "cells": [
  {
   "cell_type": "markdown",
   "id": "d155f1f1-4d8d-47bf-89f7-8fa83b4567ad",
   "metadata": {},
   "source": [
    "# Converting from any base to any base without going through base 10\n",
    "\n",
    "2023-04-24"
   ]
  },
  {
   "cell_type": "markdown",
   "id": "7011a32b-1fed-411a-b859-cab8129ff162",
   "metadata": {},
   "source": [
    "# Table of Contents\n",
    "\n",
    "This Notebook uses the [Table of Contents](https://jupyterlab.readthedocs.io/en/stable/user/toc.html) created automatically by Jupyter Notebook (or Goolge Colab)."
   ]
  },
  {
   "cell_type": "markdown",
   "id": "60580cf1-1290-4eda-8ef1-0ba548a089de",
   "metadata": {},
   "source": [
    "# Introduction"
   ]
  },
  {
   "cell_type": "markdown",
   "id": "67d42919-f14d-48f0-9b13-bfa3c028be64",
   "metadata": {},
   "source": [
    "The idea behind this algorithm is to perform calculations directly on the target base, without using base 10 for intermediate calculations.\n",
    "\n",
    "For example, let's convert $11201_3$ in base 3 to the same number in base 7. The number $11201_3$ can be represented by:\n",
    "\n",
    "$11201_3 = 1 \\times 3^4 + 1 \\times 3^3 + 2 \\times 3^2 + 0 \\times 3^1 + 1 \\times 3^0$\n",
    "\n",
    "Rearranging the right side of the above equation:\n",
    "\n",
    "$((((1 \\times 3 + 1) \\times 3 + 2) \\times 3 + 0) \\times 3 + 1)$\n",
    "\n",
    "Solving the equation manually and directly in base 7 (note that the numbers are all in base 7) :\n",
    "\n",
    "$ (1 \\times 3) + 1 = 3 + 1 = 4_7 \\\\\n",
    "  (4 \\times 3) + 2 = 15 + 2 = 20_7 \\\\\n",
    "  (20 \\times 3) + 0 = 60 + 0 = 60_7 \\\\\n",
    "  (60 \\times 3) + 1 = 240 + 1 = 241_7 $\n",
    "  \n",
    "And the result is: $ 11201_3 = 247_7$ (note that we do not use any intermediate base, such as 10)\n",
    "\n",
    "To help with manual calculations, we can use addition and multiplication tables, in this case manually created for base 7. \n",
    "\n",
    "Addition table with numbers in base number 7:\n",
    "\n",
    "|00|01|02|03|04|05|06|\n",
    "|--|--|--|--|--|--|--|\n",
    "|**01**|02|&nbsp;&nbsp;|&nbsp;&nbsp;|&nbsp;&nbsp;|&nbsp;&nbsp;|&nbsp;&nbsp;|\n",
    "|**02**|03|04|&nbsp;&nbsp;|&nbsp;&nbsp;|&nbsp;&nbsp;|&nbsp;&nbsp;|\n",
    "|**03**|04|05|06|&nbsp;&nbsp;|&nbsp;&nbsp;|&nbsp;&nbsp;|\n",
    "|**04**|05|06|10|11|&nbsp;&nbsp;|&nbsp;&nbsp;|\n",
    "|**05**|06|10|11|12|13|&nbsp;&nbsp;|\n",
    "|**06**|10|11|12|13|14|15|\n",
    "\n",
    "Multiplication table with numbers in base number 7:\n",
    "\n",
    "|01|02|03|04|05|06|\n",
    "|--|--|--|--|--|--|\n",
    "|**02**|04|&nbsp;&nbsp;|&nbsp;&nbsp;|&nbsp;&nbsp;|&nbsp;&nbsp;|\n",
    "|**03**|06|12|&nbsp;&nbsp;|&nbsp;&nbsp;|&nbsp;&nbsp;|\n",
    "|**04**|11|15|22|&nbsp;&nbsp;|&nbsp;&nbsp;|\n",
    "|**05**|13|21|26|34|&nbsp;&nbsp;|\n",
    "|**06**|15|24|33|42|51|"
   ]
  },
  {
   "cell_type": "markdown",
   "id": "6b58c9b0-b909-43f4-9eb5-e874b0927aac",
   "metadata": {},
   "source": [
    "## Addition\n",
    "\n",
    "Let's use an example to demonstrate how the manual calculations above were done. \n",
    "\n",
    "For example let's do the manual addition calculation for $456_7 + 623_7$:"
   ]
  },
  {
   "cell_type": "markdown",
   "id": "95aeac09-80a5-4d33-a557-ab7670382239",
   "metadata": {},
   "source": [
    "      ¹¹\n",
    "      456\n",
    "    + 623\n",
    "    ―――――\n",
    "     1412"
   ]
  },
  {
   "cell_type": "markdown",
   "id": "d6042b6a-c339-4f89-8cad-1f4634e012d1",
   "metadata": {},
   "source": [
    "Starting with the rightmost column of the sum, let's add $6_7 + 3_7$. Looking at the addition table, line 6 column 3 the sum is $12_7$. We then place the digit $2$ on the right side of the result and carry the digit $1$."
   ]
  },
  {
   "cell_type": "markdown",
   "id": "c39cc14d-05e2-4011-bd28-d1d49d8124f8",
   "metadata": {},
   "source": [
    "Now we do the same procedure with the second column on the right ($5_7 + 2_7$) but now considering the carry $1$.\n",
    "\n",
    "Looking at the addition table, row 5 column 2 the sum is $10_7$. Manually adding $10_7$ with carry $1$ we arrive at $11_7$. Again, we place the digit $1$ on the left side of the result and load $1$."
   ]
  },
  {
   "cell_type": "markdown",
   "id": "8125a62d-9ab6-4e46-ab6b-6ec9660c075d",
   "metadata": {},
   "source": [
    "Once again with $4_7 + 6_7$ on the table it's $13_7$ plus the carry $1$ we arrive at $14_7$. Since there are no more numbers to add, we put $14_7$ on the left side of the result."
   ]
  },
  {
   "cell_type": "markdown",
   "id": "1010f20c-0c15-4743-a8d8-fca3badbf30c",
   "metadata": {},
   "source": [
    "## Multiplication"
   ]
  },
  {
   "cell_type": "markdown",
   "id": "0844f0d9-b66c-442b-87e3-7cf91a4caea3",
   "metadata": {},
   "source": [
    "For example, let's multiply $64_7 \\times 35_7$ using the base 7:"
   ]
  },
  {
   "cell_type": "markdown",
   "id": "f6fe96f0-a1ed-4e44-873a-1be6176e8641",
   "metadata": {},
   "source": [
    "        ¹\n",
    "        ²\n",
    "        64\n",
    "      x 35\n",
    "     ―――――\n",
    "      ¹¹\n",
    "       446\n",
    "    + 255\n",
    "    ――――――\n",
    "      3326"
   ]
  },
  {
   "cell_type": "markdown",
   "id": "2a0f11e4-0720-4180-ae6e-8582918b6e27",
   "metadata": {},
   "source": [
    "### First part - multiplication\n",
    "\n",
    "$64_7 \\times 35_7$\n",
    "\n",
    "Starting with the rightmost column of the multiplication. From the multiplication table: $4_7 \\times 5_7 = 26_7$. We put the digit $6$ on the right side of the result and carry $2$.\n",
    "\n",
    "Now we multiply $6_7 \\times 5_7$ and using the table, we find $42_7$. Manually adding the carry $2$ using base 7, we arrive at $44_7$. We put the $44$ on the left side of the result, coming up with $446_7$.\n",
    "\n",
    "Now let's repeat the process with the digit $3$. Multiplying $3_7 \\times 4_7$ using the multiplication table gives us $15_7$. The digit $5$ we put on the right side of the second result, and the carry is $1$ (the carry is on top of the carry $2$).\n",
    "\n",
    "In the next multiplication $3_7 \\times 6_7$, looking at the table we arrive at $24_7$. Adding manually with the carry $1$ we arrive at $25_7$. We put the $25$ on the left side of the result, ending up with $255_7$."
   ]
  },
  {
   "cell_type": "markdown",
   "id": "f159f556-8435-454a-bc6b-30032c7b2c10",
   "metadata": {},
   "source": [
    "### Second part - addition\n",
    "\n",
    "$446_7 \\times 255_7$\n",
    "\n",
    "The first digit of the rightmost column $6$ is placed at the bottom right of the addition result.\n",
    "\n",
    "The sum of the second column from the right $4_7 + 5_7$ using the addition table, is $12_7$. We put the digit $2$ on the left side of the result, and the carry is $1$.\n",
    "\n",
    "The sum of the next column $4_7 + 5_7$ is $12_7$ and adding manually with the carry $1$ in the number base 7 we arrive at $13_7$. We put the digit $3$ on the left side of the result, and the carry is $1$.\n",
    "\n",
    "Finally we add the digit $2$ with the carry $1$ and we arrive at $3$ which is placed on the left side. The end result is $3326_7$."
   ]
  },
  {
   "cell_type": "markdown",
   "id": "668fcdf7-ac33-48a3-959c-18c9864cb1df",
   "metadata": {},
   "source": [
    "# Implementation"
   ]
  },
  {
   "cell_type": "markdown",
   "id": "9abf17b3-eefa-469e-97a2-656b28f297ed",
   "metadata": {},
   "source": [
    "The following code has several limitations as we have tried to make it as simple as possible so that it is relatively easy to understand. Basically the code tries to implement the algorithm described above, which was done manually. There has been no optimization, and the code is not generic, and it is not complete. The code is likely to properly handle only a few cases. Despite this, it is sufficient to run according to the described algorithm. Only the example described in the algorithm above was tested. For the other cases, bugs will most likely be found."
   ]
  },
  {
   "cell_type": "code",
   "execution_count": 105,
   "id": "f1e078ef-51b5-45dc-ab2f-429c0da24e1d",
   "metadata": {},
   "outputs": [],
   "source": [
    "import numpy as np"
   ]
  },
  {
   "cell_type": "markdown",
   "id": "3a908840-4e04-4606-a141-e3b17ce62dca",
   "metadata": {},
   "source": [
    "Routine to count sequentially on a given base (from 2 to 10):"
   ]
  },
  {
   "cell_type": "code",
   "execution_count": 116,
   "id": "9177cdf0-01d2-4678-b2e6-f12bebf09cc4",
   "metadata": {},
   "outputs": [
    {
     "name": "stdout",
     "output_type": "stream",
     "text": [
      "00,01,02,03,04,05,06,10,11,12,13,14,15,16,20,21,22,23,24,25,26,30,31,32,33,34,35,36,40,41,42,43,44,45,46,50,51,52,53,54,55,56,60,61,62,63,64,65,66,"
     ]
    }
   ],
   "source": [
    "base = 7\n",
    "for j in range(base):\n",
    "    for i in range(base):\n",
    "        print(f\"{j}{i}\", end=\",\")"
   ]
  },
  {
   "cell_type": "markdown",
   "id": "5a31ca45-e1e4-4aa4-9a5f-719f58a47799",
   "metadata": {},
   "source": [
    "The routine will be used to perform calculations made directly in a specified base, without going through base 10 or another intermediate base."
   ]
  },
  {
   "cell_type": "markdown",
   "id": "b18b728e-5386-49e8-a60a-02235391db78",
   "metadata": {},
   "source": [
    "Now let's add some more features to the routine. We're going to start the sequential count at a certain starting number, and we're going to count sequentially a certain number of times, adding 1 at each step. As an example, the starting number is 51 in base 7, and the routine will count sequentially 20 times:"
   ]
  },
  {
   "cell_type": "code",
   "execution_count": 142,
   "id": "295ed635-db60-43fd-bdaf-c1de0806d2f0",
   "metadata": {},
   "outputs": [
    {
     "name": "stdout",
     "output_type": "stream",
     "text": [
      "051,052,053,054,055,056,060,061,062,063,064,065,066,100,101,102,103,104,105,106,\n",
      "final: 106\n"
     ]
    }
   ],
   "source": [
    "base = 7\n",
    "a = 0\n",
    "b = 5\n",
    "c = 1\n",
    "coun = 20\n",
    "\n",
    "acc = 1\n",
    "for k in range(a, base):\n",
    "    for j in range(b, base):\n",
    "        for i in range(c, base):\n",
    "            print(f\"{k}{j}{i}\", end=\",\")\n",
    "            acc += 1\n",
    "            if acc > coun:\n",
    "                break\n",
    "        a = b = c = 0\n",
    "        if acc > coun:\n",
    "            break\n",
    "    if acc > coun:\n",
    "        break\n",
    "print(f\"\\nfinal: {k}{j}{i}\")"
   ]
  },
  {
   "cell_type": "markdown",
   "id": "6b6b6a3d-cf15-4399-92c2-291227df42cb",
   "metadata": {},
   "source": [
    "The numbers above are 20 numbers in base 7, starting with the number 51, counted sequentially."
   ]
  },
  {
   "cell_type": "markdown",
   "id": "e2028a03-8659-4a47-bf5a-053a3165b634",
   "metadata": {},
   "source": [
    "The routine below counts sequentially from a given starting number, adding 1 at each step, using a given numerical base. In the function below `a`, `b`, `c` are the digits of the starting number of the count. `coun` is the number of sequential counts of the number in `base`. The routine returns the final number of the count that is made in the numeric base. For simplicity, the routine is bounded between bases 2 and 10:"
   ]
  },
  {
   "cell_type": "code",
   "execution_count": 144,
   "id": "b169a3b2-50dd-42af-87cc-e9789cf6057c",
   "metadata": {},
   "outputs": [],
   "source": [
    "def CounBase(base, a, b, c, coun):\n",
    "    acc = 1\n",
    "    for k in range(a, base):\n",
    "        for j in range(b, base):\n",
    "            for i in range(c, base):\n",
    "                acc += 1\n",
    "                if acc > coun:\n",
    "                    break\n",
    "            a = b = c = 0\n",
    "            if acc > coun:\n",
    "                break\n",
    "        if acc > coun:\n",
    "            break\n",
    "    return k, j, i"
   ]
  },
  {
   "cell_type": "markdown",
   "id": "5b68e875-4d43-48d7-8c77-abeb28448ace",
   "metadata": {},
   "source": [
    "Example: numerical base 7, starting from the number $51_7$ and sequentially counting 15 times. After counting the final number is $101_7$."
   ]
  },
  {
   "cell_type": "code",
   "execution_count": 145,
   "id": "e2e1b194-ef47-4908-a034-65a5ac688829",
   "metadata": {},
   "outputs": [
    {
     "name": "stdout",
     "output_type": "stream",
     "text": [
      "101\n"
     ]
    }
   ],
   "source": [
    "a, b, c = CounBase(7, 0, 5, 1, 15)\n",
    "print(f\"{a}{b}{c}\")"
   ]
  },
  {
   "cell_type": "markdown",
   "id": "c1dcbb5d-8724-454e-84bb-158e68830c60",
   "metadata": {},
   "source": [
    "With this routine it is possible to build the following tables:"
   ]
  },
  {
   "cell_type": "markdown",
   "id": "a1d52046-3f3f-4aaf-83c1-047cf341dd53",
   "metadata": {},
   "source": [
    "## Addition table for the base 7"
   ]
  },
  {
   "cell_type": "code",
   "execution_count": 153,
   "id": "2fe7a7de-3d91-4e2a-b746-9cb130d6635f",
   "metadata": {},
   "outputs": [
    {
     "name": "stdout",
     "output_type": "stream",
     "text": [
      "[['000' '001' '002' '003' '004' '005' '006']\n",
      " ['001' '002' '003' '004' '005' '006' '010']\n",
      " ['002' '003' '004' '005' '006' '010' '011']\n",
      " ['003' '004' '005' '006' '010' '011' '012']\n",
      " ['004' '005' '006' '010' '011' '012' '013']\n",
      " ['005' '006' '010' '011' '012' '013' '014']\n",
      " ['006' '010' '011' '012' '013' '014' '015']]\n"
     ]
    }
   ],
   "source": [
    "sumtab = np.empty(shape=(7, 7), dtype='<U3')\n",
    "for j in range(7):\n",
    "    for i in range(7):\n",
    "        a, b, c = CounBase(7, 0, 0, i, j + 1)\n",
    "        sumtab[j][i] = f\"{a}{b}{c}\"\n",
    "print(sumtab)"
   ]
  },
  {
   "cell_type": "markdown",
   "id": "d64545fd-4c1b-4be3-9b4a-2f626a248571",
   "metadata": {},
   "source": [
    "## Multiplication table for the base 7"
   ]
  },
  {
   "cell_type": "code",
   "execution_count": 100,
   "id": "5cc79ed8-d2d7-4ac5-86fb-866164dff054",
   "metadata": {},
   "outputs": [
    {
     "name": "stdout",
     "output_type": "stream",
     "text": [
      "[['001' '002' '003' '004' '005' '006']\n",
      " ['002' '004' '006' '011' '013' '015']\n",
      " ['003' '006' '012' '015' '021' '024']\n",
      " ['004' '011' '015' '022' '026' '033']\n",
      " ['005' '013' '021' '026' '034' '042']\n",
      " ['006' '015' '024' '033' '042' '051']]\n"
     ]
    }
   ],
   "source": [
    "multab = np.empty(shape=(6, 6), dtype='<U3')\n",
    "for j in range(6):\n",
    "    a = b = c = 0\n",
    "    for i in range(6):\n",
    "        a, b, c = CounBase(7, a, b, c, j + 2)\n",
    "        multab[j][i] = f\"{a}{b}{c}\"\n",
    "print(multab)"
   ]
  },
  {
   "cell_type": "markdown",
   "id": "0d4623c7-833a-4ca2-a46d-fcdc03ee65a7",
   "metadata": {},
   "source": [
    "## Addition implementation"
   ]
  },
  {
   "cell_type": "markdown",
   "id": "a1ba3bc0-97e5-4dbd-b8b7-92613f4d43c5",
   "metadata": {},
   "source": [
    "Let's use the conversion $456_7 + 623_7$ to illustrate the process. Most of the steps below were already described at the beginning of this work, in the description of the manual solution process using the proposed algorithm, and will not be repeated in the steps below."
   ]
  },
  {
   "cell_type": "code",
   "execution_count": 263,
   "id": "58616fc5-1849-4de2-bd64-2a4271076d1f",
   "metadata": {},
   "outputs": [],
   "source": [
    "n1 = '240'\n",
    "n2 = '001'"
   ]
  },
  {
   "cell_type": "markdown",
   "id": "086d31fd-2a4f-4baf-866e-e46ba3990ac3",
   "metadata": {},
   "source": [
    "Starting with the last column (col 2):"
   ]
  },
  {
   "cell_type": "code",
   "execution_count": 264,
   "id": "e50284fa-0f2e-4e61-8c98-a2eeddafabd0",
   "metadata": {},
   "outputs": [],
   "source": [
    "col = 2"
   ]
  },
  {
   "cell_type": "code",
   "execution_count": 265,
   "id": "e1ef86a5-b32d-4935-9249-1167c3273174",
   "metadata": {},
   "outputs": [
    {
     "data": {
      "text/plain": [
       "'001'"
      ]
     },
     "execution_count": 265,
     "metadata": {},
     "output_type": "execute_result"
    }
   ],
   "source": [
    "d = sumtab[int(n1[col])][int(n2[col])]\n",
    "d"
   ]
  },
  {
   "cell_type": "code",
   "execution_count": 266,
   "id": "37126456-0470-469a-97b9-7a77f199b7ff",
   "metadata": {},
   "outputs": [
    {
     "data": {
      "text/plain": [
       "('1', '0')"
      ]
     },
     "execution_count": 266,
     "metadata": {},
     "output_type": "execute_result"
    }
   ],
   "source": [
    "carry = d[1]\n",
    "result = d[2]\n",
    "result, carry"
   ]
  },
  {
   "cell_type": "markdown",
   "id": "602fc3a2-73b9-4a84-8bef-ace93c6f1b36",
   "metadata": {},
   "source": [
    "Next column:"
   ]
  },
  {
   "cell_type": "code",
   "execution_count": 267,
   "id": "8e3f7512-89cc-4d9d-9860-dfa589479e79",
   "metadata": {},
   "outputs": [],
   "source": [
    "col = 1"
   ]
  },
  {
   "cell_type": "code",
   "execution_count": 268,
   "id": "c18a0b79-cddc-4e41-84d3-43741ce1d0b6",
   "metadata": {},
   "outputs": [
    {
     "data": {
      "text/plain": [
       "'004'"
      ]
     },
     "execution_count": 268,
     "metadata": {},
     "output_type": "execute_result"
    }
   ],
   "source": [
    "d = sumtab[int(n1[col])][int(n2[col])]\n",
    "d"
   ]
  },
  {
   "cell_type": "code",
   "execution_count": 269,
   "id": "e4ebafc2-af1b-48f7-ae95-667f211ec00a",
   "metadata": {},
   "outputs": [
    {
     "data": {
      "text/plain": [
       "'004'"
      ]
     },
     "execution_count": 269,
     "metadata": {},
     "output_type": "execute_result"
    }
   ],
   "source": [
    "a, b, c = CounBase(7, \n",
    "    int(d[0]), int(d[1]), int(d[2]), int(carry)+1)\n",
    "d = f\"{a}{b}{c}\"\n",
    "d"
   ]
  },
  {
   "cell_type": "code",
   "execution_count": 270,
   "id": "679f3e10-2a0b-412b-b7b2-701312aa1747",
   "metadata": {},
   "outputs": [
    {
     "data": {
      "text/plain": [
       "('41', '0')"
      ]
     },
     "execution_count": 270,
     "metadata": {},
     "output_type": "execute_result"
    }
   ],
   "source": [
    "carry = d[1]\n",
    "result = d[2] + result\n",
    "result, carry"
   ]
  },
  {
   "cell_type": "markdown",
   "id": "fbeabcee-9097-487c-b75a-0523f1494930",
   "metadata": {},
   "source": [
    "Next column:"
   ]
  },
  {
   "cell_type": "code",
   "execution_count": 271,
   "id": "c0b961d8-914b-4635-a781-09719268e701",
   "metadata": {},
   "outputs": [],
   "source": [
    "col = 0"
   ]
  },
  {
   "cell_type": "code",
   "execution_count": 272,
   "id": "e7bca201-5e1f-465c-9bee-a49e74a35e7b",
   "metadata": {},
   "outputs": [
    {
     "data": {
      "text/plain": [
       "'002'"
      ]
     },
     "execution_count": 272,
     "metadata": {},
     "output_type": "execute_result"
    }
   ],
   "source": [
    "d = sumtab[int(n1[col])][int(n2[col])]\n",
    "d"
   ]
  },
  {
   "cell_type": "code",
   "execution_count": 273,
   "id": "c5b57a48-af26-41f5-a44a-4f6c7eb59b0e",
   "metadata": {},
   "outputs": [
    {
     "data": {
      "text/plain": [
       "'002'"
      ]
     },
     "execution_count": 273,
     "metadata": {},
     "output_type": "execute_result"
    }
   ],
   "source": [
    "a, b, c = CounBase(7, \n",
    "    int(d[0]), int(d[1]), int(d[2]), int(carry)+1)\n",
    "d = f\"{a}{b}{c}\"\n",
    "d"
   ]
  },
  {
   "cell_type": "code",
   "execution_count": 279,
   "id": "db6c9d76-6d63-417f-a087-364ed1a613ce",
   "metadata": {},
   "outputs": [
    {
     "data": {
      "text/plain": [
       "'241'"
      ]
     },
     "execution_count": 279,
     "metadata": {},
     "output_type": "execute_result"
    }
   ],
   "source": [
    "result = str(int(d)) + result\n",
    "result"
   ]
  },
  {
   "cell_type": "markdown",
   "id": "c725528b-05da-4eae-851b-217e5bde2e78",
   "metadata": {},
   "source": [
    "$241_7$ is the same result obtained using the algorithm's manual solution process, described at the beginning of this work."
   ]
  },
  {
   "cell_type": "markdown",
   "id": "aa0dfcec-24a8-444e-8644-22af7d3234d1",
   "metadata": {},
   "source": [
    "### Putting all together\n",
    "\n",
    "The following code condenses the previous code presented, and creates a function that can be called to solve an addition using a numerical base directly, without going through base 10."
   ]
  },
  {
   "cell_type": "code",
   "execution_count": 411,
   "id": "6cfb04e0-c2bd-41e2-91ce-3a94da725e63",
   "metadata": {},
   "outputs": [],
   "source": [
    "def adit(n1, n2, base):\n",
    "    col = 3\n",
    "    d = sumtab[int(n1[col])][int(n2[col])]\n",
    "    carry = d[1]\n",
    "    result = d[2]\n",
    "    \n",
    "    col = 2\n",
    "    d = sumtab[int(n1[col])][int(n2[col])]\n",
    "    a, b, c = CounBase(base, \n",
    "        int(d[0]), int(d[1]), int(d[2]), int(carry)+1)\n",
    "    d = f\"{a}{b}{c}\"\n",
    "    carry = d[1]\n",
    "    result = d[2] + result\n",
    "        \n",
    "    col = 1\n",
    "    d = sumtab[int(n1[col])][int(n2[col])]\n",
    "    a, b, c = CounBase(base, \n",
    "        int(d[0]), int(d[1]), int(d[2]), int(carry)+1)\n",
    "    d = f\"{a}{b}{c}\"\n",
    "    carry = d[1]\n",
    "    result = d[2] + result\n",
    "    \n",
    "    col = 0\n",
    "    d = sumtab[int(n1[col])][int(n2[col])]\n",
    "    a, b, c = CounBase(base, \n",
    "        int(d[0]), int(d[1]), int(d[2]), int(carry)+1)\n",
    "    d = f\"{a}{b}{c}\"\n",
    "    result = d[2:3] + result\n",
    "    return result"
   ]
  },
  {
   "cell_type": "markdown",
   "id": "c3b1cd6f-924a-43e4-974e-b9b321f17ef7",
   "metadata": {},
   "source": [
    "Some tests to verify that it's working as expected:"
   ]
  },
  {
   "cell_type": "code",
   "execution_count": 412,
   "id": "9800c9da-6b25-44f9-bc9c-7a148dd7c689",
   "metadata": {},
   "outputs": [
    {
     "data": {
      "text/plain": [
       "'1412'"
      ]
     },
     "execution_count": 412,
     "metadata": {},
     "output_type": "execute_result"
    }
   ],
   "source": [
    "adit('0456', '0623', 7)"
   ]
  },
  {
   "cell_type": "code",
   "execution_count": 413,
   "id": "a286fa11-9f92-4fa4-b9b1-659f47246347",
   "metadata": {},
   "outputs": [
    {
     "data": {
      "text/plain": [
       "'0020'"
      ]
     },
     "execution_count": 413,
     "metadata": {},
     "output_type": "execute_result"
    }
   ],
   "source": [
    "adit('0015', '0002', 7)"
   ]
  },
  {
   "cell_type": "code",
   "execution_count": 414,
   "id": "17cabb4d-3f2e-4358-ad02-46a89d3fde7e",
   "metadata": {},
   "outputs": [
    {
     "data": {
      "text/plain": [
       "'0241'"
      ]
     },
     "execution_count": 414,
     "metadata": {},
     "output_type": "execute_result"
    }
   ],
   "source": [
    "adit('0240', '0001', 7)"
   ]
  },
  {
   "cell_type": "markdown",
   "id": "37e27e44-b75b-41e9-b558-2c52cfb61050",
   "metadata": {},
   "source": [
    "## Multiplication implementation\n",
    "\n",
    "Just as addition was implemented, the code below implements multiplication. Again comments that have already been made will not be repeated for the following code. The numbers $60_7$ and $03_7$ are used to illustrate the process."
   ]
  },
  {
   "cell_type": "code",
   "execution_count": 679,
   "id": "f26eaff9-568f-45b5-b933-98c90b4bb315",
   "metadata": {},
   "outputs": [],
   "source": [
    "n1 = '60'\n",
    "n2 = '03'"
   ]
  },
  {
   "cell_type": "code",
   "execution_count": 680,
   "id": "4aaeb8e7-1462-4f7b-9080-771eae53bf15",
   "metadata": {
    "tags": []
   },
   "outputs": [],
   "source": [
    "col1 = 1\n",
    "col2 = 1"
   ]
  },
  {
   "cell_type": "code",
   "execution_count": 681,
   "id": "1d07ed28-9237-43ff-b85f-559630355c07",
   "metadata": {},
   "outputs": [
    {
     "data": {
      "text/plain": [
       "'0'"
      ]
     },
     "execution_count": 681,
     "metadata": {},
     "output_type": "execute_result"
    }
   ],
   "source": [
    "n1[col1]"
   ]
  },
  {
   "cell_type": "code",
   "execution_count": 682,
   "id": "c46b5334-efc7-4fde-89bc-a19177b3d158",
   "metadata": {},
   "outputs": [
    {
     "data": {
      "text/plain": [
       "'3'"
      ]
     },
     "execution_count": 682,
     "metadata": {},
     "output_type": "execute_result"
    }
   ],
   "source": [
    "n2[col2]"
   ]
  },
  {
   "cell_type": "markdown",
   "id": "e571d7c2-6323-4d31-b6ea-155ec293efdf",
   "metadata": {},
   "source": [
    "The following code snippet checks if the multiplication is by zero, as the multiplication table does not have zero. If it is by zero, the result is direct ($000$), otherwise the conversion function is called."
   ]
  },
  {
   "cell_type": "code",
   "execution_count": 683,
   "id": "c26d1725-f570-4e23-9263-8d01e7a2c01c",
   "metadata": {},
   "outputs": [
    {
     "data": {
      "text/plain": [
       "'000'"
      ]
     },
     "execution_count": 683,
     "metadata": {},
     "output_type": "execute_result"
    }
   ],
   "source": [
    "i = int(n1[col1])-1\n",
    "j = int(n2[col2])-1\n",
    "if i<0 or j<0 :\n",
    "    d = '000'\n",
    "else:\n",
    "    d = multab[i][j]\n",
    "d"
   ]
  },
  {
   "cell_type": "code",
   "execution_count": 684,
   "id": "64d3d126-9670-4722-9542-fca4d864489f",
   "metadata": {},
   "outputs": [
    {
     "data": {
      "text/plain": [
       "('0', '0')"
      ]
     },
     "execution_count": 684,
     "metadata": {},
     "output_type": "execute_result"
    }
   ],
   "source": [
    "carry = d[1]\n",
    "result1 = d[2]\n",
    "result1, carry"
   ]
  },
  {
   "cell_type": "markdown",
   "id": "cfa146ad-9bf7-46e5-ad4e-53f2d14dcf60",
   "metadata": {},
   "source": [
    "Next column:"
   ]
  },
  {
   "cell_type": "code",
   "execution_count": 685,
   "id": "cc343695-4a64-4019-832f-844370180195",
   "metadata": {},
   "outputs": [],
   "source": [
    "col1 = 0"
   ]
  },
  {
   "cell_type": "code",
   "execution_count": 686,
   "id": "31fdbf74-ff6d-4496-92c0-431d24ab0648",
   "metadata": {},
   "outputs": [
    {
     "data": {
      "text/plain": [
       "'6'"
      ]
     },
     "execution_count": 686,
     "metadata": {},
     "output_type": "execute_result"
    }
   ],
   "source": [
    "n1[col1]"
   ]
  },
  {
   "cell_type": "code",
   "execution_count": 687,
   "id": "33639c99-9045-4e9b-ba53-762fd4772bde",
   "metadata": {},
   "outputs": [
    {
     "data": {
      "text/plain": [
       "'3'"
      ]
     },
     "execution_count": 687,
     "metadata": {},
     "output_type": "execute_result"
    }
   ],
   "source": [
    "n2[col2]"
   ]
  },
  {
   "cell_type": "code",
   "execution_count": 688,
   "id": "a4f31258-32c4-46d8-a026-2036fe5fe469",
   "metadata": {},
   "outputs": [
    {
     "data": {
      "text/plain": [
       "'024'"
      ]
     },
     "execution_count": 688,
     "metadata": {},
     "output_type": "execute_result"
    }
   ],
   "source": [
    "i = int(n1[col1])-1\n",
    "j = int(n2[col2])-1\n",
    "if i<0 or j<0 :\n",
    "    d = '000'\n",
    "else:\n",
    "    d = multab[i][j]\n",
    "d"
   ]
  },
  {
   "cell_type": "markdown",
   "id": "805b82e2-b7f8-45f2-89a2-6f4f8c74371d",
   "metadata": {},
   "source": [
    "The sum of the carry could be done in other ways, but the option is to simplify and use the function that counts, as it would be done manually. A better implementation would be to use the addition function."
   ]
  },
  {
   "cell_type": "code",
   "execution_count": 689,
   "id": "4ed1fc39-d69e-4d57-9c92-d320d4243318",
   "metadata": {},
   "outputs": [
    {
     "data": {
      "text/plain": [
       "'024'"
      ]
     },
     "execution_count": 689,
     "metadata": {},
     "output_type": "execute_result"
    }
   ],
   "source": [
    "a, b, c = CounBase(7, \n",
    "    int(d[0]), int(d[1]), int(d[2]), int(carry)+1)\n",
    "d = f\"{a}{b}{c}\"\n",
    "d"
   ]
  },
  {
   "cell_type": "code",
   "execution_count": 690,
   "id": "e6e4e745-9562-471f-8ade-47c212cf8968",
   "metadata": {},
   "outputs": [
    {
     "data": {
      "text/plain": [
       "'0240'"
      ]
     },
     "execution_count": 690,
     "metadata": {},
     "output_type": "execute_result"
    }
   ],
   "source": [
    "result1 = d + result1\n",
    "result1"
   ]
  },
  {
   "cell_type": "markdown",
   "id": "d89b1ea2-20a2-4ae3-a808-1827eddefc01",
   "metadata": {},
   "source": [
    "The following lines standardize the number format, as the implemented functions expect numbers in this format."
   ]
  },
  {
   "cell_type": "code",
   "execution_count": 691,
   "id": "e17a200a-c1e2-41ce-a142-915b7ce25138",
   "metadata": {},
   "outputs": [],
   "source": [
    "result1 = '000' + result1"
   ]
  },
  {
   "cell_type": "code",
   "execution_count": 692,
   "id": "baeee9ea-9410-4e00-9312-8e45a85e49cd",
   "metadata": {},
   "outputs": [],
   "source": [
    "result1 = result1[-4:]"
   ]
  },
  {
   "cell_type": "code",
   "execution_count": 693,
   "id": "b2498294-8b0b-435c-8305-0dc2e2947487",
   "metadata": {},
   "outputs": [
    {
     "data": {
      "text/plain": [
       "'0240'"
      ]
     },
     "execution_count": 693,
     "metadata": {},
     "output_type": "execute_result"
    }
   ],
   "source": [
    "result1"
   ]
  },
  {
   "cell_type": "markdown",
   "id": "22c96001-c0ef-4095-8d23-67427e94b4cb",
   "metadata": {},
   "source": [
    "The intermediate result is $240_7$."
   ]
  },
  {
   "cell_type": "markdown",
   "id": "33e46fbd-3e3d-4b9a-939a-34a5251eb26c",
   "metadata": {},
   "source": [
    "###  Multiplication using the second digit"
   ]
  },
  {
   "cell_type": "code",
   "execution_count": 694,
   "id": "5ec0b022-8e21-4afd-92ce-781681e5dadc",
   "metadata": {},
   "outputs": [],
   "source": [
    "col1 = 1\n",
    "col2 = 0"
   ]
  },
  {
   "cell_type": "code",
   "execution_count": 695,
   "id": "4a96559a-5089-49f9-97fd-e5f747f7a216",
   "metadata": {},
   "outputs": [
    {
     "data": {
      "text/plain": [
       "'0'"
      ]
     },
     "execution_count": 695,
     "metadata": {},
     "output_type": "execute_result"
    }
   ],
   "source": [
    "n1[col1]"
   ]
  },
  {
   "cell_type": "code",
   "execution_count": 696,
   "id": "3745bb60-6e5d-4d2f-aaba-020142d6ee01",
   "metadata": {},
   "outputs": [
    {
     "data": {
      "text/plain": [
       "'0'"
      ]
     },
     "execution_count": 696,
     "metadata": {},
     "output_type": "execute_result"
    }
   ],
   "source": [
    "n2[col2]"
   ]
  },
  {
   "cell_type": "code",
   "execution_count": 697,
   "id": "82bcb66d-ebe9-4a5c-8433-ca69c4f692fb",
   "metadata": {},
   "outputs": [
    {
     "data": {
      "text/plain": [
       "'000'"
      ]
     },
     "execution_count": 697,
     "metadata": {},
     "output_type": "execute_result"
    }
   ],
   "source": [
    "i = int(n1[col1])-1\n",
    "j = int(n2[col2])-1\n",
    "if i<0 or j<0 :\n",
    "    d = '000'\n",
    "else:\n",
    "    d = multab[i][j]\n",
    "d"
   ]
  },
  {
   "cell_type": "code",
   "execution_count": 698,
   "id": "2eedaa46-fd38-4e14-bd23-0228ac7e7724",
   "metadata": {},
   "outputs": [
    {
     "data": {
      "text/plain": [
       "('0', '0')"
      ]
     },
     "execution_count": 698,
     "metadata": {},
     "output_type": "execute_result"
    }
   ],
   "source": [
    "carry = d[1]\n",
    "result2 = d[2]\n",
    "result2, carry"
   ]
  },
  {
   "cell_type": "markdown",
   "id": "59af1fb1-6a48-4838-ae50-c8213e3e3041",
   "metadata": {},
   "source": [
    "Next column:"
   ]
  },
  {
   "cell_type": "code",
   "execution_count": 699,
   "id": "cc7fc17e-2702-4168-a184-82516e7c7ec4",
   "metadata": {},
   "outputs": [],
   "source": [
    "col1 = 0"
   ]
  },
  {
   "cell_type": "code",
   "execution_count": 700,
   "id": "93f4fc7c-31b2-4072-88c2-f7146ee4848a",
   "metadata": {},
   "outputs": [
    {
     "data": {
      "text/plain": [
       "'6'"
      ]
     },
     "execution_count": 700,
     "metadata": {},
     "output_type": "execute_result"
    }
   ],
   "source": [
    "n1[col1]"
   ]
  },
  {
   "cell_type": "code",
   "execution_count": 701,
   "id": "16c7e9a8-b30f-4f37-8eb9-a18fb7527e1e",
   "metadata": {},
   "outputs": [
    {
     "data": {
      "text/plain": [
       "'0'"
      ]
     },
     "execution_count": 701,
     "metadata": {},
     "output_type": "execute_result"
    }
   ],
   "source": [
    "n2[col2]"
   ]
  },
  {
   "cell_type": "code",
   "execution_count": 702,
   "id": "23dc43ab-94f8-4795-8dac-5a7a7c27dc54",
   "metadata": {},
   "outputs": [
    {
     "data": {
      "text/plain": [
       "'000'"
      ]
     },
     "execution_count": 702,
     "metadata": {},
     "output_type": "execute_result"
    }
   ],
   "source": [
    "i = int(n1[col1])-1\n",
    "j = int(n2[col2])-1\n",
    "if i<0 or j<0 :\n",
    "    d = '000'\n",
    "else:\n",
    "    d = multab[i][j]\n",
    "d"
   ]
  },
  {
   "cell_type": "code",
   "execution_count": 703,
   "id": "58f372cf-c679-4bf9-99a5-3f1945a90fde",
   "metadata": {},
   "outputs": [
    {
     "data": {
      "text/plain": [
       "'000'"
      ]
     },
     "execution_count": 703,
     "metadata": {},
     "output_type": "execute_result"
    }
   ],
   "source": [
    "a, b, c = CounBase(7, \n",
    "    int(d[0]), int(d[1]), int(d[2]), int(carry)+1)\n",
    "d = f\"{a}{b}{c}\"\n",
    "d"
   ]
  },
  {
   "cell_type": "code",
   "execution_count": 704,
   "id": "dad6850d-7c08-40b5-98ae-d45a4af4e9fe",
   "metadata": {},
   "outputs": [
    {
     "data": {
      "text/plain": [
       "'0000'"
      ]
     },
     "execution_count": 704,
     "metadata": {},
     "output_type": "execute_result"
    }
   ],
   "source": [
    "result2 = d + result2\n",
    "result2"
   ]
  },
  {
   "cell_type": "code",
   "execution_count": 705,
   "id": "f88d38a3-15a7-431b-8f4e-866850bfd618",
   "metadata": {},
   "outputs": [],
   "source": [
    "result2 = '000' + result2 + '0'"
   ]
  },
  {
   "cell_type": "code",
   "execution_count": 706,
   "id": "937e9549-f73c-4e8a-ae88-490e169c8f05",
   "metadata": {},
   "outputs": [],
   "source": [
    "result2 = result2[-4:]"
   ]
  },
  {
   "cell_type": "code",
   "execution_count": 707,
   "id": "d0d74ca0-e1cf-4138-a0b0-d05c93d234ba",
   "metadata": {},
   "outputs": [
    {
     "data": {
      "text/plain": [
       "'0000'"
      ]
     },
     "execution_count": 707,
     "metadata": {},
     "output_type": "execute_result"
    }
   ],
   "source": [
    "result2"
   ]
  },
  {
   "cell_type": "markdown",
   "id": "7c53dfe5-ce10-4be8-9d5f-2e103bfd01fd",
   "metadata": {},
   "source": [
    "### Second part: addition"
   ]
  },
  {
   "cell_type": "code",
   "execution_count": 708,
   "id": "beace124-5862-4633-86ef-35c32750de11",
   "metadata": {},
   "outputs": [
    {
     "data": {
      "text/plain": [
       "('0240', '0000')"
      ]
     },
     "execution_count": 708,
     "metadata": {},
     "output_type": "execute_result"
    }
   ],
   "source": [
    "result1, result2"
   ]
  },
  {
   "cell_type": "code",
   "execution_count": 709,
   "id": "800cdcb0-bd56-45fb-a333-1aa940d27d66",
   "metadata": {},
   "outputs": [
    {
     "data": {
      "text/plain": [
       "'0240'"
      ]
     },
     "execution_count": 709,
     "metadata": {},
     "output_type": "execute_result"
    }
   ],
   "source": [
    "adit(result1, result2, 7)"
   ]
  },
  {
   "cell_type": "markdown",
   "id": "35838063-1f6c-4a38-b0bc-40d17c287ba7",
   "metadata": {},
   "source": [
    "The number $240_7$ is the expected result."
   ]
  },
  {
   "cell_type": "markdown",
   "id": "f09fcd81-0d0f-49e8-92c7-064d5cd057ab",
   "metadata": {},
   "source": [
    "### Putting all together"
   ]
  },
  {
   "cell_type": "code",
   "execution_count": 675,
   "id": "2d0f3761-0b6c-46ce-9042-6a90d7ad3617",
   "metadata": {},
   "outputs": [],
   "source": [
    "def mult(n1, n2, base):\n",
    "    col1 = 1\n",
    "    col2 = 1\n",
    "    i = int(n1[col1])-1\n",
    "    j = int(n2[col2])-1\n",
    "    if i<0 or j<0 :\n",
    "        d = '000'\n",
    "    else:\n",
    "        d = multab[i][j]\n",
    "    carry = d[1]\n",
    "    result1 = d[2]\n",
    "    # Next column\n",
    "    col1 = 0\n",
    "    i = int(n1[col1])-1\n",
    "    j = int(n2[col2])-1\n",
    "    if i<0 or j<0 :\n",
    "        d = '000'\n",
    "    else:\n",
    "        d = multab[i][j]\n",
    "    a, b, c = CounBase(base, \n",
    "    int(d[0]), int(d[1]), int(d[2]), int(carry)+1)\n",
    "    d = f\"{a}{b}{c}\"\n",
    "    result1 = '000' + d + result1\n",
    "    # Multiplication using the second digit\n",
    "    col1 = 1\n",
    "    col2 = 0\n",
    "    i = int(n1[col1])-1\n",
    "    j = int(n2[col2])-1\n",
    "    if i<0 or j<0 :\n",
    "        d = '000'\n",
    "    else:\n",
    "        d = multab[i][j]\n",
    "    carry = d[1]\n",
    "    result2 = d[2]\n",
    "    # Next column\n",
    "    col1 = 0\n",
    "    i = int(n1[col1])-1\n",
    "    j = int(n2[col2])-1\n",
    "    if i<0 or j<0 :\n",
    "        d = '000'\n",
    "    else:\n",
    "        d = multab[i][j]\n",
    "    a, b, c = CounBase(base, \n",
    "    int(d[0]), int(d[1]), int(d[2]), int(carry)+1)\n",
    "    d = f\"{a}{b}{c}\"\n",
    "    result2 = '000' + d + result2 + '0'\n",
    "    return adit(result1[-4:], result2[-4:], 7)"
   ]
  },
  {
   "cell_type": "markdown",
   "id": "08a80b70-ef5a-4a32-8d9f-8626bd4e327e",
   "metadata": {},
   "source": [
    "Some tests to verify that it's working as expected:"
   ]
  },
  {
   "cell_type": "code",
   "execution_count": 676,
   "id": "470e3138-25a0-4247-ae7e-1e62a66f875e",
   "metadata": {},
   "outputs": [
    {
     "data": {
      "text/plain": [
       "'3326'"
      ]
     },
     "execution_count": 676,
     "metadata": {},
     "output_type": "execute_result"
    }
   ],
   "source": [
    "mult('64', '35', 7)"
   ]
  },
  {
   "cell_type": "code",
   "execution_count": 677,
   "id": "448b3e3c-f449-46d8-9f00-9bca378322a2",
   "metadata": {},
   "outputs": [
    {
     "data": {
      "text/plain": [
       "'0240'"
      ]
     },
     "execution_count": 677,
     "metadata": {},
     "output_type": "execute_result"
    }
   ],
   "source": [
    "mult('60', '03', 7)"
   ]
  },
  {
   "cell_type": "code",
   "execution_count": 678,
   "id": "8210958e-c0d0-4f9b-a524-cac57c2d7dc0",
   "metadata": {},
   "outputs": [
    {
     "data": {
      "text/plain": [
       "'0060'"
      ]
     },
     "execution_count": 678,
     "metadata": {},
     "output_type": "execute_result"
    }
   ],
   "source": [
    "mult('20', '03', 7)"
   ]
  },
  {
   "cell_type": "markdown",
   "id": "b81fa51d-fe0d-4f2b-bd2d-5ffc56c4f4ca",
   "metadata": {},
   "source": [
    "## Conversion"
   ]
  },
  {
   "cell_type": "markdown",
   "id": "d04ee036-733e-421d-9661-f0136f6929a3",
   "metadata": {},
   "source": [
    "Testing the implementation."
   ]
  },
  {
   "cell_type": "markdown",
   "id": "76f81423-0caa-4d48-bf5c-4e7b0a953f5e",
   "metadata": {},
   "source": [
    "Let's convert $11201_3$ in base 3 to the same number in base 7, using the implementation.\n",
    "\n",
    "$((((1 \\times 3 + 1) \\times 3 + 2) \\times 3 + 0) \\times 3 + 1)$"
   ]
  },
  {
   "cell_type": "code",
   "execution_count": 733,
   "id": "a5b8f149-5705-4e8f-a15e-d6b551b6f81e",
   "metadata": {},
   "outputs": [],
   "source": [
    "BaseSour='03'\n",
    "BaseDest=7"
   ]
  },
  {
   "cell_type": "code",
   "execution_count": 734,
   "id": "8a929456-1554-4c70-87d6-f7186372667a",
   "metadata": {},
   "outputs": [
    {
     "data": {
      "text/plain": [
       "'0003'"
      ]
     },
     "execution_count": 734,
     "metadata": {},
     "output_type": "execute_result"
    }
   ],
   "source": [
    "a = mult('01', BaseSour, BaseDest)\n",
    "a"
   ]
  },
  {
   "cell_type": "code",
   "execution_count": 735,
   "id": "d1e0d9cd-ca04-4724-9e5c-81f8eba1fafa",
   "metadata": {},
   "outputs": [
    {
     "data": {
      "text/plain": [
       "'0004'"
      ]
     },
     "execution_count": 735,
     "metadata": {},
     "output_type": "execute_result"
    }
   ],
   "source": [
    "result = adit('0001', a, BaseDest)\n",
    "result"
   ]
  },
  {
   "cell_type": "code",
   "execution_count": 736,
   "id": "feb11d6e-364f-4706-a054-13e9609d5f8f",
   "metadata": {},
   "outputs": [
    {
     "data": {
      "text/plain": [
       "'0015'"
      ]
     },
     "execution_count": 736,
     "metadata": {},
     "output_type": "execute_result"
    }
   ],
   "source": [
    "a = mult(result[-2:], BaseSour, BaseDest)\n",
    "a"
   ]
  },
  {
   "cell_type": "code",
   "execution_count": 737,
   "id": "948e15ef-58b0-44ae-9069-123804dc2c8d",
   "metadata": {},
   "outputs": [
    {
     "data": {
      "text/plain": [
       "'0020'"
      ]
     },
     "execution_count": 737,
     "metadata": {},
     "output_type": "execute_result"
    }
   ],
   "source": [
    "result = adit('0002', a, BaseDest)\n",
    "result"
   ]
  },
  {
   "cell_type": "code",
   "execution_count": 738,
   "id": "91520488-a023-4c31-9c97-ec41e409456c",
   "metadata": {},
   "outputs": [
    {
     "data": {
      "text/plain": [
       "'0060'"
      ]
     },
     "execution_count": 738,
     "metadata": {},
     "output_type": "execute_result"
    }
   ],
   "source": [
    "a = mult(result[-2:], BaseSour, BaseDest)\n",
    "a"
   ]
  },
  {
   "cell_type": "code",
   "execution_count": 739,
   "id": "6001fde9-bfda-4829-8021-6681532225f2",
   "metadata": {},
   "outputs": [
    {
     "data": {
      "text/plain": [
       "'0060'"
      ]
     },
     "execution_count": 739,
     "metadata": {},
     "output_type": "execute_result"
    }
   ],
   "source": [
    "result = adit('0000', a, BaseDest)\n",
    "result"
   ]
  },
  {
   "cell_type": "code",
   "execution_count": 740,
   "id": "c75f4909-f46b-44c2-b9f4-14b465626660",
   "metadata": {},
   "outputs": [
    {
     "data": {
      "text/plain": [
       "'0240'"
      ]
     },
     "execution_count": 740,
     "metadata": {},
     "output_type": "execute_result"
    }
   ],
   "source": [
    "a = mult(result[-2:], BaseSour, BaseDest)\n",
    "a"
   ]
  },
  {
   "cell_type": "code",
   "execution_count": 741,
   "id": "a6f6c8d0-d441-4f05-858d-1d81f3aa582b",
   "metadata": {},
   "outputs": [
    {
     "data": {
      "text/plain": [
       "'0241'"
      ]
     },
     "execution_count": 741,
     "metadata": {},
     "output_type": "execute_result"
    }
   ],
   "source": [
    "result = adit('0001', a, BaseDest)\n",
    "result"
   ]
  },
  {
   "cell_type": "markdown",
   "id": "f3d89f93-bc08-4b5e-9608-3b1d28a991d6",
   "metadata": {},
   "source": [
    "The conversion result is $241_7$.\n",
    "\n",
    "$11201_3 = 241_7$"
   ]
  },
  {
   "cell_type": "markdown",
   "id": "27619458-3f79-4658-8494-38e4a21517ea",
   "metadata": {},
   "source": [
    "From this point on, it would be possible to create a routine to further automate the process, but what has been done so far is already enough to demonstrate the implementation and obtain the same result done manually."
   ]
  },
  {
   "cell_type": "markdown",
   "id": "034d76ba-ba38-4d4f-844b-5eb9331e77db",
   "metadata": {
    "tags": []
   },
   "source": [
    "# Conclusion"
   ]
  },
  {
   "cell_type": "markdown",
   "id": "7978a939-2734-468e-a2a3-666bfcd5e9a9",
   "metadata": {},
   "source": [
    "This work sought to show a way to convert from a numbering base to another numbering base, directly without going through the numbering base 10 or another intermediary. The conversion is made directly from the source base to the destination base, solving the equations using the destination base. For this, additions and multiplications are done directly in the target base. In the manual process, addition and multiplication tables are used to facilitate the calculation. In the implementation, the same tables are created automatically, as the implementation tries to be as close as possible to the original algorithm."
   ]
  },
  {
   "cell_type": "markdown",
   "id": "6fa6abb4-829a-4a29-aeb2-03a644542882",
   "metadata": {},
   "source": [
    "To illustrate the process, a number in base 3 was chosen to be converted to base 7, and it was solved using the manual process, and also using the implementation in code, trying to keep the same algorithm, but trying to simplify the implementation as much as possible. . The consequence of this simplification is that the code has a number of limitations. Despite this, the code is able to solve the problem presented and convert the base number 3 to 7, as was done in the manual process."
   ]
  },
  {
   "cell_type": "markdown",
   "id": "c1f2af7f-471c-4aef-86f9-7fe03b1fe81e",
   "metadata": {},
   "source": [
    "As future work, it would be interesting to improve the implementation to try to make it as generic as possible, and solve a larger number of problems with a broader number of possible bases."
   ]
  },
  {
   "cell_type": "markdown",
   "id": "6e5925cb-14aa-4be7-8f0f-697c237440a0",
   "metadata": {},
   "source": [
    "# References\n",
    "\n",
    "- RUGGIERO, M. A. G.; LOPES, V. L. D. R. Cálculo numérico: aspectos teóricos e computacionais. [S. l.]: Pearson Makron Books, 1996. vol. 1, .\n",
    "- SIMÕES, A. da S. Conversões entre Sistemas. Códigos. Circuitos Digitais I. [S. l.]: UNESP, 2011.\n",
    "- [STACKEXCHANGE. The math behind converting from any base to any base without going through base 10.](https://cs.stackexchange.com/questions/10318/the-math-behind-converting-from-any-base-to-any-base-without-going-through-base)\n",
    "- [HCCMATHHELP. Addition in Bases other than Base-10.](https://youtu.be/U-19aiF2pbg)\n",
    "- [HCCMATHHELP. Multiplication in Bases other than Base-10.](https://youtu.be/7rb6ewezE3k)\n",
    "\n"
   ]
  },
  {
   "cell_type": "code",
   "execution_count": null,
   "id": "c89231e6-e707-4034-ab98-08e68ff51b7f",
   "metadata": {},
   "outputs": [],
   "source": []
  }
 ],
 "metadata": {
  "kernelspec": {
   "display_name": "tf",
   "language": "python",
   "name": "tf"
  },
  "language_info": {
   "codemirror_mode": {
    "name": "ipython",
    "version": 3
   },
   "file_extension": ".py",
   "mimetype": "text/x-python",
   "name": "python",
   "nbconvert_exporter": "python",
   "pygments_lexer": "ipython3",
   "version": "3.10.8"
  }
 },
 "nbformat": 4,
 "nbformat_minor": 5
}
