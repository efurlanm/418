{
 "cells": [
  {
   "cell_type": "markdown",
   "id": "710de44c-eb31-461d-b045-ec64b8efe9ff",
   "metadata": {},
   "source": [
    "# HANDS-ON 03\n",
    "\n",
    "2023-04-17\n",
    "\n",
    "The hands-on has 3 Notebooks:\n",
    "\n",
    "- hands-on-03-ols.ipynb (this file)\n",
    "- hands-on-03-mlr.ipynb\n",
    "- hands-on-03-galaxy.ipynb\n",
    "\n",
    "## The Ordinary Least Squares (OLS) method\n",
    "\n",
    "The least squares method is an approach to regression analysis to bring the solution of equation systems closer, minimizing the sum of the squares of the waste made in the results of each individual equation, and the most important application is the data fitting ([Wikipedia](https://en.wikipedia.org/wiki/least_squares)).\n",
    "\n"
   ]
  },
  {
   "cell_type": "markdown",
   "id": "de3aba4a-a333-4530-ba2e-bfbbf461e1d0",
   "metadata": {},
   "source": [
    "## Linear regression model or ordinary least squares"
   ]
  },
  {
   "cell_type": "markdown",
   "id": "79bbb008-94e6-4b88-b733-cae1b7bcee14",
   "metadata": {},
   "source": [
    "Equations:"
   ]
  },
  {
   "cell_type": "markdown",
   "id": "c9c9d186-d75a-4330-9af1-eb09135f13e3",
   "metadata": {},
   "source": [
    "$ y = ax + b $\n",
    "\n",
    "$ \\displaystyle a = \\frac {\\left[\\sum_i x_i \\right] \\left[\\sum_i y_i\\right] - n \\left[\\sum_i x_i y_i \\right]}\n",
    "{\\left[\\sum_i x_i \\right]^2 - n \\left[\\sum_i x_i^2 \\right]} $\n",
    "\n",
    "$ \\displaystyle b = \\frac {\\left[\\sum_i x_i y_i \\right] \\left[\\sum_i x_i \\right] - \n",
    "\\left[\\sum_i x_i^2 \\right] \\left[\\sum_i y_i\\right]}\n",
    "{\\left[\\sum_i x_i \\right]^2 - n \\left[\\sum_i x_i^2 \\right]} $"
   ]
  },
  {
   "cell_type": "markdown",
   "id": "52e715f3-d140-4f2d-91fd-37390b984c6f",
   "metadata": {},
   "source": [
    "## Example\n",
    "\n",
    "([source](http://www2.fis.ufba.br/dfg/fis2/Minimos_quadrados_MOD.pdf))"
   ]
  },
  {
   "cell_type": "code",
   "execution_count": 1,
   "id": "715fe6b3-b294-4e0e-8329-6b83d5f9a6b2",
   "metadata": {},
   "outputs": [],
   "source": [
    "import numpy as np, matplotlib.pyplot as plt"
   ]
  },
  {
   "cell_type": "markdown",
   "id": "9cfb4a36-305b-438e-af6c-89b9e17fe362",
   "metadata": {},
   "source": [
    "Let's choose an example of points as a set that we want to adjust:"
   ]
  },
  {
   "cell_type": "markdown",
   "id": "6e133101-3be6-4538-a4c1-76da9b0aa36a",
   "metadata": {},
   "source": [
    "Show de first variable $x_i$ :"
   ]
  },
  {
   "cell_type": "code",
   "execution_count": 2,
   "id": "4cdc9bef-ca5f-4dd3-882d-ef1624c12e47",
   "metadata": {},
   "outputs": [
    {
     "data": {
      "text/plain": [
       "array([ 1,  3,  4,  6,  8,  9, 11, 14])"
      ]
     },
     "execution_count": 2,
     "metadata": {},
     "output_type": "execute_result"
    }
   ],
   "source": [
    "xi = np.array([1, 3, 4, 6, 8, 9, 11, 14])\n",
    "xi"
   ]
  },
  {
   "cell_type": "markdown",
   "id": "02b72d34-c2d7-434a-a05b-fcd6eb847580",
   "metadata": {},
   "source": [
    "Calculate the sum $ \\left[\\sum_i x_i \\right] $ :"
   ]
  },
  {
   "cell_type": "code",
   "execution_count": 3,
   "id": "685de3e9-982a-4db3-b61c-51ccb11f8240",
   "metadata": {},
   "outputs": [
    {
     "data": {
      "text/plain": [
       "8"
      ]
     },
     "execution_count": 3,
     "metadata": {},
     "output_type": "execute_result"
    }
   ],
   "source": [
    "n = xi.size\n",
    "n"
   ]
  },
  {
   "cell_type": "code",
   "execution_count": 4,
   "id": "00f72b90-72c5-4118-89e8-5eed8dafde11",
   "metadata": {},
   "outputs": [
    {
     "data": {
      "text/plain": [
       "56"
      ]
     },
     "execution_count": 4,
     "metadata": {},
     "output_type": "execute_result"
    }
   ],
   "source": [
    "sx = np.sum( xi )\n",
    "sx"
   ]
  },
  {
   "cell_type": "markdown",
   "id": "606878d0-c169-44aa-875b-1c4d9236e0d3",
   "metadata": {},
   "source": [
    "Show the second variable $ y_i $ :"
   ]
  },
  {
   "cell_type": "code",
   "execution_count": 5,
   "id": "f677604c-6854-4d86-afdf-521b4fe8a90b",
   "metadata": {},
   "outputs": [
    {
     "data": {
      "text/plain": [
       "array([1, 2, 4, 4, 5, 7, 8, 9])"
      ]
     },
     "execution_count": 5,
     "metadata": {},
     "output_type": "execute_result"
    }
   ],
   "source": [
    "yi = np.array([1, 2, 4, 4, 5, 7,  8,  9])\n",
    "yi"
   ]
  },
  {
   "cell_type": "markdown",
   "id": "6e2a80b8-c545-4974-ae41-36a8930e03c1",
   "metadata": {},
   "source": [
    "Calculate the sum $ \\left[\\sum_i y_i \\right] $ :"
   ]
  },
  {
   "cell_type": "code",
   "execution_count": 6,
   "id": "d52e0c59-d52e-4d65-9c27-72cc16512a71",
   "metadata": {},
   "outputs": [
    {
     "data": {
      "text/plain": [
       "40"
      ]
     },
     "execution_count": 6,
     "metadata": {},
     "output_type": "execute_result"
    }
   ],
   "source": [
    "sy = np.sum( yi )\n",
    "sy"
   ]
  },
  {
   "cell_type": "markdown",
   "id": "dc5cf74f-26e9-40d4-9026-73eef07e51df",
   "metadata": {},
   "source": [
    "Calculate the product of $ x_i y_i $ :"
   ]
  },
  {
   "cell_type": "code",
   "execution_count": 7,
   "id": "1a763a14-6560-4e3d-b0a9-ccbc662f52bb",
   "metadata": {},
   "outputs": [
    {
     "data": {
      "text/plain": [
       "array([  1,   6,  16,  24,  40,  63,  88, 126])"
      ]
     },
     "execution_count": 7,
     "metadata": {},
     "output_type": "execute_result"
    }
   ],
   "source": [
    "xy = xi * yi\n",
    "xy"
   ]
  },
  {
   "cell_type": "markdown",
   "id": "36ec8551-4cac-4483-a3ad-9f55480518d5",
   "metadata": {},
   "source": [
    "Calculate the sum $ \\sum_i x_i y_i $ :"
   ]
  },
  {
   "cell_type": "code",
   "execution_count": 8,
   "id": "bc2d32e4-cbf4-4c0f-9536-c2bc56fe934c",
   "metadata": {},
   "outputs": [
    {
     "data": {
      "text/plain": [
       "364"
      ]
     },
     "execution_count": 8,
     "metadata": {},
     "output_type": "execute_result"
    }
   ],
   "source": [
    "sxy = np.sum( xy )\n",
    "sxy"
   ]
  },
  {
   "cell_type": "markdown",
   "id": "3531ca2a-c5c6-4406-a003-781ff4db6c8c",
   "metadata": {},
   "source": [
    "Calculate the square $ x_i^2 $ :"
   ]
  },
  {
   "cell_type": "code",
   "execution_count": 9,
   "id": "3cf4768c-a040-46db-852e-3848f0440ba0",
   "metadata": {},
   "outputs": [
    {
     "data": {
      "text/plain": [
       "array([  1,   9,  16,  36,  64,  81, 121, 196])"
      ]
     },
     "execution_count": 9,
     "metadata": {},
     "output_type": "execute_result"
    }
   ],
   "source": [
    "x2 = xi**2\n",
    "x2"
   ]
  },
  {
   "cell_type": "markdown",
   "id": "7790c6ff-0a13-42e5-ab7b-bc7dccea7e99",
   "metadata": {},
   "source": [
    "Calculate the sum $ \\sum_i x_i^2 $ :"
   ]
  },
  {
   "cell_type": "code",
   "execution_count": 10,
   "id": "26fd09ed-da54-430c-a39c-fc40565d96ef",
   "metadata": {},
   "outputs": [
    {
     "data": {
      "text/plain": [
       "524"
      ]
     },
     "execution_count": 10,
     "metadata": {},
     "output_type": "execute_result"
    }
   ],
   "source": [
    "sx2 = np.sum( x2 )\n",
    "sx2"
   ]
  },
  {
   "cell_type": "markdown",
   "id": "599fe6f6-8654-4dc0-8c21-9c811486a0c4",
   "metadata": {},
   "source": [
    "Calculate the terms:"
   ]
  },
  {
   "cell_type": "code",
   "execution_count": 11,
   "id": "8bed2da6-58cc-42e1-891e-2dce1a8c8053",
   "metadata": {},
   "outputs": [
    {
     "data": {
      "text/plain": [
       "0.6363636363636364"
      ]
     },
     "execution_count": 11,
     "metadata": {},
     "output_type": "execute_result"
    }
   ],
   "source": [
    "a = ( sx * sy - n * sxy ) / ( sx**2 - n * sx2 )\n",
    "a"
   ]
  },
  {
   "cell_type": "code",
   "execution_count": 12,
   "id": "fe3d3e59-a40a-4195-8012-430c08178d06",
   "metadata": {},
   "outputs": [
    {
     "data": {
      "text/plain": [
       "0.5454545454545454"
      ]
     },
     "execution_count": 12,
     "metadata": {},
     "output_type": "execute_result"
    }
   ],
   "source": [
    "b = ( sxy * sx - sx2 * sy ) / ( sx**2 - n * sx2 )\n",
    "b"
   ]
  },
  {
   "cell_type": "markdown",
   "id": "ecdaca9f-87cd-46d6-b28a-af677c67f8aa",
   "metadata": {},
   "source": [
    "Solve using} the equation:"
   ]
  },
  {
   "cell_type": "code",
   "execution_count": 18,
   "id": "43000524-256f-4c6b-94f5-9320f2bbc19d",
   "metadata": {},
   "outputs": [
    {
     "data": {
      "text/plain": [
       "array([1.18181818, 2.45454545, 3.09090909, 4.36363636, 5.63636364,\n",
       "       6.27272727, 7.54545455, 9.45454545])"
      ]
     },
     "execution_count": 18,
     "metadata": {},
     "output_type": "execute_result"
    }
   ],
   "source": [
    "y = a * xi + b\n",
    "y"
   ]
  },
  {
   "cell_type": "markdown",
   "id": "c8bc2ef7-eac7-463a-bbb5-5b55269a879e",
   "metadata": {},
   "source": [
    "Plot the result:"
   ]
  },
  {
   "cell_type": "code",
   "execution_count": 23,
   "id": "b802a995-1a86-43d5-806a-d421c2343f50",
   "metadata": {},
   "outputs": [
    {
     "data": {
      "image/png": "[encoded data removed]",
      "text/plain": [
       "<Figure size 640x480 with 1 Axes>"
      ]
     },
     "metadata": {},
     "output_type": "display_data"
    }
   ],
   "source": [
    "plt.plot(xi, y)\n",
    "plt.scatter(xi, yi, color='green')\n",
    "plt.xlabel(\"x\")\n",
    "plt.ylabel(\"y\")\n",
    "plt.show()"
   ]
  },
  {
   "cell_type": "markdown",
   "id": "f9b81a72-c113-4f97-a92d-74eb1d90ca5e",
   "metadata": {},
   "source": [
    "The blue line represents the linear model that tries to approximate the data points in green."
   ]
  },
  {
   "cell_type": "markdown",
   "id": "88c64408-a8f1-4744-9b84-652dc3770078",
   "metadata": {},
   "source": [
    "# References\n",
    "\n",
    "FLOR. Método dos Mínimos Quadrados. [S. l.]: Instituto de Física | Universidade Federal da Bahia, [s. d.]. Available at: http://www2.fis.ufba.br/dfg/fis2/Minimos_quadrados_MOD.pdf. Accessed on: 10 Apr. 2023."
   ]
  },
  {
   "cell_type": "code",
   "execution_count": null,
   "id": "8db8bb24-bb74-486c-bbd0-25b3dcc5cad6",
   "metadata": {},
   "outputs": [],
   "source": []
  }
 ],
 "metadata": {
  "kernelspec": {
   "display_name": "tf",
   "language": "python",
   "name": "tf"
  },
  "language_info": {
   "codemirror_mode": {
    "name": "ipython",
    "version": 3
   },
   "file_extension": ".py",
   "mimetype": "text/x-python",
   "name": "python",
   "nbconvert_exporter": "python",
   "pygments_lexer": "ipython3",
   "version": "3.10.8"
  }
 },
 "nbformat": 4,
 "nbformat_minor": 5
}
